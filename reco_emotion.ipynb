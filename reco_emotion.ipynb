{
 "cells": [
  {
   "cell_type": "code",
   "execution_count": 8,
   "id": "5cf9ddab",
   "metadata": {},
   "outputs": [
    {
     "name": "stdout",
     "output_type": "stream",
     "text": [
      " Datentr„ger in Laufwerk C: ist Windows\n",
      " Volumeseriennummer: 7EAF-5EDE\n",
      "\n",
      " Verzeichnis von C:\\Users\\elisa\\Seminare_Python\\S_dialogsystem\n",
      "\n",
      "23.08.2021  09:13    <DIR>          .\n",
      "23.08.2021  09:13    <DIR>          ..\n",
      "16.05.2021  20:14             1.928 .gitignore\n",
      "19.08.2021  14:40    <DIR>          .ipynb_checkpoints\n",
      "29.07.2021  12:32                 0 activate_dialog_env.bat\n",
      "31.07.2021  11:22            18.746 Corona_Dialog.ipynb\n",
      "19.08.2021  13:02            21.008 Corona_Dialog_aktuell.ipynb\n",
      "02.06.2021  12:48             5.637 Corona_Dialog_Felix.ipynb\n",
      "09.08.2021  17:28            12.837 Corona_Dialog_Felix_1.ipynb\n",
      "17.08.2021  11:34            40.776 Corona_Dialog_Felix_2.0.ipynb\n",
      "17.08.2021  15:45             6.593 Corona_Dialog_mit_Sprache_Felix_2.0.ipynb\n",
      "23.08.2021  08:26            11.399 Corona_Dialog_mit_Sprache_und_Eliza_ aktuell.ipynb\n",
      "19.08.2021  12:08            10.935 Corona_mit_Sprache_aktuell.ipynb\n",
      "17.08.2021  11:34            13.288 Corona_mit_Sprache_aktuell_verfeinern.ipynb\n",
      "17.08.2021  11:34            11.478 Corona_mit_Sprache_Felix.ipynb\n",
      "30.06.2021  12:45            17.085 deutsch.txt\n",
      "03.08.2021  15:04             2.351 dialogsystem-1627986561247-c6ec7c426248.json\n",
      "28.07.2021  17:32    <DIR>          dialog_env\n",
      "19.08.2021  12:05             6.063 dialog_util.py\n",
      "17.08.2021  15:18             5.756 dialog_util_bearbeitet.py\n",
      "28.07.2021  11:25    <DIR>          eliza\n",
      "17.08.2021  15:45             3.255 eliza_test_deutsch.ipynb\n",
      "23.08.2021  08:50    <DIR>          emodb\n",
      "23.08.2021  09:06             2.360 emorec.py\n",
      "19.08.2021  14:40             2.086 Google_asr.ipynb\n",
      "23.08.2021  08:27            96.044 myfile.wav\n",
      "10.08.2021  14:49            24.384 out_synth.mp3\n",
      "16.08.2021  17:24    <DIR>          pretrained_model\n",
      "16.05.2021  20:14                54 README.md\n",
      "17.08.2021  15:56            39.253 record_play_audio_aktuell.ipynb\n",
      "10.08.2021  11:24            17.629 record_play_audio_Felix_1.ipynb\n",
      "02.06.2021  13:08             6.725 record_play_audio_felix_neu.ipynb\n",
      "23.08.2021  09:09             3.760 reco_emotion.ipynb\n",
      "23.08.2021  08:35    <DIR>          sox-14-4-2\n",
      "09.08.2021  13:11    <DIR>          speechbrain\n",
      "23.08.2021  08:57           215.854 svc_emodb_gemaps.pkl\n",
      "29.07.2021  12:20             2.842 s_dialog_elisa.ipynb\n",
      "09.08.2021  12:46                 0 thisfile.txt\n",
      "09.08.2021  12:46                 0 thisfile_hard.txt\n",
      "04.05.2021  12:54               555 Untitled.ipynb\n",
      "02.06.2021  12:46               576 Untitled1.ipynb\n",
      "23.08.2021  08:22             9.592 vaccinations.json\n",
      "18.08.2021  22:47             3.855 vaccinations_data.pkl\n",
      "09.08.2021  17:26             3.837 vaccination_data.pkl\n",
      "30.06.2021  12:46             2.494 wendel_util.py\n",
      "23.08.2021  09:07    <DIR>          __pycache__\n",
      "              36 Datei(en),        621.035 Bytes\n",
      "              10 Verzeichnis(se),  4.309.749.760 Bytes frei\n"
     ]
    }
   ],
   "source": [
    "!dir "
   ]
  },
  {
   "cell_type": "code",
   "execution_count": 5,
   "id": "f7b1e23c",
   "metadata": {},
   "outputs": [],
   "source": [
    "#!pip install sklearn\n",
    "#!pip install emorec\n",
    "#import skLearn\n",
    "import emorec"
   ]
  },
  {
   "cell_type": "code",
   "execution_count": 9,
   "id": "4ebe98ff",
   "metadata": {},
   "outputs": [],
   "source": [
    "import os\n",
    "import sounddevice as sd\n",
    "import soundfile as sf\n",
    "from scipy.io.wavfile import write\n",
    "sr = 16000  # Sample rate\n",
    "seconds = 3  # Duration of recording\n",
    "filename = 'myfile.wav'"
   ]
  },
  {
   "cell_type": "code",
   "execution_count": 10,
   "id": "8e1669ec",
   "metadata": {},
   "outputs": [],
   "source": [
    "# Playback the file\n",
    "def play_file(filename, sr):\n",
    "    data, fs = sf.read(filename)  \n",
    "    sd.play(data, sr)\n",
    "    status = sd.wait()  # Wait until file is done playing"
   ]
  },
  {
   "cell_type": "code",
   "execution_count": 11,
   "id": "e539687f",
   "metadata": {},
   "outputs": [],
   "source": [
    "def record(seconds, filename):\n",
    "    data = sd.rec(int(seconds * sr), samplerate=sr, channels=1)\n",
    "    sd.wait()  \n",
    "    write(filename, sr, data)"
   ]
  },
  {
   "cell_type": "code",
   "execution_count": 28,
   "id": "8681d341",
   "metadata": {},
   "outputs": [],
   "source": [
    "play_file(filename, sr)"
   ]
  },
  {
   "cell_type": "code",
   "execution_count": 15,
   "id": "af49c100",
   "metadata": {},
   "outputs": [],
   "source": [
    "emoRec = emorec.EmoRec()"
   ]
  },
  {
   "cell_type": "code",
   "execution_count": 20,
   "id": "ab857213",
   "metadata": {},
   "outputs": [
    {
     "data": {
      "text/plain": [
       "'happiness'"
      ]
     },
     "execution_count": 20,
     "metadata": {},
     "output_type": "execute_result"
    }
   ],
   "source": [
    "record(3, filename)\n",
    "emoRec.classify(filename)[0]"
   ]
  },
  {
   "cell_type": "code",
   "execution_count": 32,
   "id": "f3ee572a",
   "metadata": {},
   "outputs": [
    {
     "data": {
      "text/plain": [
       "'happiness'"
      ]
     },
     "execution_count": 32,
     "metadata": {},
     "output_type": "execute_result"
    }
   ],
   "source": [
    "emoRec.classify_from_micro(3)"
   ]
  },
  {
   "cell_type": "code",
   "execution_count": 34,
   "id": "2b140b3a",
   "metadata": {},
   "outputs": [
    {
     "name": "stdout",
     "output_type": "stream",
     "text": [
      "emodb thinks your emotion is happiness\n"
     ]
    }
   ],
   "source": [
    "result = emoRec.classify_from_micro(3)\n",
    "print(f'emodb thinks your emotion is {result}')"
   ]
  },
  {
   "cell_type": "code",
   "execution_count": null,
   "id": "afa3ae94",
   "metadata": {},
   "outputs": [],
   "source": []
  }
 ],
 "metadata": {
  "kernelspec": {
   "display_name": "dialog_env",
   "language": "python",
   "name": "dialog_env"
  },
  "language_info": {
   "codemirror_mode": {
    "name": "ipython",
    "version": 3
   },
   "file_extension": ".py",
   "mimetype": "text/x-python",
   "name": "python",
   "nbconvert_exporter": "python",
   "pygments_lexer": "ipython3",
   "version": "3.9.6"
  }
 },
 "nbformat": 4,
 "nbformat_minor": 5
}
