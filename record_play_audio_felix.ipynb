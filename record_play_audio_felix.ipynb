{
 "cells": [
  {
   "cell_type": "markdown",
   "id": "8ca8b86c",
   "metadata": {},
   "source": [
    "### Record an audio to file"
   ]
  },
  {
   "cell_type": "code",
   "execution_count": 2,
   "id": "77e3e284",
   "metadata": {},
   "outputs": [
    {
     "ename": "ModuleNotFoundError",
     "evalue": "No module named 'sounddevice'",
     "output_type": "error",
     "traceback": [
      "\u001b[1;31m---------------------------------------------------------------------------\u001b[0m",
      "\u001b[1;31mModuleNotFoundError\u001b[0m                       Traceback (most recent call last)",
      "\u001b[1;32m<ipython-input-2-2fec658c431f>\u001b[0m in \u001b[0;36m<module>\u001b[1;34m\u001b[0m\n\u001b[0;32m      1\u001b[0m \u001b[1;32mimport\u001b[0m \u001b[0mos\u001b[0m\u001b[1;33m\u001b[0m\u001b[1;33m\u001b[0m\u001b[0m\n\u001b[1;32m----> 2\u001b[1;33m \u001b[1;32mimport\u001b[0m \u001b[0msounddevice\u001b[0m \u001b[1;32mas\u001b[0m \u001b[0msd\u001b[0m\u001b[1;33m\u001b[0m\u001b[1;33m\u001b[0m\u001b[0m\n\u001b[0m\u001b[0;32m      3\u001b[0m \u001b[1;31m#import soundfile as sf\u001b[0m\u001b[1;33m\u001b[0m\u001b[1;33m\u001b[0m\u001b[1;33m\u001b[0m\u001b[0m\n\u001b[0;32m      4\u001b[0m \u001b[1;32mimport\u001b[0m \u001b[0mnumpy\u001b[0m \u001b[1;32mas\u001b[0m \u001b[0mnp\u001b[0m\u001b[1;33m\u001b[0m\u001b[1;33m\u001b[0m\u001b[0m\n\u001b[0;32m      5\u001b[0m \u001b[1;32mimport\u001b[0m \u001b[0mvlc\u001b[0m\u001b[1;33m\u001b[0m\u001b[1;33m\u001b[0m\u001b[0m\n",
      "\u001b[1;31mModuleNotFoundError\u001b[0m: No module named 'sounddevice'"
     ]
    }
   ],
   "source": [
    "import os\n",
    "import sounddevice as sd\n",
    "#import soundfile as sf\n",
    "import numpy as np\n",
    "import vlc\n",
    "from scipy.io.wavfile import write\n",
    "sr = 16000  # Sample rate\n",
    "seconds = 3  # Duration of recording\n",
    "filename = 'myfile.wav'"
   ]
  },
  {
   "cell_type": "code",
   "execution_count": 104,
   "id": "ff22b9e2",
   "metadata": {},
   "outputs": [],
   "source": [
    "bytearr = sd.rec(int(seconds * fs), samplerate=sr, channels=1)\n",
    "sd.wait()  # Wait until recording is finished\n",
    "# Convert `data` to 16 bit integers:\n",
    "y = (np.iinfo(np.int16).max * (bytearr/np.abs(data).max())).astype(np.int16) \n",
    "wavfile.write(filename, fs, y)"
   ]
  },
  {
   "cell_type": "code",
   "execution_count": 3,
   "id": "32ebb4f1",
   "metadata": {},
   "outputs": [],
   "source": [
    "# Playback the file\n",
    "def play_file(filename, sr):\n",
    "    data, fs = sf.read(filename)  \n",
    "    sd.play(data, sr)\n",
    "    status = sd.wait()  # Wait until file is done playing\n",
    "def play_mp3(filename):\n",
    "    p = vlc.MediaPlayer(filename)\n",
    "    p.play()"
   ]
  },
  {
   "cell_type": "code",
   "execution_count": 4,
   "id": "a770764a",
   "metadata": {},
   "outputs": [],
   "source": [
    "from pydub import AudioSegment\n",
    "from pydub.utils import mediainfo\n",
    "def mp3_to_wav(infile, outfile):\n",
    "    sr = mediainfo(infile)['sample_rate']\n",
    "    sound = AudioSegment.from_mp3(infile)\n",
    "    sound.export(outfile, format=\"wav\")\n",
    "    return sr"
   ]
  },
  {
   "cell_type": "markdown",
   "id": "55f2501b",
   "metadata": {},
   "source": [
    "### Get a German transcript from Google ASR"
   ]
  },
  {
   "cell_type": "code",
   "execution_count": 4,
   "id": "7f363146",
   "metadata": {},
   "outputs": [],
   "source": [
    "from google.cloud import speech\n",
    "import io"
   ]
  },
  {
   "cell_type": "code",
   "execution_count": 5,
   "id": "d1fb980f",
   "metadata": {},
   "outputs": [],
   "source": [
    "credentials='/home/felix/data/research/Google/AffectiveAgents-7874f11e65d6.json'\n",
    "os.environ[\"GOOGLE_APPLICATION_CREDENTIALS\"]=credentials"
   ]
  },
  {
   "cell_type": "code",
   "execution_count": 107,
   "id": "596a7fa2",
   "metadata": {},
   "outputs": [],
   "source": [
    "client = speech.SpeechClient()\n",
    "with io.open(filename, \"rb\") as audio_file:\n",
    "    content = audio_file.read()\n",
    "audio = speech.RecognitionAudio(content = content)\n",
    "config = speech.RecognitionConfig(\n",
    "    encoding=speech.RecognitionConfig.AudioEncoding.LINEAR16,\n",
    "    language_code=\"de-DE\",\n",
    ")"
   ]
  },
  {
   "cell_type": "code",
   "execution_count": 108,
   "id": "e4a56141",
   "metadata": {},
   "outputs": [
    {
     "name": "stdout",
     "output_type": "stream",
     "text": [
      "Transcript 0: AstraZeneca in Baden-Württemberg\n"
     ]
    }
   ],
   "source": [
    "response = client.recognize(config=config, audio=audio)\n",
    "for result in response.results:\n",
    "    for index, alternative in enumerate(result.alternatives):\n",
    "        print(\"Transcript {}: {}\".format(index, alternative.transcript))"
   ]
  },
  {
   "cell_type": "markdown",
   "id": "9208e37f",
   "metadata": {},
   "source": [
    "### Playback synthesized text with Google"
   ]
  },
  {
   "cell_type": "code",
   "execution_count": null,
   "id": "460956de",
   "metadata": {},
   "outputs": [],
   "source": [
    "text = 'In {} sind {} Menschen mit {} geimpft.'.format('Berlin', 123, 'Biontech')"
   ]
  },
  {
   "cell_type": "code",
   "execution_count": 5,
   "id": "93cf37eb",
   "metadata": {},
   "outputs": [],
   "source": [
    "from gtts import gTTS\n",
    "tts = gTTS(text, lang='de')\n",
    "audio_file = './out_synth.mp3'\n",
    "tts.save(audio_file)\n",
    "sr = mp3_to_wav(audio_file, 'test.wav')\n",
    "play_file('test.wav', int(sr))"
   ]
  },
  {
   "cell_type": "markdown",
   "id": "4865f5c0",
   "metadata": {},
   "source": [
    "### Playback with pytts (using espeak)"
   ]
  },
  {
   "cell_type": "code",
   "execution_count": 31,
   "id": "b8c748cd",
   "metadata": {},
   "outputs": [],
   "source": [
    "import pyttsx3\n",
    "engine = pyttsx3.init()\n",
    "engine.setProperty('voice', 'german')\n",
    "engine.setProperty('rate', 300)\n",
    "engine.say(text)\n",
    "engine.runAndWait()"
   ]
  },
  {
   "cell_type": "code",
   "execution_count": 21,
   "id": "8bf8afec",
   "metadata": {},
   "outputs": [],
   "source": [
    "voices = engine.getProperty('voices') \n",
    "for v in voices:\n",
    "    print(v)"
   ]
  },
  {
   "cell_type": "markdown",
   "id": "6bf78b95",
   "metadata": {},
   "source": [
    "### Voxpopuli (using mbrola)"
   ]
  },
  {
   "cell_type": "code",
   "execution_count": 11,
   "id": "893d6e48",
   "metadata": {},
   "outputs": [],
   "source": [
    "from voxpopuli import Voice\n",
    "voice = Voice(lang=\"de\", pitch=50, speed=200, voice_id=6)\n",
    "voice.say(text)"
   ]
  },
  {
   "cell_type": "code",
   "execution_count": null,
   "id": "3c4ebc6e",
   "metadata": {},
   "outputs": [],
   "source": []
  }
 ],
 "metadata": {
  "kernelspec": {
   "display_name": "Python 3",
   "language": "python",
   "name": "python3"
  },
  "language_info": {
   "codemirror_mode": {
    "name": "ipython",
    "version": 3
   },
   "file_extension": ".py",
   "mimetype": "text/x-python",
   "name": "python",
   "nbconvert_exporter": "python",
   "pygments_lexer": "ipython3",
   "version": "3.9.5"
  }
 },
 "nbformat": 4,
 "nbformat_minor": 5
}
