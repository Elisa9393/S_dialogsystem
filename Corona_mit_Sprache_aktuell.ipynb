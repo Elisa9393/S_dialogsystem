{
 "cells": [
  {
   "cell_type": "code",
   "execution_count": 1,
   "id": "869efff0",
   "metadata": {},
   "outputs": [],
   "source": [
    "#imports\n",
    "from google.cloud import speech\n",
    "import io\n",
    "import dialog_util as util\n",
    "import requests\n",
    "from   eliza import eliza\n",
    "\n",
    "root = \"C:/Users/elisa/Seminare_Python/S_dialogsystem\"\n",
    "elz = eliza.Eliza() #Instanz von Eliza Klasse\n",
    "elz.load(root+\"/eliza/deutsch.txt\") #use german version of Eliza"
   ]
  },
  {
   "cell_type": "code",
   "execution_count": 5,
   "id": "85a53e2b",
   "metadata": {},
   "outputs": [],
   "source": [
    "import pickle\n",
    "#output vom RKI fest gespeichert\n",
    "vaccinations = pickle.load( open( \"C:/Users/elisa/Seminare_Python/S_dialogsystem/vaccination_data.pkl\", \"rb\" ))"
   ]
  },
  {
   "cell_type": "code",
   "execution_count": 6,
   "id": "714169cd",
   "metadata": {},
   "outputs": [
    {
     "data": {
      "text/plain": [
       "<eliza.eliza.Eliza at 0x2e96833b190>"
      ]
     },
     "execution_count": 6,
     "metadata": {},
     "output_type": "execute_result"
    }
   ],
   "source": [
    "util.init_google()\n",
    "util.init_eliza()"
   ]
  },
  {
   "cell_type": "code",
   "execution_count": 8,
   "id": "251bfe5f",
   "metadata": {},
   "outputs": [
    {
     "name": "stdout",
     "output_type": "stream",
     "text": [
      "Transcript 0: moderne in Hessen\n",
      "Transcript 0: fertig\n"
     ]
    }
   ],
   "source": [
    "util.dialogmanager(elz)"
   ]
  },
  {
   "cell_type": "code",
   "execution_count": null,
   "id": "87017e5b",
   "metadata": {},
   "outputs": [],
   "source": [
    "def dialogmanager(eliza):\n",
    "    util.tts(util.phrases['hello'])\n",
    "    input_s = util.do_input() #do_input() wird aufgerufen, um sich input zu holen\n",
    "    input_s = util.normalize(input_s)\n",
    "    while input_s and input_s != 'fertig': #wenn input-string 'fertig'  ist, wird Schleife nicht ausgeführt\n",
    "        semantics = util.semantic(input_s) #funktion gibt etwas zurück\n",
    "        result = util.data(semantics, vaccinations)\n",
    "        out_string = util.output(semantics, result, input_s, eliza)\n",
    "        print(f'response > {out_string}')\n",
    "        util.tts(out_string)\n",
    "        util.tts(util.phrases['continue'])\n",
    "        input_s = util.do_input()"
   ]
  },
  {
   "cell_type": "code",
   "execution_count": null,
   "id": "cb86ebef",
   "metadata": {
    "scrolled": true
   },
   "outputs": [],
   "source": [
    "init_google()\n",
    "record_file()\n",
    "text_to_read = transcribe()\n",
    "tts(text_to_read)"
   ]
  },
  {
   "cell_type": "code",
   "execution_count": null,
   "id": "c12ffb6e",
   "metadata": {},
   "outputs": [],
   "source": [
    "#def gretting():\n",
    "        "
   ]
  },
  {
   "cell_type": "code",
   "execution_count": null,
   "id": "c98440b2",
   "metadata": {},
   "outputs": [],
   "source": [
    "#initiates the recording and the the transcription \n",
    "def speech_input():\n",
    "    record_file()\n",
    "    text_to_read = transcribe()\n",
    "    return text_to_read"
   ]
  },
  {
   "cell_type": "code",
   "execution_count": null,
   "id": "458f2e06",
   "metadata": {},
   "outputs": [],
   "source": [
    "#imports\n",
    "import os\n",
    "import sounddevice as sd\n",
    "import soundfile as sf\n",
    "import numpy as np\n",
    "from scipy.io.wavfile import write\n",
    "sr = 16000  # Sample rate\n",
    "seconds = 3  # Duration of recording\n",
    "filename = 'myfile.wav'\n",
    "\n",
    "#recording\n",
    "def record_file():\n",
    "    data = sd.rec(int(seconds * sr), samplerate=sr, channels=1)\n",
    "    sd.wait()  # Wait until recording is finished\n",
    "    # Convert `data` to 16 bit integers:\n",
    "    y = (np.iinfo(np.int16).max * (data/np.abs(data).max())).astype(np.int16) \n",
    "    write(filename, sr, y)"
   ]
  },
  {
   "cell_type": "code",
   "execution_count": null,
   "id": "1c03e563",
   "metadata": {},
   "outputs": [],
   "source": [
    "#google stt credentials\n",
    "def  init_google():\n",
    "    credentials='C:\\\\Users\\\\elisa\\\\Seminare_Python\\\\S_dialogsystem\\\\dialogsystem-1627986561247-c6ec7c426248.json'\n",
    "    os.environ[\"GOOGLE_APPLICATION_CREDENTIALS\"]=credentials"
   ]
  },
  {
   "cell_type": "code",
   "execution_count": null,
   "id": "a7195723",
   "metadata": {},
   "outputs": [],
   "source": [
    "#print the transcription with google\n",
    "def transcribe():\n",
    "    client = speech.SpeechClient()\n",
    "    with io.open(filename, \"rb\") as audio_file:\n",
    "        content = audio_file.read()\n",
    "    audio = speech.RecognitionAudio(content = content)\n",
    "    config = speech.RecognitionConfig(\n",
    "        encoding=speech.RecognitionConfig.AudioEncoding.LINEAR16,\n",
    "        language_code=\"de-DE\",\n",
    "    )\n",
    "    response = client.recognize(config=config, audio=audio)\n",
    "    for result in response.results:\n",
    "        for index, alternative in enumerate(result.alternatives):\n",
    "            print(\"Transcript {}: {}\".format(index, alternative.transcript))\n",
    "            return alternative.transcript"
   ]
  },
  {
   "cell_type": "code",
   "execution_count": null,
   "id": "3c3df99b",
   "metadata": {
    "scrolled": true
   },
   "outputs": [],
   "source": [
    "import pyttsx3\n",
    "def tts(text_to_read):\n",
    "    engine = pyttsx3.init()\n",
    "    engine.setProperty('voice', 'german')\n",
    "    engine.setProperty('rate', 200)\n",
    "    engine.say(text_to_read)\n",
    "    engine.runAndWait()   \n",
    "\n",
    "    "
   ]
  },
  {
   "cell_type": "code",
   "execution_count": null,
   "id": "a638d662",
   "metadata": {},
   "outputs": [],
   "source": [
    "#defines states in API\n",
    "states_api = {'baden':'BW', 'bayern':'BY', 'berlin':'BE', 'brandenburg':'BB', 'bremen':'HB', 'hamburg': 'HH', 'hessen': 'HE', 'mecklenburg':'MV', 'niedersachsen':'NI', 'nordrhein':'NW', 'rheinland':'RP', 'saarland':'SL', 'sachsen':'SN', 'anhalt':'SA', 'schleswig':'SH', 'thüringen':'TH'}\n",
    "#formatting for response\n",
    "states_back = {'BW':'Baden-Württemberg', 'BY':'Bayern', 'BE':'Berlin', 'BB':'Brandenburg', 'HB':'Bremen', 'HH':'Hamburg', 'HE':'Hessen', 'MV':'Mecklenburg-Vorpommern', 'NI':'Niedersachen', 'NW':'Nordrhein-Westfalen', 'SL':'Saarland', 'SN':'Sachsen', 'SA':'Sachsen-Anhalt', 'SH':'Schleswig-Holstein', 'TH':'Thüringen'}\n",
    "#defines vaccine names in API\n",
    "vaccines_api = {'biontech':'biontech', 'biontek':'biontech', 'biontec':'biontech', 'moderna':'moderna', 'astraZeneca':'astraZeneca', 'astra':'astraZeneca', 'zeneca':'astraZeneca', 'delta':'delta'}\n",
    "#formatting vaccines for respionce\n",
    "vaccines_back = {'biontech':'Biontech', 'moderna':'Moderna', 'astraZeneca':'AstraZeneca', 'delta':'Delta'}\n",
    "\n",
    "import requests\n",
    "\n",
    "#everything as lower case        \n",
    "def normalize(in_s):\n",
    "    return in_s.lower()        \n",
    "        \n",
    "def do_input():\n",
    "    return speech_input()\n",
    "\n",
    "#finds states and vaccines in input\n",
    "def semantic(input_s):\n",
    "    semantics = {'state':'', 'vaccine':''} #data structure\n",
    "    for key in states_api.keys():\n",
    "        if key in input_s:\n",
    "            semantics['state'] = states_api[key]\n",
    "    for key in vaccines_api.keys():\n",
    "        if key in input_s:\n",
    "            semantics['vaccine'] = vaccines_api[key]\n",
    "    return semantics\n",
    "\n",
    "#data from RKI API\n",
    "vaccinations = requests.get('https://api.corona-zahlen.org/vaccinations')\n",
    "def data(semantics):\n",
    "    s = semantics['state']\n",
    "    v = semantics['vaccine']\n",
    "    if s: #state given\n",
    "        if s != 'DE':\n",
    "            if v: #and vaccine given\n",
    "                vacc_number = vaccinations.json()[\"data\"][\"states\"][s][\"vaccination\"][v] #\n",
    "            else: #all vaccines for state\n",
    "                vacc_number = vaccinations.json()[\"data\"][\"states\"][s][\"vaccinated\"]\n",
    "        else:\n",
    "            if v: #and vaccine given\n",
    "                vacc_number = vaccinations.json()[\"data\"][\"vaccination\"][v]\n",
    "            else: #all vaccines in Germany\n",
    "                vacc_number = vaccinations.json()[\"data\"][\"vaccinated\"]\n",
    "    else: #no state\n",
    "        if v: #but vaccine\n",
    "            vacc_number = vaccinations.json()[\"data\"][\"vaccination\"][v]\n",
    "        else: #nothing given\n",
    "            vacc_number = None\n",
    "    return vacc_number\n",
    "\n",
    "def output(semantics, results): #fügt gut oder schlecht ein\n",
    "    ret = ''\n",
    "    s = semantics['state']\n",
    "    v = semantics['vaccine']\n",
    "    if s: #if state is given\n",
    "        s = states_back[semantics['state']]\n",
    "        if v: #vaccine also given\n",
    "            v = vaccines_back[semantics['vaccine']]\n",
    "            ret = 'Die Impfungen für {} mit {} sind {}'.format(s, v, results) #formatting\n",
    "        else: #all vaccines for states\n",
    "            ret = 'Die Impfungen für {} sind {}'.format(s, results)\n",
    "    else: #no state\n",
    "        if v: #but vaccine\n",
    "            v = vaccines_back[semantics['vaccine']]\n",
    "            ret = 'Die Impfungen in Deutschland mit {} sind {}'.format(v, results)\n",
    "        else: #nothing given\n",
    "            ret = 'Diese Frage kann ich leider nicht beantworten'\n",
    "    return ret\n",
    "        \n",
    "def do_error():\n",
    "    return 'Bitte wählen Sie ein Bundesland um die Coronazahlen zu erhalten'"
   ]
  },
  {
   "cell_type": "code",
   "execution_count": null,
   "id": "7d09b1c1",
   "metadata": {},
   "outputs": [],
   "source": [
    "vaccinations.json()\n"
   ]
  },
  {
   "cell_type": "code",
   "execution_count": null,
   "id": "94c7d19d",
   "metadata": {},
   "outputs": [],
   "source": [
    "import pickle\n",
    "pickle.dump(vaccinations.json(), open(\"vaccinations_data.pkl\",  \"wb\" ) )"
   ]
  },
  {
   "cell_type": "code",
   "execution_count": null,
   "id": "190ed239",
   "metadata": {},
   "outputs": [],
   "source": []
  }
 ],
 "metadata": {
  "kernelspec": {
   "display_name": "dialog_env",
   "language": "python",
   "name": "dialog_env"
  },
  "language_info": {
   "codemirror_mode": {
    "name": "ipython",
    "version": 3
   },
   "file_extension": ".py",
   "mimetype": "text/x-python",
   "name": "python",
   "nbconvert_exporter": "python",
   "pygments_lexer": "ipython3",
   "version": "3.9.6"
  }
 },
 "nbformat": 4,
 "nbformat_minor": 5
}
