{
 "cells": [
  {
   "cell_type": "markdown",
   "id": "d81af72e",
   "metadata": {},
   "source": [
    "# Corona Dialog  mit Sprache und Emotion\n",
    "\n",
    "### Elisa Seyfried, Praktische Anwendungen in Berufsfeldern: Dialogsystem, SS21"
   ]
  },
  {
   "cell_type": "markdown",
   "id": "8f2b87e6",
   "metadata": {},
   "source": [
    "At the beginning of the script the neccesasary libraries are being imported"
   ]
  },
  {
   "cell_type": "code",
   "execution_count": 52,
   "id": "035d5c89",
   "metadata": {},
   "outputs": [],
   "source": [
    "import requests\n",
    "from eliza import eliza\n",
    "import os\n",
    "import json\n",
    "from wendel_util import file_update\n",
    "import dialog_util as util\n",
    "import emorec\n"
   ]
  },
  {
   "cell_type": "markdown",
   "id": "0ebd3ba9",
   "metadata": {},
   "source": [
    "In the following cell the function file_update() is being accessed through the script wendel_util. The function checks if the file vaccinations.json already exists and if the last time stamp is from  today. If  it's an older version,  the newest data is downloaded from the api with the vaccination numbers. The output from the RKI is saved in the downloaded json-file and safed in the variable vaccinations."
   ]
  },
  {
   "cell_type": "code",
   "execution_count": 53,
   "id": "da426a29",
   "metadata": {},
   "outputs": [
    {
     "name": "stdout",
     "output_type": "stream",
     "text": [
      "Up To Date\n"
     ]
    }
   ],
   "source": [
    "file_update()\n",
    "vaccinations = open('vaccinations.json')\n",
    "vaccinations = json.load(vaccinations)"
   ]
  },
  {
   "cell_type": "markdown",
   "id": "6d02839d",
   "metadata": {},
   "source": [
    "In the following cell the function init_google() in the python-file dialog-util is accessed.  It initializes the Google Automatic Speech Recognition by checking the credentials. These are available by registering on the Google  Cloud and downloading the credentials as json-file."
   ]
  },
  {
   "cell_type": "code",
   "execution_count": 54,
   "id": "262a8cc6",
   "metadata": {},
   "outputs": [],
   "source": [
    "util.init_google()"
   ]
  },
  {
   "cell_type": "raw",
   "id": "5542c835",
   "metadata": {},
   "source": [
    "In the function normalize(in_s) all the input the system gets from the user is unified. This means e.g. that all the strings are represented in lower case. Other tasks of a normalization are removing stop words, lemmatization and stemming."
   ]
  },
  {
   "cell_type": "code",
   "execution_count": 55,
   "id": "025ab406",
   "metadata": {},
   "outputs": [],
   "source": [
    "def normalize(in_s):\n",
    "    return in_s.lower()"
   ]
  },
  {
   "cell_type": "markdown",
   "id": "67226cf6",
   "metadata": {},
   "source": [
    "In the following cell the funtion do_input() returns the results of the  function speech_input() that is in the dialog_util.py. The function speech_input calls the functions record_file() and transcribe(). record_file makes a recording of the user input and converts the recording to 16 bit integers. The function transcribe() accesses the recorded wav-file and uses the google automatic speech recognition to make a german transcript of the text."
   ]
  },
  {
   "cell_type": "code",
   "execution_count": 56,
   "id": "e7561666",
   "metadata": {},
   "outputs": [],
   "source": [
    "def do_input():\n",
    "    return util.speech_input()"
   ]
  },
  {
   "cell_type": "markdown",
   "id": "9b1b4d12",
   "metadata": {},
   "source": [
    "In the following cell the dictionaries states_d and vaccines_d in dialog_util are accessed. It finds the keys in the input  through comparing them with the keys in the dictionary. When a keyword is found, the loop stops."
   ]
  },
  {
   "cell_type": "code",
   "execution_count": 57,
   "id": "350ec029",
   "metadata": {},
   "outputs": [],
   "source": [
    "def semantic(input_s):\n",
    "    semantics = {'state':'', 'vaccine':'', 'answer':0} #data structure\n",
    "    for key in util.states_d.keys():\n",
    "        if key in input_s:\n",
    "            semantics['state'] = util.states_d[key]\n",
    "    for key in util.vaccines_d.keys():\n",
    "        if key in input_s:\n",
    "            semantics['vaccine'] = util.vaccines_d[key]\n",
    "    return semantics"
   ]
  },
  {
   "cell_type": "markdown",
   "id": "b8dc715a",
   "metadata": {},
   "source": [
    "In the following cell the data from the RKI API is accessed and the required information is extracted. It fills the answer, gets the input from RKI and fills the semantic object"
   ]
  },
  {
   "cell_type": "code",
   "execution_count": 58,
   "id": "659f5afb",
   "metadata": {},
   "outputs": [],
   "source": [
    "def data(semantics):\n",
    "    s = semantics['state']\n",
    "    v = semantics['vaccine']\n",
    "    if s: #state given\n",
    "        if s != 'DE':\n",
    "            if v: #and vaccine given\n",
    "                semantics['answer'] = vaccinations[\"data\"][\"states\"][s][\"vaccination\"][v] \n",
    "            else: #all vaccines for state\n",
    "                semantics['answer'] = vaccinations[\"data\"][\"states\"][s][\"vaccinated\"]\n",
    "        else:\n",
    "            if v: #and vaccine given\n",
    "                semantics['answer'] = vaccinations[\"data\"][\"vaccination\"][v]\n",
    "            else: #all vaccines in Germany\n",
    "                semantics['answer'] = vaccinations[\"data\"][\"vaccinated\"]\n",
    "    else: #no state\n",
    "        if v: #but vaccine\n",
    "            semantics['answer'] = vaccinations[\"data\"][\"vaccination\"][v]\n",
    "        else: #nothing given\n",
    "            semantics['answer'] = None\n",
    "    return semantics"
   ]
  },
  {
   "cell_type": "markdown",
   "id": "dc149d16",
   "metadata": {},
   "source": [
    "The function in the following cell gives out the results and output string and returns it as text."
   ]
  },
  {
   "cell_type": "code",
   "execution_count": 59,
   "id": "78e00d18",
   "metadata": {},
   "outputs": [],
   "source": [
    "def output(semantics, inputs): #fügt gut oder schlecht ein\n",
    "    ret = ''\n",
    "    s = semantics['state']\n",
    "    v = semantics['vaccine']\n",
    "    a = semantics['answer']\n",
    "    if s: #if state is given\n",
    "        s = util.state_names[s]\n",
    "        if v: #vaccine also given\n",
    "            v = util.vaccine_names[v]\n",
    "            ret = 'Die Impfungen für {} mit {} sind {}'.format(s, v, a) #formatting\n",
    "        else: #all vaccines for states\n",
    "            ret = 'Die Impfungen für {} sind {}'.format(s, a)\n",
    "    else: #no state\n",
    "        if v: #but vaccine\n",
    "            v = util.vaccine_names[v]\n",
    "            ret = 'Die Impfungen in Deutschland mit {} sind {}'.format(v, a)\n",
    "        else: #nothing given\n",
    "            #ret = 'Diese Frage kann ich leider nicht beantworten'\n",
    "            ret = elz.respond(inputs) #output\n",
    "    return ret\n",
    "    \n",
    "#def do_error():\n",
    " #   return 'Bitte wählen Sie ein Bundesland um die Coronazahlen zu erhalten'"
   ]
  },
  {
   "cell_type": "markdown",
   "id": "7c8da555",
   "metadata": {},
   "source": [
    "In the following cell eliza is initialized by accessing the deutsch.txt in directory. The deutsch.txt contains all posssible utterances of eliza in German."
   ]
  },
  {
   "cell_type": "code",
   "execution_count": 60,
   "id": "0389b1b8",
   "metadata": {},
   "outputs": [],
   "source": [
    "def init_eliza():\n",
    "    root = \"C:/Users/elisa/Seminare_Python/S_dialogsystem\"\n",
    "    elz = eliza.Eliza() #instance of eliza class\n",
    "    elz.load(root+\"/eliza/deutsch.txt\") \n",
    "    return elz"
   ]
  },
  {
   "cell_type": "markdown",
   "id": "77362f4d",
   "metadata": {},
   "source": [
    "The following cell initializes the speech synthesis. It prints the output and acesses the function tts(text) in dialog_util.py. The  Text-to-Speech used here is pytts from espeak. The voice, the language and the  speech rate can be chosen. "
   ]
  },
  {
   "cell_type": "code",
   "execution_count": 61,
   "id": "8bc648e9",
   "metadata": {},
   "outputs": [],
   "source": [
    "def output_s(text):\n",
    "    print('output: '+text)\n",
    "    util.tts(text)"
   ]
  },
  {
   "cell_type": "markdown",
   "id": "cabf035f",
   "metadata": {},
   "source": [
    "In the following dictionary the categories of the  emotion recognition are being defined in a dictionary to translate them into German for the output."
   ]
  },
  {
   "cell_type": "code",
   "execution_count": 62,
   "id": "fdddba10",
   "metadata": {},
   "outputs": [],
   "source": [
    "emo_dict = {'happiness': 'freundlich', 'neutral': 'neutral', 'anger': 'ärgerlich', 'sadness': 'traurig', 'disgust': 'angeekelt', 'fear': 'ängstlich', 'boredom': 'gelangweilt'}"
   ]
  },
  {
   "cell_type": "markdown",
   "id": "54109ea6",
   "metadata": {},
   "source": [
    "In the following cell is the function dialogmanager(), which gives the output \"Frag was\" to initialize the dialog, then it accesses do_input() and gets the input there. In the next step  in normalizes the input. In a while-loop, which stops when input string \"fertig\" is inserted, the emotional recognizer is initiated and integrated in the output. Then semantics is defined which returns the data. Also the output and input are accessed."
   ]
  },
  {
   "cell_type": "code",
   "execution_count": 147,
   "id": "80089bac",
   "metadata": {},
   "outputs": [],
   "source": [
    "def dialogmanager():\n",
    "    output_s(\"Frag was!\")\n",
    "    input_s = do_input() \n",
    "    input_s = normalize(input_s)\n",
    "    while input_s and input_s != 'tschüss': \n",
    "        emotion = emoRec.classify(filename)[0]\n",
    "        emotion_g = emo_dict[emotion]\n",
    "        output_s('Ich merke du bist '+emotion_g)\n",
    "        semantics = semantic(input_s) #function returns input_s\n",
    "        semantics = data(semantics)\n",
    "        out_string = output(semantics, input_s)\n",
    "        output_s(out_string)\n",
    "        input_s = do_input()\n",
    "        input_s = normalize(input_s)\n",
    "        \n",
    "    "
   ]
  },
  {
   "cell_type": "markdown",
   "id": "78a8fe7d",
   "metadata": {},
   "source": [
    "The following cell calls the functions init_eliza(), emorec.Emorec() and dialogmanager and starts the whole dialog."
   ]
  },
  {
   "cell_type": "code",
   "execution_count": 148,
   "id": "59d89b81",
   "metadata": {},
   "outputs": [
    {
     "name": "stdout",
     "output_type": "stream",
     "text": [
      "output: Frag was!\n",
      "Transcript 0: Denso\n",
      "output: Ich merke du bist traurig\n",
      "output: Ich bin nicht sicher, ob ich dich verstanden habe.\n"
     ]
    },
    {
     "ename": "AttributeError",
     "evalue": "'NoneType' object has no attribute 'lower'",
     "output_type": "error",
     "traceback": [
      "\u001b[1;31m---------------------------------------------------------------------------\u001b[0m",
      "\u001b[1;31mAttributeError\u001b[0m                            Traceback (most recent call last)",
      "\u001b[1;32m~\\AppData\\Local\\Temp/ipykernel_7248/2427340353.py\u001b[0m in \u001b[0;36m<module>\u001b[1;34m\u001b[0m\n\u001b[0;32m      2\u001b[0m \u001b[0melz\u001b[0m \u001b[1;33m=\u001b[0m \u001b[0minit_eliza\u001b[0m\u001b[1;33m(\u001b[0m\u001b[1;33m)\u001b[0m\u001b[1;33m\u001b[0m\u001b[1;33m\u001b[0m\u001b[0m\n\u001b[0;32m      3\u001b[0m \u001b[0memoRec\u001b[0m \u001b[1;33m=\u001b[0m \u001b[0memorec\u001b[0m\u001b[1;33m.\u001b[0m\u001b[0mEmoRec\u001b[0m\u001b[1;33m(\u001b[0m\u001b[1;33m)\u001b[0m\u001b[1;33m\u001b[0m\u001b[1;33m\u001b[0m\u001b[0m\n\u001b[1;32m----> 4\u001b[1;33m \u001b[0mdialogmanager\u001b[0m\u001b[1;33m(\u001b[0m\u001b[1;33m)\u001b[0m\u001b[1;33m\u001b[0m\u001b[1;33m\u001b[0m\u001b[0m\n\u001b[0m\u001b[0;32m      5\u001b[0m \u001b[1;33m\u001b[0m\u001b[0m\n",
      "\u001b[1;32m~\\AppData\\Local\\Temp/ipykernel_7248/1646294572.py\u001b[0m in \u001b[0;36mdialogmanager\u001b[1;34m()\u001b[0m\n\u001b[0;32m     13\u001b[0m             \u001b[0moutput_s\u001b[0m\u001b[1;33m(\u001b[0m\u001b[0mout_string\u001b[0m\u001b[1;33m)\u001b[0m\u001b[1;33m\u001b[0m\u001b[1;33m\u001b[0m\u001b[0m\n\u001b[0;32m     14\u001b[0m             \u001b[0minput_s\u001b[0m \u001b[1;33m=\u001b[0m \u001b[0mdo_input\u001b[0m\u001b[1;33m(\u001b[0m\u001b[1;33m)\u001b[0m\u001b[1;33m\u001b[0m\u001b[1;33m\u001b[0m\u001b[0m\n\u001b[1;32m---> 15\u001b[1;33m             \u001b[0minput_s\u001b[0m \u001b[1;33m=\u001b[0m \u001b[0mnormalize\u001b[0m\u001b[1;33m(\u001b[0m\u001b[0minput_s\u001b[0m\u001b[1;33m)\u001b[0m\u001b[1;33m\u001b[0m\u001b[1;33m\u001b[0m\u001b[0m\n\u001b[0m\u001b[0;32m     16\u001b[0m \u001b[1;33m\u001b[0m\u001b[0m\n\u001b[0;32m     17\u001b[0m \u001b[1;33m\u001b[0m\u001b[0m\n",
      "\u001b[1;32m~\\AppData\\Local\\Temp/ipykernel_7248/3145047226.py\u001b[0m in \u001b[0;36mnormalize\u001b[1;34m(in_s)\u001b[0m\n\u001b[0;32m      1\u001b[0m \u001b[1;32mdef\u001b[0m \u001b[0mnormalize\u001b[0m\u001b[1;33m(\u001b[0m\u001b[0min_s\u001b[0m\u001b[1;33m)\u001b[0m\u001b[1;33m:\u001b[0m\u001b[1;33m\u001b[0m\u001b[1;33m\u001b[0m\u001b[0m\n\u001b[1;32m----> 2\u001b[1;33m     \u001b[1;32mreturn\u001b[0m \u001b[0min_s\u001b[0m\u001b[1;33m.\u001b[0m\u001b[0mlower\u001b[0m\u001b[1;33m(\u001b[0m\u001b[1;33m)\u001b[0m\u001b[1;33m\u001b[0m\u001b[1;33m\u001b[0m\u001b[0m\n\u001b[0m",
      "\u001b[1;31mAttributeError\u001b[0m: 'NoneType' object has no attribute 'lower'"
     ]
    }
   ],
   "source": [
    "filename = 'myfile.wav'\n",
    "elz = init_eliza()\n",
    "emoRec = emorec.EmoRec()\n",
    "dialogmanager()\n",
    "\n"
   ]
  },
  {
   "cell_type": "code",
   "execution_count": null,
   "id": "da321b73",
   "metadata": {},
   "outputs": [],
   "source": []
  },
  {
   "cell_type": "code",
   "execution_count": null,
   "id": "084fd908",
   "metadata": {},
   "outputs": [],
   "source": []
  }
 ],
 "metadata": {
  "kernelspec": {
   "display_name": "dialog_env",
   "language": "python",
   "name": "dialog_env"
  },
  "language_info": {
   "codemirror_mode": {
    "name": "ipython",
    "version": 3
   },
   "file_extension": ".py",
   "mimetype": "text/x-python",
   "name": "python",
   "nbconvert_exporter": "python",
   "pygments_lexer": "ipython3",
   "version": "3.9.6"
  }
 },
 "nbformat": 4,
 "nbformat_minor": 5
}
