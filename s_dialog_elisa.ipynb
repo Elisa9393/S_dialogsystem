{
 "cells": [
  {
   "cell_type": "markdown",
   "id": "93124c2d",
   "metadata": {},
   "source": [
    "# Seminar Dialogsysteme\n",
    "von Elisa Seyfried\n"
   ]
  },
  {
   "cell_type": "code",
   "execution_count": 3,
   "id": "54452986",
   "metadata": {},
   "outputs": [],
   "source": [
    "def dialogmanager():\n",
    "    input_s = do_input()\n",
    "    semantics = semantics(input_s)\n",
    "    result = data(semantics)\n",
    "    O_out = output(result)\n",
    "    print(O_out)"
   ]
  },
  {
   "cell_type": "code",
   "execution_count": 6,
   "id": "d4f941eb",
   "metadata": {},
   "outputs": [],
   "source": [
    "def do_input():\n",
    "    return 'this is my input'"
   ]
  },
  {
   "cell_type": "code",
   "execution_count": 9,
   "id": "0f3e16d6",
   "metadata": {},
   "outputs": [],
   "source": [
    "def output():\n",
    "    return 'Das Wetter ist {}'.format(results)\n",
    "    "
   ]
  },
  {
   "cell_type": "code",
   "execution_count": 10,
   "id": "9201b039",
   "metadata": {},
   "outputs": [],
   "source": [
    "def semantics(input_s):\n",
    "    if input_s[0] == 'a':\n",
    "        return 'x'\n",
    "    else:\n",
    "        return 'y'\n",
    "    \n",
    "    "
   ]
  },
  {
   "cell_type": "code",
   "execution_count": 11,
   "id": "81250ece",
   "metadata": {},
   "outputs": [],
   "source": [
    "def data(semantics):\n",
    "    if semantics[0] == 'x':\n",
    "        return 'gut'\n",
    "    else:\n",
    "        return 'schlecht'"
   ]
  },
  {
   "cell_type": "code",
   "execution_count": 12,
   "id": "8097f353",
   "metadata": {},
   "outputs": [
    {
     "ename": "NameError",
     "evalue": "name 'dialogmanager' is not defined",
     "output_type": "error",
     "traceback": [
      "\u001b[1;31m---------------------------------------------------------------------------\u001b[0m",
      "\u001b[1;31mNameError\u001b[0m                                 Traceback (most recent call last)",
      "\u001b[1;32m<ipython-input-12-7e0404af9790>\u001b[0m in \u001b[0;36m<module>\u001b[1;34m\u001b[0m\n\u001b[1;32m----> 1\u001b[1;33m \u001b[0mdialogmanager\u001b[0m\u001b[1;33m(\u001b[0m\u001b[1;33m)\u001b[0m\u001b[1;33m\u001b[0m\u001b[1;33m\u001b[0m\u001b[0m\n\u001b[0m",
      "\u001b[1;31mNameError\u001b[0m: name 'dialogmanager' is not defined"
     ]
    }
   ],
   "source": [
    "dialogmanager()"
   ]
  }
 ],
 "metadata": {
  "kernelspec": {
   "display_name": "Python 3 (ipykernel)",
   "language": "python",
   "name": "python3"
  },
  "language_info": {
   "codemirror_mode": {
    "name": "ipython",
    "version": 3
   },
   "file_extension": ".py",
   "mimetype": "text/x-python",
   "name": "python",
   "nbconvert_exporter": "python",
   "pygments_lexer": "ipython3",
   "version": "3.9.6"
  }
 },
 "nbformat": 4,
 "nbformat_minor": 5
}
