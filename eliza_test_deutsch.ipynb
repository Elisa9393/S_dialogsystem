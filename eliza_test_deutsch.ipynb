{
 "cells": [
  {
   "cell_type": "markdown",
   "id": "3c4956b8",
   "metadata": {},
   "source": [
    "# Eliza Test"
   ]
  },
  {
   "cell_type": "code",
   "execution_count": 1,
   "id": "063106a4",
   "metadata": {},
   "outputs": [],
   "source": [
    "#import other (eliza.py) code \n",
    "from eliza import eliza"
   ]
  },
  {
   "cell_type": "code",
   "execution_count": 2,
   "id": "8819e448",
   "metadata": {},
   "outputs": [
    {
     "name": "stdout",
     "output_type": "stream",
     "text": [
      " Datentr„ger in Laufwerk C: ist Windows\n",
      " Volumeseriennummer: 7EAF-5EDE\n",
      "\n",
      " Verzeichnis von C:\\Users\\elisa\\Seminare_Python\\S_dialogsystem\\eliza\n",
      "\n",
      "28.07.2021  11:25    <DIR>          .\n",
      "28.07.2021  11:25    <DIR>          ..\n",
      "17.05.2021  16:09                22 .gitignore\n",
      "16.06.2021  13:32            17.576 deutsch.txt\n",
      "17.05.2021  16:09            12.290 doctor.txt\n",
      "19.05.2021  12:49             8.028 eliza.py\n",
      "17.05.2021  16:09             1.091 LICENSE\n",
      "17.05.2021  16:09         1.219.320 p36-weizenabaum.pdf\n",
      "17.05.2021  16:09             1.028 README.md\n",
      "17.05.2021  16:09             6.751 test_eliza.py\n",
      "28.07.2021  11:25    <DIR>          __pycache__\n",
      "               8 Datei(en),      1.266.106 Bytes\n",
      "               3 Verzeichnis(se),  9.558.310.912 Bytes frei\n"
     ]
    }
   ],
   "source": [
    "!dir eliza"
   ]
  },
  {
   "cell_type": "code",
   "execution_count": 3,
   "id": "7d026395",
   "metadata": {},
   "outputs": [],
   "source": [
    "#load deutsch.txt (Text)\n",
    "root = \"C:/Users/elisa/Seminare_Python/S_dialogsystem\"\n",
    "elz = eliza.Eliza() #Instanz von Eliza Klasse\n",
    "elz.load(root+\"/eliza/deutsch.txt\") #use german version of Eliza"
   ]
  },
  {
   "cell_type": "code",
   "execution_count": null,
   "id": "3e19cd20",
   "metadata": {},
   "outputs": [],
   "source": [
    "#initial from Eliza\n",
    "print(elz.initial())\n",
    "while True:     #Endlosschleife (loop), wird immer weitergeführt, wenn es wahr ist\n",
    "    said = input('> ') #eingebaute input-funktion bei python\n",
    "    if said =='stop':   #dann aufhören\n",
    "        break      #Schleife  wird verlassen\n",
    "    response = elz.respond(said) #output\n",
    "    if response is None:\n",
    "        break\n",
    "    print(response)\n",
    "print(elz.final())"
   ]
  },
  {
   "cell_type": "code",
   "execution_count": null,
   "id": "b5fd9b02",
   "metadata": {},
   "outputs": [],
   "source": [
    "dir"
   ]
  },
  {
   "cell_type": "code",
   "execution_count": null,
   "id": "da8144b3",
   "metadata": {},
   "outputs": [],
   "source": []
  }
 ],
 "metadata": {
  "kernelspec": {
   "display_name": "Python 3 (ipykernel)",
   "language": "python",
   "name": "python3"
  },
  "language_info": {
   "codemirror_mode": {
    "name": "ipython",
    "version": 3
   },
   "file_extension": ".py",
   "mimetype": "text/x-python",
   "name": "python",
   "nbconvert_exporter": "python",
   "pygments_lexer": "ipython3",
   "version": "3.9.6"
  }
 },
 "nbformat": 4,
 "nbformat_minor": 5
}
