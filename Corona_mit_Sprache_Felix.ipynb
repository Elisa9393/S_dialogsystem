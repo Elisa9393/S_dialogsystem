{
 "cells": [
  {
   "cell_type": "code",
   "execution_count": 1,
   "id": "96747b9c",
   "metadata": {},
   "outputs": [],
   "source": [
    "# imports\n",
    "from google.cloud import speech\n",
    "import io\n"
   ]
  },
  {
   "cell_type": "code",
   "execution_count": 14,
   "id": "9c3c7a82",
   "metadata": {},
   "outputs": [
    {
     "ename": "AttributeError",
     "evalue": "'NoneType' object has no attribute 'lower'",
     "output_type": "error",
     "traceback": [
      "\u001b[1;31m---------------------------------------------------------------------------\u001b[0m",
      "\u001b[1;31mAttributeError\u001b[0m                            Traceback (most recent call last)",
      "\u001b[1;32m~\\AppData\\Local\\Temp/ipykernel_8984/2849869716.py\u001b[0m in \u001b[0;36m<module>\u001b[1;34m\u001b[0m\n\u001b[1;32m----> 1\u001b[1;33m \u001b[0mdialogmanager\u001b[0m\u001b[1;33m(\u001b[0m\u001b[1;33m)\u001b[0m\u001b[1;33m\u001b[0m\u001b[1;33m\u001b[0m\u001b[0m\n\u001b[0m",
      "\u001b[1;32m~\\AppData\\Local\\Temp/ipykernel_8984/316836824.py\u001b[0m in \u001b[0;36mdialogmanager\u001b[1;34m()\u001b[0m\n\u001b[0;32m     19\u001b[0m \u001b[1;32mdef\u001b[0m \u001b[0mdialogmanager\u001b[0m\u001b[1;33m(\u001b[0m\u001b[1;33m)\u001b[0m\u001b[1;33m:\u001b[0m\u001b[1;33m\u001b[0m\u001b[1;33m\u001b[0m\u001b[0m\n\u001b[0;32m     20\u001b[0m     \u001b[0minput_s\u001b[0m \u001b[1;33m=\u001b[0m \u001b[0mdo_input\u001b[0m\u001b[1;33m(\u001b[0m\u001b[1;33m)\u001b[0m\u001b[1;33m\u001b[0m\u001b[1;33m\u001b[0m\u001b[0m\n\u001b[1;32m---> 21\u001b[1;33m     \u001b[0minput_s\u001b[0m \u001b[1;33m=\u001b[0m \u001b[0mnormalize\u001b[0m\u001b[1;33m(\u001b[0m\u001b[0minput_s\u001b[0m\u001b[1;33m)\u001b[0m\u001b[1;33m\u001b[0m\u001b[1;33m\u001b[0m\u001b[0m\n\u001b[0m\u001b[0;32m     22\u001b[0m     \u001b[1;32mwhile\u001b[0m \u001b[0minput_s\u001b[0m \u001b[1;32mand\u001b[0m \u001b[0minput_s\u001b[0m \u001b[1;33m!=\u001b[0m \u001b[1;34m'fertig'\u001b[0m\u001b[1;33m:\u001b[0m\u001b[1;33m\u001b[0m\u001b[1;33m\u001b[0m\u001b[0m\n\u001b[0;32m     23\u001b[0m         \u001b[0msemantics\u001b[0m \u001b[1;33m=\u001b[0m \u001b[0msemantic\u001b[0m\u001b[1;33m(\u001b[0m\u001b[0minput_s\u001b[0m\u001b[1;33m)\u001b[0m\u001b[1;33m\u001b[0m\u001b[1;33m\u001b[0m\u001b[0m\n",
      "\u001b[1;32m~\\AppData\\Local\\Temp/ipykernel_8984/316836824.py\u001b[0m in \u001b[0;36mnormalize\u001b[1;34m(in_s)\u001b[0m\n\u001b[0;32m     28\u001b[0m \u001b[1;33m\u001b[0m\u001b[0m\n\u001b[0;32m     29\u001b[0m \u001b[1;32mdef\u001b[0m \u001b[0mnormalize\u001b[0m\u001b[1;33m(\u001b[0m\u001b[0min_s\u001b[0m\u001b[1;33m)\u001b[0m\u001b[1;33m:\u001b[0m\u001b[1;33m\u001b[0m\u001b[1;33m\u001b[0m\u001b[0m\n\u001b[1;32m---> 30\u001b[1;33m     \u001b[1;32mreturn\u001b[0m \u001b[0min_s\u001b[0m\u001b[1;33m.\u001b[0m\u001b[0mlower\u001b[0m\u001b[1;33m(\u001b[0m\u001b[1;33m)\u001b[0m\u001b[1;33m\u001b[0m\u001b[1;33m\u001b[0m\u001b[0m\n\u001b[0m\u001b[0;32m     31\u001b[0m \u001b[1;33m\u001b[0m\u001b[0m\n\u001b[0;32m     32\u001b[0m \u001b[1;32mdef\u001b[0m \u001b[0mdo_input\u001b[0m\u001b[1;33m(\u001b[0m\u001b[1;33m)\u001b[0m\u001b[1;33m:\u001b[0m\u001b[1;33m\u001b[0m\u001b[1;33m\u001b[0m\u001b[0m\n",
      "\u001b[1;31mAttributeError\u001b[0m: 'NoneType' object has no attribute 'lower'"
     ]
    }
   ],
   "source": [
    "dialogmanager()"
   ]
  },
  {
   "cell_type": "code",
   "execution_count": 13,
   "id": "e0d301dd",
   "metadata": {},
   "outputs": [
    {
     "name": "stdout",
     "output_type": "stream",
     "text": [
      "Transcript 0: Derna in Hessen\n"
     ]
    }
   ],
   "source": [
    "init_google()\n",
    "record_file()\n",
    "text = transcribe()\n",
    "tts(text)"
   ]
  },
  {
   "cell_type": "code",
   "execution_count": 2,
   "id": "c45244cd",
   "metadata": {},
   "outputs": [],
   "source": [
    "def speech_input():\n",
    "    record_file()\n",
    "    text = transcribe()\n",
    "    return text"
   ]
  },
  {
   "cell_type": "code",
   "execution_count": 3,
   "id": "18c9416d",
   "metadata": {},
   "outputs": [],
   "source": [
    "import os\n",
    "import sounddevice as sd\n",
    "import soundfile as sf\n",
    "import numpy as np\n",
    "from scipy.io.wavfile import write\n",
    "sr = 16000  # Sample rate\n",
    "seconds = 3  # Duration of recording\n",
    "filename = 'myfile.wav'\n",
    "\n",
    "def record_file():\n",
    "    data = sd.rec(int(seconds * sr), samplerate=sr, channels=1)\n",
    "    sd.wait()  # Wait until recording is finished\n",
    "    # Convert `data` to 16 bit integers:\n",
    "    y = (np.iinfo(np.int16).max * (data/np.abs(data).max())).astype(np.int16) \n",
    "    write(filename, sr, y)"
   ]
  },
  {
   "cell_type": "code",
   "execution_count": 10,
   "id": "a5e4ca57",
   "metadata": {},
   "outputs": [],
   "source": [
    "def init_google():\n",
    "    credentials='C:\\\\Users\\\\elisa\\\\Seminare_Python\\\\S_dialogsystem\\\\dialogsystem-1627986561247-c6ec7c426248.json'\n",
    "    os.environ[\"GOOGLE_APPLICATION_CREDENTIALS\"]=credentials"
   ]
  },
  {
   "cell_type": "code",
   "execution_count": 6,
   "id": "ae108d60",
   "metadata": {},
   "outputs": [],
   "source": [
    "def transcribe():\n",
    "    client = speech.SpeechClient()\n",
    "    with io.open(filename, \"rb\") as audio_file:\n",
    "        content = audio_file.read()\n",
    "    audio = speech.RecognitionAudio(content = content)\n",
    "    config = speech.RecognitionConfig(\n",
    "        encoding=speech.RecognitionConfig.AudioEncoding.LINEAR16,\n",
    "        language_code=\"de-DE\",\n",
    "    )\n",
    "    response = client.recognize(config=config, audio=audio)\n",
    "    for result in response.results:\n",
    "        for index, alternative in enumerate(result.alternatives):\n",
    "            print(\"Transcript {}: {}\".format(index, alternative.transcript))\n",
    "            return alternative.transcript\n",
    "            "
   ]
  },
  {
   "cell_type": "code",
   "execution_count": 12,
   "id": "69d4f10d",
   "metadata": {},
   "outputs": [],
   "source": [
    "import pyttsx3\n",
    "def tts(text_to_read):\n",
    "    engine = pyttsx3.init()\n",
    "    engine.setProperty('voice', 'german')\n",
    "    engine.setProperty('rate', 200)\n",
    "    engine.say(text_to_read)\n",
    "    engine.runAndWait()  "
   ]
  },
  {
   "cell_type": "code",
   "execution_count": 8,
   "id": "1f4c3bf8",
   "metadata": {},
   "outputs": [],
   "source": [
    "states_d = {'schleswig':'SH', 'hamburg':'HH', 'berlin':'BE', 'bayern':'BY', \n",
    "            'niedersachsen': 'NI', 'bremen': 'HB', \n",
    "            'nordrhein':'NW', 'hessen':'HE', 'rheinland':'RP', 'baden':'BW', \n",
    "            'saarland': 'SL', 'brandenburg':'BB', 'mecklenburg':'MV', 'sachsen':'SN',\n",
    "            'anhalt':'ST', 'thüringen':'TH', 'deutschland':'DE', 'hier':'DE'}\n",
    "state_names = {'SH':'Schleswig-Hostein', 'HH':'Hamburg', 'BE':'Berlin', 'BY':'Bayern', \n",
    "            'NI':'Niedersachsen', 'HB':'Bremen', \n",
    "            'NW': 'Nordrhein Westphalen', 'HE':'Hessen', 'RP':'Rheinland Pfalz', 'BW':'Baden Würthenberg', \n",
    "            'SL':'Saarland', 'BB':'Brandenburg', 'MV':'Mecklenburg Vorpommern', \n",
    "            'SN': 'Sachsen', 'ST':'Sachsen-Anhalt', 'TH':'Thüringen', 'DE':'Deutschland'}\n",
    "vaccines_d = {'biontech':'biontech', 'biontec':'biontech', \n",
    "              'moderna':'moderna', \n",
    "              'janssen':'janssen', 'jansen':'janssen',\n",
    "              'delta':'delta',\n",
    "              'astraZeneca':'astraZeneca', 'astra':'astraZeneca', 'zeneca':'astraZeneca'}\n",
    "vaccine_names = {'biontech':'Biontech', 'moderna':'Moderna', 'janssen':'Janssen', 'delta':'Delta',\n",
    "              'astraZeneca':'Astra Zeneca'}\n",
    "import requests\n",
    "def dialogmanager():\n",
    "    input_s = do_input()\n",
    "    input_s = normalize(input_s)\n",
    "    while input_s and input_s != 'fertig':\n",
    "        semantics = semantic(input_s)\n",
    "        result = data(semantics)\n",
    "        out_string = output(semantics, result)\n",
    "        tts(out_string)\n",
    "        input_s = do_input()\n",
    "\n",
    "def normalize(in_s):\n",
    "    return in_s.lower()\n",
    "\n",
    "def do_input():\n",
    "    return speech_input()\n",
    "\n",
    "def semantic(input_s):\n",
    "    semantics = {'state':'', 'vaccine':''}\n",
    "    for key in states_d.keys():\n",
    "        if key in input_s:\n",
    "            semantics['state'] = states_d[key]\n",
    "    for key in  vaccines_d.keys():\n",
    "        if key in input_s:\n",
    "            semantics['vaccine'] =  vaccines_d[key]\n",
    "    return semantics\n",
    "\n",
    "# expects semantics: semantics[0] == bundesland, semantics[1] == impfstoff \n",
    "vaccinations = requests.get('https://api.corona-zahlen.org/vaccinations')\n",
    "def data(semantics):\n",
    "    s = semantics['state']\n",
    "    v = semantics['vaccine']\n",
    "    if s: # state given\n",
    "        if s != 'DE':\n",
    "            if v: # and vaccine given\n",
    "                vacc_number = vaccinations.json()[\"data\"][\"states\"][s]['vaccination'][v]\n",
    "            else: # all vaccines for state\n",
    "                vacc_number = vaccinations.json()[\"data\"][\"states\"][s]['vaccinated']\n",
    "        else:\n",
    "            if v: # and vaccine given\n",
    "                vacc_number = vaccinations.json()[\"data\"]['vaccination'][v]\n",
    "            else: # all vaccines for Germany\n",
    "                vacc_number = vaccinations.json()['data']['vaccinated']\n",
    "    else: # no state\n",
    "        if v: # but vaccine\n",
    "            vacc_number = vaccinations.json()[\"data\"]['vaccination'][v]\n",
    "        else: # nothing given\n",
    "            vacc_number = None\n",
    "    return vacc_number\n",
    "\n",
    "def output(semantics, results):\n",
    "    ret = ''\n",
    "    s = semantics['state']\n",
    "    v = semantics['vaccine']\n",
    "    if s: # state given\n",
    "        s = state_names[semantics['state']]\n",
    "        if v: # and vaccine given\n",
    "            v = vaccine_names[semantics['vaccine']]\n",
    "            ret = 'Die Impfungen für {} mit {} sind {}'.format(s, v, results)\n",
    "        else: # all vaccines for state\n",
    "            ret = 'Die Impfungen für {} sind {}'.format(s, results)\n",
    "    else: # no state\n",
    "        if v: # but vaccine\n",
    "            v = vaccine_names[semantics['vaccine']]\n",
    "            ret = 'Die Impfungen in Deutschland mit {} sind {}'.format(v, results)\n",
    "        else: # nothing given\n",
    "            ret = 'Darauf weiß ich keine Antwort'\n",
    "    return ret\n",
    "\n"
   ]
  },
  {
   "cell_type": "code",
   "execution_count": null,
   "id": "eaef0c48",
   "metadata": {},
   "outputs": [],
   "source": []
  }
 ],
 "metadata": {
  "kernelspec": {
   "display_name": "dialog_env",
   "language": "python",
   "name": "dialog_env"
  },
  "language_info": {
   "codemirror_mode": {
    "name": "ipython",
    "version": 3
   },
   "file_extension": ".py",
   "mimetype": "text/x-python",
   "name": "python",
   "nbconvert_exporter": "python",
   "pygments_lexer": "ipython3",
   "version": "3.9.6"
  }
 },
 "nbformat": 4,
 "nbformat_minor": 5
}
