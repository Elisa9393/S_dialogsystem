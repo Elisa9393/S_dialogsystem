{
 "cells": [
  {
   "cell_type": "markdown",
   "id": "d81af72e",
   "metadata": {},
   "source": [
    "# Mein Bericht\n",
    "\n",
    "##### Dies ist meine Abgabe"
   ]
  },
  {
   "cell_type": "code",
   "execution_count": 1,
   "id": "035d5c89",
   "metadata": {},
   "outputs": [],
   "source": [
    "import requests\n",
    "from eliza import eliza\n",
    "import os\n",
    "import json\n",
    "from wendel_util import file_update\n",
    "import dialog_util as util\n"
   ]
  },
  {
   "cell_type": "code",
   "execution_count": 3,
   "id": "085d75fb",
   "metadata": {},
   "outputs": [],
   "source": [
    "#vaccinations = requests.get('https://api.corona-zahlen.org/vaccinations')"
   ]
  },
  {
   "cell_type": "code",
   "execution_count": 2,
   "id": "da426a29",
   "metadata": {},
   "outputs": [
    {
     "name": "stdout",
     "output_type": "stream",
     "text": [
      "Web site exists\n",
      "File Updated \n"
     ]
    }
   ],
   "source": [
    "file_update()\n",
    "vaccinations = open('vaccinations.json')\n",
    "#output vom RKI fest gespeichert\n",
    "vaccinations = json.load(vaccinations)"
   ]
  },
  {
   "cell_type": "code",
   "execution_count": 5,
   "id": "3f9cd074",
   "metadata": {},
   "outputs": [],
   "source": [
    "#pickle.dump(vaccinations.json(), open(\"vaccinations_data.pkl\",  \"wb\" ) )"
   ]
  },
  {
   "cell_type": "code",
   "execution_count": 6,
   "id": "124aaca9",
   "metadata": {},
   "outputs": [],
   "source": [
    "#output vom RKI fest gespeichert\n",
    "#vaccinations = pickle.load( open( \"vaccination_data.pkl\", \"rb\" ))"
   ]
  },
  {
   "cell_type": "code",
   "execution_count": 3,
   "id": "262a8cc6",
   "metadata": {},
   "outputs": [],
   "source": [
    "util.init_google()"
   ]
  },
  {
   "cell_type": "code",
   "execution_count": 4,
   "id": "659f5afb",
   "metadata": {},
   "outputs": [],
   "source": [
    "#everything as lower case and numbers are normalized, remove stopwords, lemmatization, stemming\n",
    "def normalize(in_s):\n",
    "    return in_s.lower()\n",
    "\n",
    "#asr\n",
    "def do_input():\n",
    "    return util.speech_input()\n",
    "\n",
    "#finds states and vaccines in input and keys and values in dictionary, wenn ein keyword gefunden wird, wird die Schleife beendet\n",
    "def semantic(input_s):\n",
    "    semantics = {'state':'', 'vaccine':'', 'answer':0} #data structure\n",
    "    for key in util.states_d.keys():\n",
    "        if key in input_s:\n",
    "            semantics['state'] = util.states_d[key]\n",
    "    for key in util.vaccines_d.keys():\n",
    "        if key in input_s:\n",
    "            semantics['vaccine'] = util.vaccines_d[key]\n",
    "    return semantics\n",
    "\n",
    "#data from RKI API, gets required information from data\n",
    "##import requests\n",
    "##vaccinations = requests.get('https://api.corona-zahlen.org/vaccinations')\n",
    "#fills the answer, gets input from RKI,  fills semantics object\n",
    "def data(semantics):\n",
    "    s = semantics['state']\n",
    "    v = semantics['vaccine']\n",
    "    if s: #state given\n",
    "        if s != 'DE':\n",
    "            if v: #and vaccine given\n",
    "                semantics['answer'] = vaccinations[\"data\"][\"states\"][s][\"vaccination\"][v] #\n",
    "            else: #all vaccines for state\n",
    "                semantics['answer'] = vaccinations[\"data\"][\"states\"][s][\"vaccinated\"]\n",
    "        else:\n",
    "            if v: #and vaccine given\n",
    "                semantics['answer'] = vaccinations[\"data\"][\"vaccination\"][v]\n",
    "            else: #all vaccines in Germany\n",
    "                semantics['answer'] = vaccinations[\"data\"][\"vaccinated\"]\n",
    "    else: #no state\n",
    "        if v: #but vaccine\n",
    "            semantics['answer'] = vaccinations[\"data\"][\"vaccination\"][v]\n",
    "        else: #nothing given\n",
    "            semantics['answer'] = None\n",
    "    return semantics"
   ]
  },
  {
   "cell_type": "code",
   "execution_count": 5,
   "id": "78e00d18",
   "metadata": {},
   "outputs": [],
   "source": [
    "#gives results and output string, returns text\n",
    "def output(semantics, inputs): #fügt gut oder schlecht ein\n",
    "    ret = ''\n",
    "    s = semantics['state']\n",
    "    v = semantics['vaccine']\n",
    "    a = semantics['answer']\n",
    "    if s: #if state is given\n",
    "        s = util.state_names[s]\n",
    "        if v: #vaccine also given\n",
    "            v = util.vaccine_names[v]\n",
    "            ret = 'Die Impfungen für {} mit {} sind {}'.format(s, v, a) #formatting\n",
    "        else: #all vaccines for states\n",
    "            ret = 'Die Impfungen für {} sind {}'.format(s, a)\n",
    "    else: #no state\n",
    "        if v: #but vaccine\n",
    "            v = util.vaccine_names[v]\n",
    "            ret = 'Die Impfungen in Deutschland mit {} sind {}'.format(v, a)\n",
    "        else: #nothing given\n",
    "            #ret = 'Diese Frage kann ich leider nicht beantworten'\n",
    "            ret = elz.respond(inputs) #output\n",
    "    return ret\n",
    "    \n",
    "def do_error():\n",
    "    return 'Bitte wählen Sie ein Bundesland um die Coronazahlen zu erhalten'"
   ]
  },
  {
   "cell_type": "code",
   "execution_count": 6,
   "id": "0389b1b8",
   "metadata": {},
   "outputs": [],
   "source": [
    "#load deutsch.txt (Text), eliza speeks german\n",
    "def init_eliza():\n",
    "    root = \"C:/Users/elisa/Seminare_Python/S_dialogsystem\"\n",
    "    elz = eliza.Eliza() #Instanz von Eliza Klasse\n",
    "    elz.load(root+\"/eliza/deutsch.txt\") #use german version of Eliza\n",
    "    return elz"
   ]
  },
  {
   "cell_type": "code",
   "execution_count": 7,
   "id": "8bc648e9",
   "metadata": {},
   "outputs": [],
   "source": [
    "#speech synthesis\n",
    "def output_s(text):\n",
    "    print('output: '+text)\n",
    "    util.tts(text)"
   ]
  },
  {
   "cell_type": "code",
   "execution_count": 8,
   "id": "80089bac",
   "metadata": {},
   "outputs": [],
   "source": [
    "def dialogmanager():\n",
    "    output_s(\"Frag was!\")\n",
    "    input_s = do_input() #do_input() wird aufgerufen, um sich input zu holen\n",
    "    input_s = normalize(input_s)\n",
    "    while input_s and input_s != 'fertig': #wenn input-string 'fertig'  ist, wird Schleife nicht ausgeführt\n",
    "        semantics = semantic(input_s) #funktion gibt etwas zurück\n",
    "        semantics = data(semantics)\n",
    "        out_string = output(semantics, input_s)\n",
    "        output_s(out_string)\n",
    "        input_s = do_input()\n",
    "        input_s = normalize(input_s)"
   ]
  },
  {
   "cell_type": "code",
   "execution_count": 9,
   "id": "59d89b81",
   "metadata": {},
   "outputs": [
    {
     "name": "stdout",
     "output_type": "stream",
     "text": [
      "output: Frag was!\n",
      "Transcript 0: Albion\n",
      "output: Ich bin nicht sicher, ob ich dich verstanden habe.\n",
      "Transcript 0: biontech in Hessen\n",
      "output: Die Impfungen für Hessen mit Biontech sind 2751193\n",
      "Transcript 0: in Deutschland\n",
      "output: Die Impfungen für Deutschland sind 53066487\n",
      "Transcript 0: und moderne in Berlin\n",
      "output: Die Impfungen für Berlin sind 2334592\n",
      "Transcript 0: moderna in Berlin\n",
      "output: Die Impfungen für Berlin mit Moderna sind 269198\n",
      "Transcript 0: wie geht's dir sonst so\n",
      "output: ErzÃ¤hl mir weiter.\n",
      "Transcript 0: ich weiß nicht was sind deine Hobby\n",
      "output: du weiß nicht was sind meine hobby ?\n",
      "Transcript 0: nein das weiß ich nicht\n",
      "output: Sagst du nein, nur um negativ zu sein ?\n",
      "Transcript 0: nein\n",
      "output: Macht dich das unglÃ¼cklich ?\n",
      "Transcript 0: eigentlich nicht dich etwa\n",
      "output: Das ist ja interessant.  Sprich bitte weiter.\n"
     ]
    },
    {
     "ename": "AttributeError",
     "evalue": "'NoneType' object has no attribute 'lower'",
     "output_type": "error",
     "traceback": [
      "\u001b[1;31m---------------------------------------------------------------------------\u001b[0m",
      "\u001b[1;31mAttributeError\u001b[0m                            Traceback (most recent call last)",
      "\u001b[1;32m~\\AppData\\Local\\Temp/ipykernel_2060/2508346927.py\u001b[0m in \u001b[0;36m<module>\u001b[1;34m\u001b[0m\n\u001b[0;32m      1\u001b[0m \u001b[0melz\u001b[0m \u001b[1;33m=\u001b[0m \u001b[0minit_eliza\u001b[0m\u001b[1;33m(\u001b[0m\u001b[1;33m)\u001b[0m\u001b[1;33m\u001b[0m\u001b[1;33m\u001b[0m\u001b[0m\n\u001b[1;32m----> 2\u001b[1;33m \u001b[0mdialogmanager\u001b[0m\u001b[1;33m(\u001b[0m\u001b[1;33m)\u001b[0m\u001b[1;33m\u001b[0m\u001b[1;33m\u001b[0m\u001b[0m\n\u001b[0m\u001b[0;32m      3\u001b[0m \u001b[1;33m\u001b[0m\u001b[0m\n",
      "\u001b[1;32m~\\AppData\\Local\\Temp/ipykernel_2060/3195417952.py\u001b[0m in \u001b[0;36mdialogmanager\u001b[1;34m()\u001b[0m\n\u001b[0;32m      9\u001b[0m         \u001b[0moutput_s\u001b[0m\u001b[1;33m(\u001b[0m\u001b[0mout_string\u001b[0m\u001b[1;33m)\u001b[0m\u001b[1;33m\u001b[0m\u001b[1;33m\u001b[0m\u001b[0m\n\u001b[0;32m     10\u001b[0m         \u001b[0minput_s\u001b[0m \u001b[1;33m=\u001b[0m \u001b[0mdo_input\u001b[0m\u001b[1;33m(\u001b[0m\u001b[1;33m)\u001b[0m\u001b[1;33m\u001b[0m\u001b[1;33m\u001b[0m\u001b[0m\n\u001b[1;32m---> 11\u001b[1;33m         \u001b[0minput_s\u001b[0m \u001b[1;33m=\u001b[0m \u001b[0mnormalize\u001b[0m\u001b[1;33m(\u001b[0m\u001b[0minput_s\u001b[0m\u001b[1;33m)\u001b[0m\u001b[1;33m\u001b[0m\u001b[1;33m\u001b[0m\u001b[0m\n\u001b[0m",
      "\u001b[1;32m~\\AppData\\Local\\Temp/ipykernel_2060/3139865383.py\u001b[0m in \u001b[0;36mnormalize\u001b[1;34m(in_s)\u001b[0m\n\u001b[0;32m      1\u001b[0m \u001b[1;31m#everything as lower case and numbers are normalized, remove stopwords, lemmatization, stemming\u001b[0m\u001b[1;33m\u001b[0m\u001b[1;33m\u001b[0m\u001b[1;33m\u001b[0m\u001b[0m\n\u001b[0;32m      2\u001b[0m \u001b[1;32mdef\u001b[0m \u001b[0mnormalize\u001b[0m\u001b[1;33m(\u001b[0m\u001b[0min_s\u001b[0m\u001b[1;33m)\u001b[0m\u001b[1;33m:\u001b[0m\u001b[1;33m\u001b[0m\u001b[1;33m\u001b[0m\u001b[0m\n\u001b[1;32m----> 3\u001b[1;33m     \u001b[1;32mreturn\u001b[0m \u001b[0min_s\u001b[0m\u001b[1;33m.\u001b[0m\u001b[0mlower\u001b[0m\u001b[1;33m(\u001b[0m\u001b[1;33m)\u001b[0m\u001b[1;33m\u001b[0m\u001b[1;33m\u001b[0m\u001b[0m\n\u001b[0m\u001b[0;32m      4\u001b[0m \u001b[1;33m\u001b[0m\u001b[0m\n\u001b[0;32m      5\u001b[0m \u001b[1;31m#asr\u001b[0m\u001b[1;33m\u001b[0m\u001b[1;33m\u001b[0m\u001b[1;33m\u001b[0m\u001b[0m\n",
      "\u001b[1;31mAttributeError\u001b[0m: 'NoneType' object has no attribute 'lower'"
     ]
    }
   ],
   "source": [
    "elz = init_eliza()\n",
    "dialogmanager()\n",
    "\n"
   ]
  }
 ],
 "metadata": {
  "kernelspec": {
   "display_name": "dialog_env",
   "language": "python",
   "name": "dialog_env"
  },
  "language_info": {
   "codemirror_mode": {
    "name": "ipython",
    "version": 3
   },
   "file_extension": ".py",
   "mimetype": "text/x-python",
   "name": "python",
   "nbconvert_exporter": "python",
   "pygments_lexer": "ipython3",
   "version": "3.9.6"
  }
 },
 "nbformat": 4,
 "nbformat_minor": 5
}
