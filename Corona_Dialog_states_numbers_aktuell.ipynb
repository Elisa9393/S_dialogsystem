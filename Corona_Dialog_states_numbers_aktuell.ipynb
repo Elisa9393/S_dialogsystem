{
 "cells": [
  {
   "cell_type": "markdown",
   "id": "d81af72e",
   "metadata": {},
   "source": [
    "# Mein Bericht\n",
    "\n",
    "##### Dies ist meine Abgabe"
   ]
  },
  {
   "cell_type": "code",
   "execution_count": 1,
   "id": "035d5c89",
   "metadata": {},
   "outputs": [],
   "source": [
    "import requests\n",
    "from eliza import eliza\n",
    "import os\n",
    "import json\n",
    "from wendel_util import file_update"
   ]
  },
  {
   "cell_type": "code",
   "execution_count": 2,
   "id": "085d75fb",
   "metadata": {},
   "outputs": [],
   "source": [
    "vaccinations = requests.get('https://api.corona-zahlen.org/vaccinations')"
   ]
  },
  {
   "cell_type": "code",
   "execution_count": 3,
   "id": "25053bf1",
   "metadata": {},
   "outputs": [],
   "source": [
    "corona_numbers = requests.get('https://api.corona-zahlen.org/states')"
   ]
  },
  {
   "cell_type": "code",
   "execution_count": 4,
   "id": "da426a29",
   "metadata": {},
   "outputs": [
    {
     "name": "stdout",
     "output_type": "stream",
     "text": [
      "Up To Date\n"
     ]
    }
   ],
   "source": [
    "file_update()\n",
    "vaccinations = open('vaccinations.json')\n",
    "#output vom RKI fest gespeichert\n",
    "vaccinations = json.load(vaccinations)"
   ]
  },
  {
   "cell_type": "code",
   "execution_count": null,
   "id": "bee4858f",
   "metadata": {},
   "outputs": [],
   "source": []
  },
  {
   "cell_type": "code",
   "execution_count": 55,
   "id": "3f9cd074",
   "metadata": {},
   "outputs": [],
   "source": [
    "#pickle.dump(vaccinations.json(), open(\"vaccinations_data.pkl\",  \"wb\" ) )"
   ]
  },
  {
   "cell_type": "code",
   "execution_count": 12,
   "id": "124aaca9",
   "metadata": {},
   "outputs": [],
   "source": [
    "#output vom RKI fest gespeichert\n",
    "#vaccinations = pickle.load( open( \"vaccination_data.pkl\", \"rb\" ))"
   ]
  },
  {
   "cell_type": "code",
   "execution_count": 4,
   "id": "b59b6ee9",
   "metadata": {},
   "outputs": [],
   "source": [
    "#dictionary that defines states in API\n",
    "states_d = {'baden':'BW', 'bayern':'BY', 'berlin':'BE', 'brandenburg':'BB', 'bremen':'HB', 'hamburg': 'HH', 'hessen': 'HE', 'mecklenburg':'MV', 'niedersachsen':'NI', 'nordrhein':'NW', 'rheinland':'RP', 'saarland':'SL', 'sachsen':'SN', 'anhalt':'SA', 'schleswig':'SH', 'thüringen':'TH'}\n",
    "#dictionary for formatting for response\n",
    "state_names = {'BW':'Baden-Württemberg', 'BY':'Bayern', 'BE':'Berlin', 'BB':'Brandenburg', 'HB':'Bremen', 'HH':'Hamburg', 'HE':'Hessen', 'MV':'Mecklenburg-Vorpommern', 'NI':'Niedersachen', 'NW':'Nordrhein-Westfalen', 'SL':'Saarland', 'SN':'Sachsen', 'SA':'Sachsen-Anhalt', 'SH':'Schleswig-Holstein', 'TH':'Thüringen'}\n",
    "#dictionary that defines vaccine names in API\n",
    "vaccines_d = {'biontech':'biontech', 'biontek':'biontech', 'biontec':'biontech', 'moderna':'moderna', 'astraZeneca':'astraZeneca', 'astra':'astraZeneca', 'zeneca':'astraZeneca', 'delta':'delta'}\n",
    "#dictionary for formatting vaccines for response\n",
    "vaccines_names = {'biontech':'Biontech', 'moderna':'Moderna', 'astraZeneca':'AstraZeneca', 'delta':'Delta'}\n",
    "\n",
    "numbers_d = {'bevölkerung':'population', 'fälle':'cases', 'todesfälle':'deaths', 'fälle pro woche':'casesPerWeek'}\n",
    "\n",
    "numbers_names = {'population':'Bevölkerung', 'cases':'Fälle', 'deaths':'Todesfälle', 'casesPerWeek':'Fälle pro Woche'}\n",
    "\n",
    "#everything as lower case\n",
    "def normalize(in_s):\n",
    "    return in_s.lower()\n",
    "\n",
    "#asr\n",
    "def do_input():\n",
    "    return input('> ')"
   ]
  },
  {
   "cell_type": "code",
   "execution_count": 5,
   "id": "659f5afb",
   "metadata": {},
   "outputs": [],
   "source": [
    "#dictionary that defines states in API\n",
    "states_d = {'baden':'BW', 'bayern':'BY', 'berlin':'BE', 'brandenburg':'BB', 'bremen':'HB', 'hamburg': 'HH', 'hessen': 'HE', 'mecklenburg':'MV', 'niedersachsen':'NI', 'nordrhein':'NW', 'rheinland':'RP', 'saarland':'SL', 'sachsen':'SN', 'anhalt':'SA', 'schleswig':'SH', 'thüringen':'TH'}\n",
    "#dictionary for formatting for response\n",
    "state_names = {'BW':'Baden-Württemberg', 'BY':'Bayern', 'BE':'Berlin', 'BB':'Brandenburg', 'HB':'Bremen', 'HH':'Hamburg', 'HE':'Hessen', 'MV':'Mecklenburg-Vorpommern', 'NI':'Niedersachen', 'NW':'Nordrhein-Westfalen', 'SL':'Saarland', 'SN':'Sachsen', 'SA':'Sachsen-Anhalt', 'SH':'Schleswig-Holstein', 'TH':'Thüringen'}\n",
    "#dictionary that defines vaccine names in API\n",
    "vaccines_d = {'biontech':'biontech', 'biontek':'biontech', 'biontec':'biontech', 'moderna':'moderna', 'astraZeneca':'astraZeneca', 'astra':'astraZeneca', 'zeneca':'astraZeneca', 'delta':'delta'}\n",
    "#dictionary for formatting vaccines for response\n",
    "vaccine_names = {'biontech':'Biontech', 'moderna':'Moderna', 'astraZeneca':'AstraZeneca', 'delta':'Delta'}\n",
    "\n",
    "#everything as lower case and numbers are normalized, remove stopwords, lemmatization, stemming\n",
    "def normalize(in_s):\n",
    "    return in_s.lower()\n",
    "\n",
    "#asr\n",
    "def do_input():\n",
    "    return input('> ')\n",
    "\n",
    "#finds states and vaccines in input and keys and values in dictionary\n",
    "def semantic(input_s):\n",
    "    semantics = {'state':'', 'vaccine':'', 'answer':0} #data structure\n",
    "    for key in states_d.keys():\n",
    "        if key in input_s:\n",
    "            semantics['state'] = states_d[key]\n",
    "    for key in vaccines_d.keys():\n",
    "        if key in input_s:\n",
    "            semantics['vaccine'] = vaccines_d[key]\n",
    "    return semantics\n",
    "\n",
    "#data from RKI API\n",
    "##import requests\n",
    "##vaccinations = requests.get('https://api.corona-zahlen.org/vaccinations')\n",
    "#fills the answer, gets input from RKI,  fills semantics object\n",
    "def data(semantics):\n",
    "    s = semantics['state']\n",
    "    v = semantics['vaccine']\n",
    "    if s: #state given\n",
    "        if s != 'DE':\n",
    "            if v: #and vaccine given\n",
    "                semantics['answer'] = vaccinations[\"data\"][\"states\"][s][\"vaccination\"][v] #\n",
    "            else: #all vaccines for state\n",
    "                semantics['answer'] = vaccinations[\"data\"][\"states\"][s][\"vaccinated\"]\n",
    "        else:\n",
    "            if v: #and vaccine given\n",
    "                semantics['answer'] = vaccinations[\"data\"][\"vaccination\"][v]\n",
    "            else: #all vaccines in Germany\n",
    "                semantics['answer'] = vaccinations[\"data\"][\"vaccinated\"]\n",
    "    else: #no state\n",
    "        if v: #but vaccine\n",
    "            semantics['answer'] = vaccinations[\"data\"][\"vaccination\"][v]\n",
    "        else: #nothing given\n",
    "            semantics['answer'] = None\n",
    "    return semantics"
   ]
  },
  {
   "cell_type": "code",
   "execution_count": 6,
   "id": "02f30c42",
   "metadata": {},
   "outputs": [
    {
     "data": {
      "text/plain": [
       "{'biontech': 'Biontech',\n",
       " 'moderna': 'Moderna',\n",
       " 'astraZeneca': 'AstraZeneca',\n",
       " 'delta': 'Delta'}"
      ]
     },
     "execution_count": 6,
     "metadata": {},
     "output_type": "execute_result"
    }
   ],
   "source": [
    "vaccine_names"
   ]
  },
  {
   "cell_type": "code",
   "execution_count": 6,
   "id": "78e00d18",
   "metadata": {},
   "outputs": [],
   "source": [
    "#gives results and output string, returns text\n",
    "def output(semantics, inputs): #fügt gut oder schlecht ein\n",
    "    ret = ''\n",
    "    s = semantics['state']\n",
    "    v = semantics['vaccine']\n",
    "    a = semantics['answer']\n",
    "    if s: #if state is given\n",
    "        s = state_names[s]\n",
    "        if v: #vaccine also given\n",
    "            v = vaccine_names[v]\n",
    "            ret = 'Die Impfungen für {} mit {} sind {}'.format(s, v, a) #formatting\n",
    "        else: #all vaccines for states\n",
    "            ret = 'Die Impfungen für {} sind {}'.format(s, a)\n",
    "    else: #no state\n",
    "        if v: #but vaccine\n",
    "            v = vaccine_names[v]\n",
    "            ret = 'Die Impfungen in Deutschland mit {} sind {}'.format(v, a)\n",
    "        else: #nothing given\n",
    "            #ret = 'Diese Frage kann ich leider nicht beantworten'\n",
    "            ret = elz.respond(inputs) #output\n",
    "    return ret\n",
    "    \n",
    "def do_error():\n",
    "    return 'Bitte wählen Sie ein Bundesland um die Coronazahlen zu erhalten'"
   ]
  },
  {
   "cell_type": "code",
   "execution_count": null,
   "id": "0389b1b8",
   "metadata": {},
   "outputs": [],
   "source": [
    "#load deutsch.txt (Text)\n",
    "def init_eliza():\n",
    "    root = \"C:/Users/elisa/Seminare_Python/S_dialogsystem\"\n",
    "    elz = eliza.Eliza() #Instanz von Eliza Klasse\n",
    "    elz.load(root+\"/eliza/deutsch.txt\") #use german version of Eliza\n",
    "    return elz"
   ]
  },
  {
   "cell_type": "code",
   "execution_count": null,
   "id": "5afef555",
   "metadata": {},
   "outputs": [],
   "source": [
    "def output_s(text):\n",
    "    print(text)"
   ]
  },
  {
   "cell_type": "code",
   "execution_count": 8,
   "id": "80089bac",
   "metadata": {},
   "outputs": [],
   "source": [
    "def dialogmanager():\n",
    "    print(\"Frag was!\")\n",
    "    input_s = do_input() #do_input() wird aufgerufen, um sich input zu holen\n",
    "    input_s = normalize(input_s)\n",
    "    while input_s and input_s != 'fertig': #wenn input-string 'fertig'  ist, wird Schleife nicht ausgeführt\n",
    "        semantics = semantic(input_s) #funktion gibt etwas zurück\n",
    "        semantics = data(semantics)\n",
    "        out_string = output(semantics, input_s)\n",
    "        output_s(out_string)\n",
    "        input_s = do_input()\n",
    "        input_s = normalize(input_s)"
   ]
  },
  {
   "cell_type": "code",
   "execution_count": 11,
   "id": "3e25b10b",
   "metadata": {},
   "outputs": [
    {
     "name": "stdout",
     "output_type": "stream",
     "text": [
      "Frag was!\n",
      "> wie gehts\n",
      "Ich bin nicht sicher, ob ich dich verstanden habe.\n",
      "> berlin\n",
      "Die Impfungen für Berlin sind 2322139\n",
      "> huhu?\n",
      "ErzÃ¤hl mir weiter.\n",
      "> bayern mit biontech\n",
      "Die Impfungen für Bayern mit Biontech sind 5671941\n"
     ]
    },
    {
     "ename": "KeyboardInterrupt",
     "evalue": "Interrupted by user",
     "output_type": "error",
     "traceback": [
      "\u001b[1;31m---------------------------------------------------------------------------\u001b[0m",
      "\u001b[1;31mKeyboardInterrupt\u001b[0m                         Traceback (most recent call last)",
      "\u001b[1;32m~\\AppData\\Local\\Temp/ipykernel_15520/2508346927.py\u001b[0m in \u001b[0;36m<module>\u001b[1;34m\u001b[0m\n\u001b[0;32m      1\u001b[0m \u001b[0melz\u001b[0m \u001b[1;33m=\u001b[0m \u001b[0minit_eliza\u001b[0m\u001b[1;33m(\u001b[0m\u001b[1;33m)\u001b[0m\u001b[1;33m\u001b[0m\u001b[1;33m\u001b[0m\u001b[0m\n\u001b[1;32m----> 2\u001b[1;33m \u001b[0mdialogmanager\u001b[0m\u001b[1;33m(\u001b[0m\u001b[1;33m)\u001b[0m\u001b[1;33m\u001b[0m\u001b[1;33m\u001b[0m\u001b[0m\n\u001b[0m\u001b[0;32m      3\u001b[0m \u001b[1;33m\u001b[0m\u001b[0m\n",
      "\u001b[1;32m~\\AppData\\Local\\Temp/ipykernel_15520/312715051.py\u001b[0m in \u001b[0;36mdialogmanager\u001b[1;34m()\u001b[0m\n\u001b[0;32m      8\u001b[0m         \u001b[0mout_string\u001b[0m \u001b[1;33m=\u001b[0m \u001b[0moutput\u001b[0m\u001b[1;33m(\u001b[0m\u001b[0msemantics\u001b[0m\u001b[1;33m,\u001b[0m \u001b[0minput_s\u001b[0m\u001b[1;33m)\u001b[0m\u001b[1;33m\u001b[0m\u001b[1;33m\u001b[0m\u001b[0m\n\u001b[0;32m      9\u001b[0m         \u001b[0mprint\u001b[0m\u001b[1;33m(\u001b[0m\u001b[0mout_string\u001b[0m\u001b[1;33m)\u001b[0m\u001b[1;33m\u001b[0m\u001b[1;33m\u001b[0m\u001b[0m\n\u001b[1;32m---> 10\u001b[1;33m         \u001b[0minput_s\u001b[0m \u001b[1;33m=\u001b[0m \u001b[0mdo_input\u001b[0m\u001b[1;33m(\u001b[0m\u001b[1;33m)\u001b[0m\u001b[1;33m\u001b[0m\u001b[1;33m\u001b[0m\u001b[0m\n\u001b[0m\u001b[0;32m     11\u001b[0m         \u001b[0minput_s\u001b[0m \u001b[1;33m=\u001b[0m \u001b[0mnormalize\u001b[0m\u001b[1;33m(\u001b[0m\u001b[0minput_s\u001b[0m\u001b[1;33m)\u001b[0m\u001b[1;33m\u001b[0m\u001b[1;33m\u001b[0m\u001b[0m\n",
      "\u001b[1;32m~\\AppData\\Local\\Temp/ipykernel_15520/553587519.py\u001b[0m in \u001b[0;36mdo_input\u001b[1;34m()\u001b[0m\n\u001b[0;32m     14\u001b[0m \u001b[1;31m#asr\u001b[0m\u001b[1;33m\u001b[0m\u001b[1;33m\u001b[0m\u001b[1;33m\u001b[0m\u001b[0m\n\u001b[0;32m     15\u001b[0m \u001b[1;32mdef\u001b[0m \u001b[0mdo_input\u001b[0m\u001b[1;33m(\u001b[0m\u001b[1;33m)\u001b[0m\u001b[1;33m:\u001b[0m\u001b[1;33m\u001b[0m\u001b[1;33m\u001b[0m\u001b[0m\n\u001b[1;32m---> 16\u001b[1;33m     \u001b[1;32mreturn\u001b[0m \u001b[0minput\u001b[0m\u001b[1;33m(\u001b[0m\u001b[1;34m'> '\u001b[0m\u001b[1;33m)\u001b[0m\u001b[1;33m\u001b[0m\u001b[1;33m\u001b[0m\u001b[0m\n\u001b[0m\u001b[0;32m     17\u001b[0m \u001b[1;33m\u001b[0m\u001b[0m\n\u001b[0;32m     18\u001b[0m \u001b[1;31m#finds states and vaccines in input and keys and values in dictionary\u001b[0m\u001b[1;33m\u001b[0m\u001b[1;33m\u001b[0m\u001b[1;33m\u001b[0m\u001b[0m\n",
      "\u001b[1;32m~\\AppData\\Local\\Programs\\Python\\Python39\\lib\\site-packages\\ipykernel\\kernelbase.py\u001b[0m in \u001b[0;36mraw_input\u001b[1;34m(self, prompt)\u001b[0m\n\u001b[0;32m    979\u001b[0m                 \u001b[1;34m\"raw_input was called, but this frontend does not support input requests.\"\u001b[0m\u001b[1;33m\u001b[0m\u001b[1;33m\u001b[0m\u001b[0m\n\u001b[0;32m    980\u001b[0m             )\n\u001b[1;32m--> 981\u001b[1;33m         return self._input_request(\n\u001b[0m\u001b[0;32m    982\u001b[0m             \u001b[0mstr\u001b[0m\u001b[1;33m(\u001b[0m\u001b[0mprompt\u001b[0m\u001b[1;33m)\u001b[0m\u001b[1;33m,\u001b[0m\u001b[1;33m\u001b[0m\u001b[1;33m\u001b[0m\u001b[0m\n\u001b[0;32m    983\u001b[0m             \u001b[0mself\u001b[0m\u001b[1;33m.\u001b[0m\u001b[0m_parent_ident\u001b[0m\u001b[1;33m[\u001b[0m\u001b[1;34m\"shell\"\u001b[0m\u001b[1;33m]\u001b[0m\u001b[1;33m,\u001b[0m\u001b[1;33m\u001b[0m\u001b[1;33m\u001b[0m\u001b[0m\n",
      "\u001b[1;32m~\\AppData\\Local\\Programs\\Python\\Python39\\lib\\site-packages\\ipykernel\\kernelbase.py\u001b[0m in \u001b[0;36m_input_request\u001b[1;34m(self, prompt, ident, parent, password)\u001b[0m\n\u001b[0;32m   1024\u001b[0m             \u001b[1;32mexcept\u001b[0m \u001b[0mKeyboardInterrupt\u001b[0m\u001b[1;33m:\u001b[0m\u001b[1;33m\u001b[0m\u001b[1;33m\u001b[0m\u001b[0m\n\u001b[0;32m   1025\u001b[0m                 \u001b[1;31m# re-raise KeyboardInterrupt, to truncate traceback\u001b[0m\u001b[1;33m\u001b[0m\u001b[1;33m\u001b[0m\u001b[1;33m\u001b[0m\u001b[0m\n\u001b[1;32m-> 1026\u001b[1;33m                 \u001b[1;32mraise\u001b[0m \u001b[0mKeyboardInterrupt\u001b[0m\u001b[1;33m(\u001b[0m\u001b[1;34m\"Interrupted by user\"\u001b[0m\u001b[1;33m)\u001b[0m \u001b[1;32mfrom\u001b[0m \u001b[1;32mNone\u001b[0m\u001b[1;33m\u001b[0m\u001b[1;33m\u001b[0m\u001b[0m\n\u001b[0m\u001b[0;32m   1027\u001b[0m             \u001b[1;32mexcept\u001b[0m \u001b[0mException\u001b[0m\u001b[1;33m:\u001b[0m\u001b[1;33m\u001b[0m\u001b[1;33m\u001b[0m\u001b[0m\n\u001b[0;32m   1028\u001b[0m                 \u001b[0mself\u001b[0m\u001b[1;33m.\u001b[0m\u001b[0mlog\u001b[0m\u001b[1;33m.\u001b[0m\u001b[0mwarning\u001b[0m\u001b[1;33m(\u001b[0m\u001b[1;34m\"Invalid Message:\"\u001b[0m\u001b[1;33m,\u001b[0m \u001b[0mexc_info\u001b[0m\u001b[1;33m=\u001b[0m\u001b[1;32mTrue\u001b[0m\u001b[1;33m)\u001b[0m\u001b[1;33m\u001b[0m\u001b[1;33m\u001b[0m\u001b[0m\n",
      "\u001b[1;31mKeyboardInterrupt\u001b[0m: Interrupted by user"
     ]
    }
   ],
   "source": [
    "elz = init_eliza()\n",
    "dialogmanager()\n",
    "\n"
   ]
  },
  {
   "cell_type": "code",
   "execution_count": null,
   "id": "7160d8bd",
   "metadata": {},
   "outputs": [],
   "source": []
  },
  {
   "cell_type": "code",
   "execution_count": 1,
   "id": "de89470d",
   "metadata": {},
   "outputs": [
    {
     "name": "stdout",
     "output_type": "stream",
     "text": [
      "{'cases': 3835375, 'deaths': 91921, 'recovered': 3687577, 'weekIncidence': 40.78675180505816, 'casesPer100k': 4611.670888367823, 'casesPerWeek': 33921, 'delta': {'cases': 8324, 'deaths': 22, 'recovered': 2829}, 'r': {'value': 1.12, 'rValue4Days': {'value': 1.12, 'date': '2021-08-14T00:00:00.000Z'}, 'rValue7Days': {'value': 1.2, 'date': '2021-08-13T00:00:00.000Z'}, 'lastUpdate': '2021-08-18T01:14:40.000Z'}, 'meta': {'source': 'Robert Koch-Institut', 'contact': 'Marlon Lueckert (m.lueckert@me.com)', 'info': 'https://github.com/marlon360/rki-covid-api', 'lastUpdate': '2021-08-17T23:00:00.000Z', 'lastCheckedForUpdate': '2021-08-18T20:24:00.249Z'}}\n",
      "40.78675180505816\n"
     ]
    },
    {
     "ename": "NameError",
     "evalue": "name 'vaccinations' is not defined",
     "output_type": "error",
     "traceback": [
      "\u001b[1;31m---------------------------------------------------------------------------\u001b[0m",
      "\u001b[1;31mNameError\u001b[0m                                 Traceback (most recent call last)",
      "\u001b[1;32m~\\AppData\\Local\\Temp/ipykernel_15324/644054454.py\u001b[0m in \u001b[0;36m<module>\u001b[1;34m\u001b[0m\n\u001b[0;32m     13\u001b[0m \u001b[0mprint\u001b[0m\u001b[1;33m(\u001b[0m\u001b[0mcorona_numbers\u001b[0m\u001b[1;33m.\u001b[0m\u001b[0mjson\u001b[0m\u001b[1;33m(\u001b[0m\u001b[1;33m)\u001b[0m\u001b[1;33m)\u001b[0m\u001b[1;33m\u001b[0m\u001b[1;33m\u001b[0m\u001b[0m\n\u001b[0;32m     14\u001b[0m \u001b[0mprint\u001b[0m\u001b[1;33m(\u001b[0m\u001b[0mcorona_numbers\u001b[0m\u001b[1;33m.\u001b[0m\u001b[0mjson\u001b[0m\u001b[1;33m(\u001b[0m\u001b[1;33m)\u001b[0m\u001b[1;33m[\u001b[0m\u001b[1;34m\"weekIncidence\"\u001b[0m\u001b[1;33m]\u001b[0m\u001b[1;33m)\u001b[0m\u001b[1;33m\u001b[0m\u001b[1;33m\u001b[0m\u001b[0m\n\u001b[1;32m---> 15\u001b[1;33m \u001b[0mprint\u001b[0m\u001b[1;33m(\u001b[0m\u001b[0mvaccinations\u001b[0m\u001b[1;33m.\u001b[0m\u001b[0mjson\u001b[0m\u001b[1;33m(\u001b[0m\u001b[1;33m)\u001b[0m\u001b[1;33m)\u001b[0m\u001b[1;33m\u001b[0m\u001b[1;33m\u001b[0m\u001b[0m\n\u001b[0m\u001b[0;32m     16\u001b[0m \u001b[0mprint\u001b[0m\u001b[1;33m(\u001b[0m\u001b[0mvaccinations\u001b[0m\u001b[1;33m.\u001b[0m\u001b[0mjson\u001b[0m\u001b[1;33m(\u001b[0m\u001b[1;33m)\u001b[0m\u001b[1;33m[\u001b[0m\u001b[1;34m\"data\"\u001b[0m\u001b[1;33m]\u001b[0m\u001b[1;33m[\u001b[0m\u001b[1;34m\"states\"\u001b[0m\u001b[1;33m]\u001b[0m\u001b[1;33m[\u001b[0m\u001b[1;34m\"BE\"\u001b[0m\u001b[1;33m]\u001b[0m\u001b[1;33m)\u001b[0m\u001b[1;33m\u001b[0m\u001b[1;33m\u001b[0m\u001b[0m\n",
      "\u001b[1;31mNameError\u001b[0m: name 'vaccinations' is not defined"
     ]
    }
   ],
   "source": [
    "# requests Modul importieren (muss vorher mit pip installiert werden)\n",
    "import requests\n",
    "\n",
    "# Abfrage der aktuellen Corona-Zahlen für Deutschland (in Klammern steht immer der jeweilige Endpoint)\n",
    "# speichern in Variable corona_numbers\n",
    "corona_numbers = requests.get('https://api.corona-zahlen.org/germany')\n",
    "\n",
    "# Abfrage der aktuellen Impfstatistik weltweit (in Klammern steht immer der jeweilige Endpoint)\n",
    "# speichern in Variable vaccinations\n",
    "#vaccinations = requests.get('https://api.corona-zahlen.org/vaccinations')\n",
    "\n",
    "# Ausgabe der Daten (mithilfe der [] kann auf bestimmte Datenpunkte innerhalb der JSON-Struktur zugegriffen werden)\n",
    "print(corona_numbers.json())\n",
    "print(corona_numbers.json()[\"weekIncidence\"])\n",
    "print(vaccinations.json())\n",
    "print(vaccinations.json()[\"data\"][\"states\"][\"BE\"])"
   ]
  },
  {
   "cell_type": "code",
   "execution_count": 2,
   "id": "a6dcb297",
   "metadata": {},
   "outputs": [
    {
     "ename": "NameError",
     "evalue": "name 'vaccinations' is not defined",
     "output_type": "error",
     "traceback": [
      "\u001b[1;31m---------------------------------------------------------------------------\u001b[0m",
      "\u001b[1;31mNameError\u001b[0m                                 Traceback (most recent call last)",
      "\u001b[1;32m~\\AppData\\Local\\Temp/ipykernel_15324/172980169.py\u001b[0m in \u001b[0;36m<module>\u001b[1;34m\u001b[0m\n\u001b[1;32m----> 1\u001b[1;33m \u001b[0mvaccinations\u001b[0m\u001b[1;33m.\u001b[0m\u001b[0mjson\u001b[0m\u001b[1;33m(\u001b[0m\u001b[1;33m)\u001b[0m\u001b[1;33m\u001b[0m\u001b[1;33m\u001b[0m\u001b[0m\n\u001b[0m",
      "\u001b[1;31mNameError\u001b[0m: name 'vaccinations' is not defined"
     ]
    }
   ],
   "source": [
    "vaccinations.json()\n"
   ]
  },
  {
   "cell_type": "code",
   "execution_count": null,
   "id": "4d3b1b07",
   "metadata": {},
   "outputs": [],
   "source": [
    "import pickle\n",
    "pickle.dump(vaccinations.json(), open(\"vaccinations_data.pkl\",  \"wb\" ) )"
   ]
  }
 ],
 "metadata": {
  "kernelspec": {
   "display_name": "dialog_env",
   "language": "python",
   "name": "dialog_env"
  },
  "language_info": {
   "codemirror_mode": {
    "name": "ipython",
    "version": 3
   },
   "file_extension": ".py",
   "mimetype": "text/x-python",
   "name": "python",
   "nbconvert_exporter": "python",
   "pygments_lexer": "ipython3",
   "version": "3.9.6"
  }
 },
 "nbformat": 4,
 "nbformat_minor": 5
}
