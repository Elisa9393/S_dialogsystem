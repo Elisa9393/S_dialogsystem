{
 "cells": [
  {
   "cell_type": "markdown",
   "id": "8ca8b86c",
   "metadata": {},
   "source": [
    "### Record an audio to file"
   ]
  },
  {
   "cell_type": "code",
   "execution_count": 1,
   "id": "77e3e284",
   "metadata": {},
   "outputs": [],
   "source": [
    "import os\n",
    "import sounddevice as sd\n",
    "import soundfile as sf\n",
    "import numpy as np\n",
    "from scipy.io.wavfile import write\n",
    "sr = 16000  # Sample rate\n",
    "seconds = 3  # Duration of recording\n",
    "filename = 'myfile.wav'"
   ]
  },
  {
   "cell_type": "code",
   "execution_count": 2,
   "id": "ff22b9e2",
   "metadata": {},
   "outputs": [],
   "source": [
    "data = sd.rec(int(seconds * sr), samplerate=sr, channels=1)\n",
    "sd.wait()  # Wait until recording is finished"
   ]
  },
  {
   "cell_type": "code",
   "execution_count": 3,
   "id": "72fe8b8c",
   "metadata": {},
   "outputs": [
    {
     "data": {
      "text/plain": [
       "(48000, 1)"
      ]
     },
     "execution_count": 3,
     "metadata": {},
     "output_type": "execute_result"
    }
   ],
   "source": [
    "data.shape"
   ]
  },
  {
   "cell_type": "code",
   "execution_count": 3,
   "id": "3f1a1a9a",
   "metadata": {},
   "outputs": [],
   "source": [
    "# Convert `data` to 16 bit integers:\n",
    "y = (np.iinfo(np.int16).max * (data/np.abs(data).max())).astype(np.int16) \n",
    "write(filename, sr, y)"
   ]
  },
  {
   "cell_type": "code",
   "execution_count": 7,
   "id": "32ebb4f1",
   "metadata": {},
   "outputs": [],
   "source": [
    "# Playback the file\n",
    "def play_file(filename, sr):\n",
    "    data, fs = sf.read(filename)  \n",
    "    sd.play(data, sr)\n",
    "    status = sd.wait()  # Wait until file is done playing\n",
    "def play_mp3(filename):\n",
    "    p = vlc.MediaPlayer(filename)\n",
    "    p.play()"
   ]
  },
  {
   "cell_type": "code",
   "execution_count": 8,
   "id": "e0ca8423",
   "metadata": {},
   "outputs": [],
   "source": [
    "play_file(filename,sr)"
   ]
  },
  {
   "cell_type": "code",
   "execution_count": 9,
   "id": "a770764a",
   "metadata": {},
   "outputs": [
    {
     "name": "stderr",
     "output_type": "stream",
     "text": [
      "C:\\Users\\elisa\\AppData\\Local\\Programs\\Python\\Python39\\lib\\site-packages\\pydub\\utils.py:170: RuntimeWarning: Couldn't find ffmpeg or avconv - defaulting to ffmpeg, but may not work\n",
      "  warn(\"Couldn't find ffmpeg or avconv - defaulting to ffmpeg, but may not work\", RuntimeWarning)\n"
     ]
    }
   ],
   "source": [
    "from pydub import AudioSegment\n",
    "from pydub.utils import mediainfo\n",
    "def mp3_to_wav(infile, outfile):\n",
    "    sr = mediainfo(infile)['sample_rate']\n",
    "    sound = AudioSegment.from_mp3(infile)\n",
    "    sound.export(outfile, format=\"wav\")\n",
    "    return sr"
   ]
  },
  {
   "cell_type": "markdown",
   "id": "55f2501b",
   "metadata": {},
   "source": [
    "### Get a German transcript from Google ASR"
   ]
  },
  {
   "cell_type": "code",
   "execution_count": 10,
   "id": "7f363146",
   "metadata": {},
   "outputs": [],
   "source": [
    "#will be used for corona dialogsystem\n",
    "from google.cloud import speech\n",
    "import io\n",
    "\n",
    "#credentials='/home/felix/data/research/Google/AffectiveAgents-7874f11e65d6.json'\n",
    "credentials='C:\\\\Users\\\\elisa\\\\Seminare_Python\\\\S_dialogsystem\\\\dialogsystem-1627986561247-c6ec7c426248.json'\n",
    "os.environ[\"GOOGLE_APPLICATION_CREDENTIALS\"]=credentials"
   ]
  },
  {
   "cell_type": "code",
   "execution_count": 11,
   "id": "596a7fa2",
   "metadata": {},
   "outputs": [],
   "source": [
    "client = speech.SpeechClient()\n",
    "with io.open(filename, \"rb\") as audio_file:\n",
    "    content = audio_file.read()\n",
    "audio = speech.RecognitionAudio(content = content)\n",
    "config = speech.RecognitionConfig(\n",
    "    encoding=speech.RecognitionConfig.AudioEncoding.LINEAR16,\n",
    "    language_code=\"de-DE\",\n",
    ")"
   ]
  },
  {
   "cell_type": "code",
   "execution_count": 12,
   "id": "e4a56141",
   "metadata": {},
   "outputs": [
    {
     "name": "stdout",
     "output_type": "stream",
     "text": [
      "Transcript 0: hallo ich bin's\n"
     ]
    }
   ],
   "source": [
    "response = client.recognize(config=config, audio=audio)\n",
    "for result in response.results:\n",
    "    for index, alternative in enumerate(result.alternatives):\n",
    "        print(\"Transcript {}: {}\".format(index, alternative.transcript))"
   ]
  },
  {
   "cell_type": "code",
   "execution_count": 21,
   "id": "91cc700c",
   "metadata": {},
   "outputs": [],
   "source": [
    "%%capture\n",
    "# Local installation\n",
    "!git clone https://github.com/speechbrain/speechbrain/\n",
    "%cd /content/speechbrain/\n",
    "!pip install -r requirements.txt\n",
    "!pip install -e ."
   ]
  },
  {
   "cell_type": "code",
   "execution_count": 11,
   "id": "062d1835",
   "metadata": {},
   "outputs": [
    {
     "name": "stdout",
     "output_type": "stream",
     "text": [
      "Requirement already satisfied: speechbrain in c:\\users\\elisa\\appdata\\local\\programs\\python\\python39\\lib\\site-packages (0.5.9)\n",
      "Requirement already satisfied: sentencepiece in c:\\users\\elisa\\appdata\\local\\programs\\python\\python39\\lib\\site-packages (from speechbrain) (0.1.96)\n",
      "Requirement already satisfied: hyperpyyaml in c:\\users\\elisa\\appdata\\local\\programs\\python\\python39\\lib\\site-packages (from speechbrain) (1.0.0)\n",
      "Requirement already satisfied: scipy in c:\\users\\elisa\\appdata\\local\\programs\\python\\python39\\lib\\site-packages (from speechbrain) (1.7.1)\n",
      "Requirement already satisfied: tqdm in c:\\users\\elisa\\appdata\\local\\programs\\python\\python39\\lib\\site-packages (from speechbrain) (4.62.0)\n",
      "Requirement already satisfied: huggingface-hub in c:\\users\\elisa\\appdata\\local\\programs\\python\\python39\\lib\\site-packages (from speechbrain) (0.0.15)\n",
      "Requirement already satisfied: numpy in c:\\users\\elisa\\appdata\\local\\programs\\python\\python39\\lib\\site-packages (from speechbrain) (1.21.1)\n",
      "Requirement already satisfied: packaging in c:\\users\\elisa\\appdata\\local\\programs\\python\\python39\\lib\\site-packages (from speechbrain) (21.0)\n",
      "Requirement already satisfied: torchaudio in c:\\users\\elisa\\appdata\\local\\programs\\python\\python39\\lib\\site-packages (from speechbrain) (0.9.0)\n",
      "Requirement already satisfied: joblib in c:\\users\\elisa\\appdata\\local\\programs\\python\\python39\\lib\\site-packages (from speechbrain) (1.0.1)\n",
      "Requirement already satisfied: torch in c:\\users\\elisa\\appdata\\local\\programs\\python\\python39\\lib\\site-packages (from speechbrain) (1.9.0)\n",
      "Requirement already satisfied: requests in c:\\users\\elisa\\appdata\\local\\programs\\python\\python39\\lib\\site-packages (from huggingface-hub->speechbrain) (2.26.0)\n",
      "Requirement already satisfied: typing-extensions in c:\\users\\elisa\\appdata\\local\\programs\\python\\python39\\lib\\site-packages (from huggingface-hub->speechbrain) (3.10.0.0)\n",
      "Requirement already satisfied: filelock in c:\\users\\elisa\\appdata\\local\\programs\\python\\python39\\lib\\site-packages (from huggingface-hub->speechbrain) (3.0.12)\n",
      "Requirement already satisfied: pyparsing>=2.0.2 in c:\\users\\elisa\\appdata\\local\\programs\\python\\python39\\lib\\site-packages (from packaging->speechbrain) (2.4.7)\n",
      "Requirement already satisfied: ruamel.yaml>=0.15 in c:\\users\\elisa\\appdata\\local\\programs\\python\\python39\\lib\\site-packages (from hyperpyyaml->speechbrain) (0.17.10)\n",
      "Requirement already satisfied: pyyaml>=5.1 in c:\\users\\elisa\\appdata\\local\\programs\\python\\python39\\lib\\site-packages (from hyperpyyaml->speechbrain) (5.4.1)\n",
      "Requirement already satisfied: ruamel.yaml.clib>=0.1.2 in c:\\users\\elisa\\appdata\\local\\programs\\python\\python39\\lib\\site-packages (from ruamel.yaml>=0.15->hyperpyyaml->speechbrain) (0.2.6)\n",
      "Requirement already satisfied: charset-normalizer~=2.0.0 in c:\\users\\elisa\\appdata\\local\\programs\\python\\python39\\lib\\site-packages (from requests->huggingface-hub->speechbrain) (2.0.3)\n",
      "Requirement already satisfied: idna<4,>=2.5 in c:\\users\\elisa\\appdata\\local\\programs\\python\\python39\\lib\\site-packages (from requests->huggingface-hub->speechbrain) (3.2)\n",
      "Requirement already satisfied: urllib3<1.27,>=1.21.1 in c:\\users\\elisa\\appdata\\local\\programs\\python\\python39\\lib\\site-packages (from requests->huggingface-hub->speechbrain) (1.26.6)\n",
      "Requirement already satisfied: certifi>=2017.4.17 in c:\\users\\elisa\\appdata\\local\\programs\\python\\python39\\lib\\site-packages (from requests->huggingface-hub->speechbrain) (2021.5.30)\n",
      "Requirement already satisfied: colorama in c:\\users\\elisa\\appdata\\local\\programs\\python\\python39\\lib\\site-packages (from tqdm->speechbrain) (0.4.4)\n"
     ]
    },
    {
     "name": "stderr",
     "output_type": "stream",
     "text": [
      "WARNING: You are using pip version 21.2.1; however, version 21.2.4 is available.\n",
      "You should consider upgrading via the 'c:\\users\\elisa\\appdata\\local\\programs\\python\\python39\\python.exe -m pip install --upgrade pip' command.\n"
     ]
    },
    {
     "data": {
      "application/vnd.jupyter.widget-view+json": {
       "model_id": "5ba1c6b4996b4ebc8fd45d1e182fef23",
       "version_major": 2,
       "version_minor": 0
      },
      "text/plain": [
       "Downloading:   0%|          | 0.00/4.49k [00:00<?, ?B/s]"
      ]
     },
     "metadata": {},
     "output_type": "display_data"
    },
    {
     "ename": "OSError",
     "evalue": "[WinError 1314] Dem Client fehlt ein erforderliches Recht: 'C:\\\\Users\\\\elisa\\\\.cache\\\\huggingface\\\\hub\\\\7aac72d39109ee19b4004d94239c2924caf33de6d85b0aff9296d844982210cb.d14310ea63844fb38520a592ea3a92e4f131b5f4683f8fa08e27b1e403c92293' -> 'pretrained_model\\\\hyperparams.yaml'",
     "output_type": "error",
     "traceback": [
      "\u001b[1;31m---------------------------------------------------------------------------\u001b[0m",
      "\u001b[1;31mOSError\u001b[0m                                   Traceback (most recent call last)",
      "\u001b[1;32m~\\AppData\\Local\\Temp/ipykernel_12880/1718909291.py\u001b[0m in \u001b[0;36m<module>\u001b[1;34m\u001b[0m\n\u001b[0;32m      3\u001b[0m \u001b[1;32mimport\u001b[0m \u001b[0mspeechbrain\u001b[0m \u001b[1;32mas\u001b[0m \u001b[0msb\u001b[0m\u001b[1;33m\u001b[0m\u001b[1;33m\u001b[0m\u001b[0m\n\u001b[0;32m      4\u001b[0m \u001b[1;32mfrom\u001b[0m \u001b[0mspeechbrain\u001b[0m\u001b[1;33m.\u001b[0m\u001b[0mpretrained\u001b[0m \u001b[1;32mimport\u001b[0m \u001b[0mEncoderDecoderASR\u001b[0m\u001b[1;33m\u001b[0m\u001b[1;33m\u001b[0m\u001b[0m\n\u001b[1;32m----> 5\u001b[1;33m \u001b[0masr_model\u001b[0m \u001b[1;33m=\u001b[0m \u001b[0mEncoderDecoderASR\u001b[0m\u001b[1;33m.\u001b[0m\u001b[0mfrom_hparams\u001b[0m\u001b[1;33m(\u001b[0m\u001b[0msource\u001b[0m\u001b[1;33m=\u001b[0m\u001b[1;34m\"speechbrain/asr-crdnn-rnnlm-librispeech\"\u001b[0m\u001b[1;33m,\u001b[0m \u001b[0msavedir\u001b[0m\u001b[1;33m=\u001b[0m\u001b[1;34m\"pretrained_model\"\u001b[0m\u001b[1;33m)\u001b[0m\u001b[1;33m\u001b[0m\u001b[1;33m\u001b[0m\u001b[0m\n\u001b[0m",
      "\u001b[1;32m~\\AppData\\Local\\Programs\\Python\\Python39\\lib\\site-packages\\speechbrain\\pretrained\\interfaces.py\u001b[0m in \u001b[0;36mfrom_hparams\u001b[1;34m(cls, source, hparams_file, overrides, savedir, **kwargs)\u001b[0m\n\u001b[0;32m    224\u001b[0m             \u001b[0mclsname\u001b[0m \u001b[1;33m=\u001b[0m \u001b[0mcls\u001b[0m\u001b[1;33m.\u001b[0m\u001b[0m__name__\u001b[0m\u001b[1;33m\u001b[0m\u001b[1;33m\u001b[0m\u001b[0m\n\u001b[0;32m    225\u001b[0m             \u001b[0msavedir\u001b[0m \u001b[1;33m=\u001b[0m \u001b[1;34mf\"./pretrained_models/{clsname}-{hash(source)}\"\u001b[0m\u001b[1;33m\u001b[0m\u001b[1;33m\u001b[0m\u001b[0m\n\u001b[1;32m--> 226\u001b[1;33m         \u001b[0mhparams_local_path\u001b[0m \u001b[1;33m=\u001b[0m \u001b[0mfetch\u001b[0m\u001b[1;33m(\u001b[0m\u001b[0mhparams_file\u001b[0m\u001b[1;33m,\u001b[0m \u001b[0msource\u001b[0m\u001b[1;33m,\u001b[0m \u001b[0msavedir\u001b[0m\u001b[1;33m)\u001b[0m\u001b[1;33m\u001b[0m\u001b[1;33m\u001b[0m\u001b[0m\n\u001b[0m\u001b[0;32m    227\u001b[0m \u001b[1;33m\u001b[0m\u001b[0m\n\u001b[0;32m    228\u001b[0m         \u001b[1;31m# Load the modules:\u001b[0m\u001b[1;33m\u001b[0m\u001b[1;33m\u001b[0m\u001b[1;33m\u001b[0m\u001b[0m\n",
      "\u001b[1;32m~\\AppData\\Local\\Programs\\Python\\Python39\\lib\\site-packages\\speechbrain\\pretrained\\fetching.py\u001b[0m in \u001b[0;36mfetch\u001b[1;34m(filename, source, savedir, overwrite, save_filename)\u001b[0m\n\u001b[0;32m    108\u001b[0m         \u001b[0msourcepath\u001b[0m \u001b[1;33m=\u001b[0m \u001b[0mpathlib\u001b[0m\u001b[1;33m.\u001b[0m\u001b[0mPath\u001b[0m\u001b[1;33m(\u001b[0m\u001b[0mfetched_file\u001b[0m\u001b[1;33m)\u001b[0m\u001b[1;33m.\u001b[0m\u001b[0mabsolute\u001b[0m\u001b[1;33m(\u001b[0m\u001b[1;33m)\u001b[0m\u001b[1;33m\u001b[0m\u001b[1;33m\u001b[0m\u001b[0m\n\u001b[0;32m    109\u001b[0m         \u001b[0m_missing_ok_unlink\u001b[0m\u001b[1;33m(\u001b[0m\u001b[0mdestination\u001b[0m\u001b[1;33m)\u001b[0m\u001b[1;33m\u001b[0m\u001b[1;33m\u001b[0m\u001b[0m\n\u001b[1;32m--> 110\u001b[1;33m         \u001b[0mdestination\u001b[0m\u001b[1;33m.\u001b[0m\u001b[0msymlink_to\u001b[0m\u001b[1;33m(\u001b[0m\u001b[0msourcepath\u001b[0m\u001b[1;33m)\u001b[0m\u001b[1;33m\u001b[0m\u001b[1;33m\u001b[0m\u001b[0m\n\u001b[0m\u001b[0;32m    111\u001b[0m     \u001b[1;32mreturn\u001b[0m \u001b[0mdestination\u001b[0m\u001b[1;33m\u001b[0m\u001b[1;33m\u001b[0m\u001b[0m\n",
      "\u001b[1;32m~\\AppData\\Local\\Programs\\Python\\Python39\\lib\\pathlib.py\u001b[0m in \u001b[0;36msymlink_to\u001b[1;34m(self, target, target_is_directory)\u001b[0m\n\u001b[0;32m   1391\u001b[0m         \u001b[0mNote\u001b[0m \u001b[0mthe\u001b[0m \u001b[0morder\u001b[0m \u001b[0mof\u001b[0m \u001b[0marguments\u001b[0m \u001b[1;33m(\u001b[0m\u001b[0mlink\u001b[0m\u001b[1;33m,\u001b[0m \u001b[0mtarget\u001b[0m\u001b[1;33m)\u001b[0m \u001b[1;32mis\u001b[0m \u001b[0mthe\u001b[0m \u001b[0mreverse\u001b[0m \u001b[0mof\u001b[0m \u001b[0mos\u001b[0m\u001b[1;33m.\u001b[0m\u001b[0msymlink\u001b[0m\u001b[1;33m.\u001b[0m\u001b[1;33m\u001b[0m\u001b[1;33m\u001b[0m\u001b[0m\n\u001b[0;32m   1392\u001b[0m         \"\"\"\n\u001b[1;32m-> 1393\u001b[1;33m         \u001b[0mself\u001b[0m\u001b[1;33m.\u001b[0m\u001b[0m_accessor\u001b[0m\u001b[1;33m.\u001b[0m\u001b[0msymlink\u001b[0m\u001b[1;33m(\u001b[0m\u001b[0mtarget\u001b[0m\u001b[1;33m,\u001b[0m \u001b[0mself\u001b[0m\u001b[1;33m,\u001b[0m \u001b[0mtarget_is_directory\u001b[0m\u001b[1;33m)\u001b[0m\u001b[1;33m\u001b[0m\u001b[1;33m\u001b[0m\u001b[0m\n\u001b[0m\u001b[0;32m   1394\u001b[0m \u001b[1;33m\u001b[0m\u001b[0m\n\u001b[0;32m   1395\u001b[0m     \u001b[1;32mdef\u001b[0m \u001b[0mlink_to\u001b[0m\u001b[1;33m(\u001b[0m\u001b[0mself\u001b[0m\u001b[1;33m,\u001b[0m \u001b[0mtarget\u001b[0m\u001b[1;33m)\u001b[0m\u001b[1;33m:\u001b[0m\u001b[1;33m\u001b[0m\u001b[1;33m\u001b[0m\u001b[0m\n",
      "\u001b[1;31mOSError\u001b[0m: [WinError 1314] Dem Client fehlt ein erforderliches Recht: 'C:\\\\Users\\\\elisa\\\\.cache\\\\huggingface\\\\hub\\\\7aac72d39109ee19b4004d94239c2924caf33de6d85b0aff9296d844982210cb.d14310ea63844fb38520a592ea3a92e4f131b5f4683f8fa08e27b1e403c92293' -> 'pretrained_model\\\\hyperparams.yaml'"
     ]
    }
   ],
   "source": [
    "   #with speechbrain tts in english\n",
    "!pip install speechbrain\n",
    "import speechbrain as sb\n",
    "from speechbrain.pretrained import EncoderDecoderASR\n",
    "asr_model = EncoderDecoderASR.from_hparams(source=\"speechbrain/asr-crdnn-rnnlm-librispeech\", savedir=\"pretrained_model\")"
   ]
  },
  {
   "cell_type": "code",
   "execution_count": 12,
   "id": "6292bdfe",
   "metadata": {},
   "outputs": [
    {
     "ename": "NameError",
     "evalue": "name 'asr_model' is not defined",
     "output_type": "error",
     "traceback": [
      "\u001b[1;31m---------------------------------------------------------------------------\u001b[0m",
      "\u001b[1;31mNameError\u001b[0m                                 Traceback (most recent call last)",
      "\u001b[1;32m~\\AppData\\Local\\Temp/ipykernel_12880/738457574.py\u001b[0m in \u001b[0;36m<module>\u001b[1;34m\u001b[0m\n\u001b[1;32m----> 1\u001b[1;33m \u001b[0masr_model\u001b[0m\u001b[1;33m.\u001b[0m\u001b[0mtranscibe_file\u001b[0m\u001b[1;33m(\u001b[0m\u001b[0mfilename\u001b[0m\u001b[1;33m)\u001b[0m\u001b[1;33m\u001b[0m\u001b[1;33m\u001b[0m\u001b[0m\n\u001b[0m",
      "\u001b[1;31mNameError\u001b[0m: name 'asr_model' is not defined"
     ]
    }
   ],
   "source": [
    "asr_model.transcibe_file(filename)"
   ]
  },
  {
   "cell_type": "markdown",
   "id": "070173eb",
   "metadata": {},
   "source": [
    "### Try SpeechRecognition"
   ]
  },
  {
   "cell_type": "code",
   "execution_count": 23,
   "id": "4419ba05",
   "metadata": {},
   "outputs": [
    {
     "name": "stdout",
     "output_type": "stream",
     "text": [
      "Collecting PyAudio\n",
      "  Downloading PyAudio-0.2.11.tar.gz (37 kB)\n",
      "Building wheels for collected packages: PyAudio\n",
      "  Building wheel for PyAudio (setup.py): started\n",
      "  Building wheel for PyAudio (setup.py): finished with status 'error'\n",
      "  Running setup.py clean for PyAudio\n",
      "Failed to build PyAudio\n",
      "Installing collected packages: PyAudio\n",
      "    Running setup.py install for PyAudio: started\n",
      "    Running setup.py install for PyAudio: finished with status 'error'\n"
     ]
    },
    {
     "name": "stderr",
     "output_type": "stream",
     "text": [
      "  ERROR: Command errored out with exit status 1:\n",
      "   command: 'c:\\users\\elisa\\appdata\\local\\programs\\python\\python39\\python.exe' -u -c 'import io, os, sys, setuptools, tokenize; sys.argv[0] = '\"'\"'C:\\\\Users\\\\elisa\\\\AppData\\\\Local\\\\Temp\\\\pip-install-f4aqwzgk\\\\pyaudio_7c887d2b081a4097aef2526dfa4d6b2e\\\\setup.py'\"'\"'; __file__='\"'\"'C:\\\\Users\\\\elisa\\\\AppData\\\\Local\\\\Temp\\\\pip-install-f4aqwzgk\\\\pyaudio_7c887d2b081a4097aef2526dfa4d6b2e\\\\setup.py'\"'\"';f = getattr(tokenize, '\"'\"'open'\"'\"', open)(__file__) if os.path.exists(__file__) else io.StringIO('\"'\"'from setuptools import setup; setup()'\"'\"');code = f.read().replace('\"'\"'\\r\\n'\"'\"', '\"'\"'\\n'\"'\"');f.close();exec(compile(code, __file__, '\"'\"'exec'\"'\"'))' bdist_wheel -d 'C:\\Users\\elisa\\AppData\\Local\\Temp\\pip-wheel-pr6e5mx_'\n",
      "       cwd: C:\\Users\\elisa\\AppData\\Local\\Temp\\pip-install-f4aqwzgk\\pyaudio_7c887d2b081a4097aef2526dfa4d6b2e\\\n",
      "  Complete output (9 lines):\n",
      "  running bdist_wheel\n",
      "  running build\n",
      "  running build_py\n",
      "  creating build\n",
      "  creating build\\lib.win-amd64-3.9\n",
      "  copying src\\pyaudio.py -> build\\lib.win-amd64-3.9\n",
      "  running build_ext\n",
      "  building '_portaudio' extension\n",
      "  error: Microsoft Visual C++ 14.0 or greater is required. Get it with \"Microsoft C++ Build Tools\": https://visualstudio.microsoft.com/visual-cpp-build-tools/\n",
      "  ----------------------------------------\n",
      "  ERROR: Failed building wheel for PyAudio\n",
      "    ERROR: Command errored out with exit status 1:\n",
      "     command: 'c:\\users\\elisa\\appdata\\local\\programs\\python\\python39\\python.exe' -u -c 'import io, os, sys, setuptools, tokenize; sys.argv[0] = '\"'\"'C:\\\\Users\\\\elisa\\\\AppData\\\\Local\\\\Temp\\\\pip-install-f4aqwzgk\\\\pyaudio_7c887d2b081a4097aef2526dfa4d6b2e\\\\setup.py'\"'\"'; __file__='\"'\"'C:\\\\Users\\\\elisa\\\\AppData\\\\Local\\\\Temp\\\\pip-install-f4aqwzgk\\\\pyaudio_7c887d2b081a4097aef2526dfa4d6b2e\\\\setup.py'\"'\"';f = getattr(tokenize, '\"'\"'open'\"'\"', open)(__file__) if os.path.exists(__file__) else io.StringIO('\"'\"'from setuptools import setup; setup()'\"'\"');code = f.read().replace('\"'\"'\\r\\n'\"'\"', '\"'\"'\\n'\"'\"');f.close();exec(compile(code, __file__, '\"'\"'exec'\"'\"'))' install --record 'C:\\Users\\elisa\\AppData\\Local\\Temp\\pip-record-41jmawtu\\install-record.txt' --single-version-externally-managed --compile --install-headers 'c:\\users\\elisa\\appdata\\local\\programs\\python\\python39\\Include\\PyAudio'\n",
      "         cwd: C:\\Users\\elisa\\AppData\\Local\\Temp\\pip-install-f4aqwzgk\\pyaudio_7c887d2b081a4097aef2526dfa4d6b2e\\\n",
      "    Complete output (9 lines):\n",
      "    running install\n",
      "    running build\n",
      "    running build_py\n",
      "    creating build\n",
      "    creating build\\lib.win-amd64-3.9\n",
      "    copying src\\pyaudio.py -> build\\lib.win-amd64-3.9\n",
      "    running build_ext\n",
      "    building '_portaudio' extension\n",
      "    error: Microsoft Visual C++ 14.0 or greater is required. Get it with \"Microsoft C++ Build Tools\": https://visualstudio.microsoft.com/visual-cpp-build-tools/\n",
      "    ----------------------------------------\n",
      "ERROR: Command errored out with exit status 1: 'c:\\users\\elisa\\appdata\\local\\programs\\python\\python39\\python.exe' -u -c 'import io, os, sys, setuptools, tokenize; sys.argv[0] = '\"'\"'C:\\\\Users\\\\elisa\\\\AppData\\\\Local\\\\Temp\\\\pip-install-f4aqwzgk\\\\pyaudio_7c887d2b081a4097aef2526dfa4d6b2e\\\\setup.py'\"'\"'; __file__='\"'\"'C:\\\\Users\\\\elisa\\\\AppData\\\\Local\\\\Temp\\\\pip-install-f4aqwzgk\\\\pyaudio_7c887d2b081a4097aef2526dfa4d6b2e\\\\setup.py'\"'\"';f = getattr(tokenize, '\"'\"'open'\"'\"', open)(__file__) if os.path.exists(__file__) else io.StringIO('\"'\"'from setuptools import setup; setup()'\"'\"');code = f.read().replace('\"'\"'\\r\\n'\"'\"', '\"'\"'\\n'\"'\"');f.close();exec(compile(code, __file__, '\"'\"'exec'\"'\"'))' install --record 'C:\\Users\\elisa\\AppData\\Local\\Temp\\pip-record-41jmawtu\\install-record.txt' --single-version-externally-managed --compile --install-headers 'c:\\users\\elisa\\appdata\\local\\programs\\python\\python39\\Include\\PyAudio' Check the logs for full command output.\n",
      "WARNING: You are using pip version 21.2.1; however, version 21.2.4 is available.\n",
      "You should consider upgrading via the 'c:\\users\\elisa\\appdata\\local\\programs\\python\\python39\\python.exe -m pip install --upgrade pip' command.\n"
     ]
    }
   ],
   "source": [
    "!pip install PyAudio"
   ]
  },
  {
   "cell_type": "code",
   "execution_count": 3,
   "id": "d974e818",
   "metadata": {},
   "outputs": [
    {
     "name": "stdout",
     "output_type": "stream",
     "text": [
      "Say something!\n",
      "Google Speech Recognition thinks you said verstehst du mich jetzt wenn ich auf deutsch spreche oder kannst du nur Englisch\n"
     ]
    }
   ],
   "source": [
    "#!pip  install SpeechRecognition\n",
    "import pyaudio\n",
    "import speech_recognition as sr \n",
    "# obtain audio from the microphone\n",
    "r = sr.Recognizer()\n",
    "with sr.Microphone() as source:\n",
    "    print(\"Say something!\")\n",
    "    audio = r.listen(source)\n",
    "\n",
    "# recognize speech using Google Speech Recognition\n",
    "try:\n",
    "    # for testing purposes, we're just using the default API key\n",
    "    # to use another API key, use `r.recognize_google(audio, key=\"GOOGLE_SPEECH_RECOGNITION_API_KEY\")`\n",
    "    # instead of `r.recognize_google(audio)`\n",
    "    print(\"Google Speech Recognition thinks you said \" + r.recognize_google(audio, language='de-DE'))\n",
    "except sr.UnknownValueError:\n",
    "    print(\"Google Speech Recognition could not understand audio\")\n",
    "except sr.RequestError as e:\n",
    "    print(\"Could not request results from Google Speech Recognition service; {0}\".format(e))\n"
   ]
  },
  {
   "cell_type": "markdown",
   "id": "9208e37f",
   "metadata": {},
   "source": [
    "### Playback synthesized text with Google"
   ]
  },
  {
   "cell_type": "code",
   "execution_count": 2,
   "id": "460956de",
   "metadata": {},
   "outputs": [],
   "source": [
    "#formatierung\n",
    "text_to_read = 'In {} sind {} Menschen mit {} geimpft.'.format('Berlin', 123, 'Biontech')"
   ]
  },
  {
   "cell_type": "code",
   "execution_count": 12,
   "id": "36fbe5ca",
   "metadata": {},
   "outputs": [
    {
     "data": {
      "text/plain": [
       "'In Berlin sind 123 Menschen mit Biontech geimpft.'"
      ]
     },
     "execution_count": 12,
     "metadata": {},
     "output_type": "execute_result"
    }
   ],
   "source": [
    "text_to_read"
   ]
  },
  {
   "cell_type": "code",
   "execution_count": 18,
   "id": "aabb13af",
   "metadata": {},
   "outputs": [
    {
     "data": {
      "text/plain": [
       "'C:\\\\Users\\\\elisa\\\\Seminare_Python\\\\S_dialogsystem\\\\S_dialogsystem\\\\out_synth.mp3'"
      ]
     },
     "execution_count": 18,
     "metadata": {},
     "output_type": "execute_result"
    }
   ],
   "source": [
    "import os\n",
    "os.path.abspath(\"S_dialogsystem/out_synth.mp3\")\n"
   ]
  },
  {
   "cell_type": "code",
   "execution_count": 27,
   "id": "93cf37eb",
   "metadata": {
    "scrolled": true
   },
   "outputs": [
    {
     "name": "stderr",
     "output_type": "stream",
     "text": [
      "C:\\Users\\elisa\\AppData\\Local\\Programs\\Python\\Python39\\lib\\site-packages\\pydub\\utils.py:198: RuntimeWarning: Couldn't find ffprobe or avprobe - defaulting to ffprobe, but may not work\n",
      "  warn(\"Couldn't find ffprobe or avprobe - defaulting to ffprobe, but may not work\", RuntimeWarning)\n"
     ]
    },
    {
     "ename": "FileNotFoundError",
     "evalue": "[WinError 2] Das System kann die angegebene Datei nicht finden",
     "output_type": "error",
     "traceback": [
      "\u001b[1;31m---------------------------------------------------------------------------\u001b[0m",
      "\u001b[1;31mFileNotFoundError\u001b[0m                         Traceback (most recent call last)",
      "\u001b[1;32m~\\AppData\\Local\\Temp/ipykernel_15592/2086806581.py\u001b[0m in \u001b[0;36m<module>\u001b[1;34m\u001b[0m\n\u001b[0;32m      6\u001b[0m \u001b[0maudio_file\u001b[0m \u001b[1;33m=\u001b[0m \u001b[1;34m\"C:\\\\Users\\\\elisa\\\\Seminare_Python\\\\S_dialogsystem\\\\out_synth.mp3\"\u001b[0m\u001b[1;33m\u001b[0m\u001b[1;33m\u001b[0m\u001b[0m\n\u001b[0;32m      7\u001b[0m \u001b[0mtts\u001b[0m\u001b[1;33m.\u001b[0m\u001b[0msave\u001b[0m\u001b[1;33m(\u001b[0m\u001b[0maudio_file\u001b[0m\u001b[1;33m)\u001b[0m\u001b[1;33m\u001b[0m\u001b[1;33m\u001b[0m\u001b[0m\n\u001b[1;32m----> 8\u001b[1;33m \u001b[0msr\u001b[0m \u001b[1;33m=\u001b[0m \u001b[0mmp3_to_wav\u001b[0m\u001b[1;33m(\u001b[0m\u001b[0maudio_file\u001b[0m\u001b[1;33m,\u001b[0m \u001b[1;34m'test.wav'\u001b[0m\u001b[1;33m)\u001b[0m\u001b[1;33m\u001b[0m\u001b[1;33m\u001b[0m\u001b[0m\n\u001b[0m\u001b[0;32m      9\u001b[0m \u001b[0mplay_file\u001b[0m\u001b[1;33m(\u001b[0m\u001b[1;34m'test.wav'\u001b[0m\u001b[1;33m,\u001b[0m \u001b[0mint\u001b[0m\u001b[1;33m(\u001b[0m\u001b[0msr\u001b[0m\u001b[1;33m)\u001b[0m\u001b[1;33m)\u001b[0m\u001b[1;33m\u001b[0m\u001b[1;33m\u001b[0m\u001b[0m\n\u001b[0;32m     10\u001b[0m \u001b[1;33m\u001b[0m\u001b[0m\n",
      "\u001b[1;32m~\\AppData\\Local\\Temp/ipykernel_15592/3847327485.py\u001b[0m in \u001b[0;36mmp3_to_wav\u001b[1;34m(infile, outfile)\u001b[0m\n\u001b[0;32m      2\u001b[0m \u001b[1;32mfrom\u001b[0m \u001b[0mpydub\u001b[0m\u001b[1;33m.\u001b[0m\u001b[0mutils\u001b[0m \u001b[1;32mimport\u001b[0m \u001b[0mmediainfo\u001b[0m\u001b[1;33m\u001b[0m\u001b[1;33m\u001b[0m\u001b[0m\n\u001b[0;32m      3\u001b[0m \u001b[1;32mdef\u001b[0m \u001b[0mmp3_to_wav\u001b[0m\u001b[1;33m(\u001b[0m\u001b[0minfile\u001b[0m\u001b[1;33m,\u001b[0m \u001b[0moutfile\u001b[0m\u001b[1;33m)\u001b[0m\u001b[1;33m:\u001b[0m\u001b[1;33m\u001b[0m\u001b[1;33m\u001b[0m\u001b[0m\n\u001b[1;32m----> 4\u001b[1;33m     \u001b[0msr\u001b[0m \u001b[1;33m=\u001b[0m \u001b[0mmediainfo\u001b[0m\u001b[1;33m(\u001b[0m\u001b[0minfile\u001b[0m\u001b[1;33m)\u001b[0m\u001b[1;33m[\u001b[0m\u001b[1;34m'sample_rate'\u001b[0m\u001b[1;33m]\u001b[0m\u001b[1;33m\u001b[0m\u001b[1;33m\u001b[0m\u001b[0m\n\u001b[0m\u001b[0;32m      5\u001b[0m     \u001b[0msound\u001b[0m \u001b[1;33m=\u001b[0m \u001b[0mAudioSegment\u001b[0m\u001b[1;33m.\u001b[0m\u001b[0mfrom_mp3\u001b[0m\u001b[1;33m(\u001b[0m\u001b[0minfile\u001b[0m\u001b[1;33m)\u001b[0m\u001b[1;33m\u001b[0m\u001b[1;33m\u001b[0m\u001b[0m\n\u001b[0;32m      6\u001b[0m     \u001b[0msound\u001b[0m\u001b[1;33m.\u001b[0m\u001b[0mexport\u001b[0m\u001b[1;33m(\u001b[0m\u001b[0moutfile\u001b[0m\u001b[1;33m,\u001b[0m \u001b[0mformat\u001b[0m\u001b[1;33m=\u001b[0m\u001b[1;34m\"wav\"\u001b[0m\u001b[1;33m)\u001b[0m\u001b[1;33m\u001b[0m\u001b[1;33m\u001b[0m\u001b[0m\n",
      "\u001b[1;32m~\\AppData\\Local\\Programs\\Python\\Python39\\lib\\site-packages\\pydub\\utils.py\u001b[0m in \u001b[0;36mmediainfo\u001b[1;34m(filepath)\u001b[0m\n\u001b[0;32m    332\u001b[0m \u001b[1;33m\u001b[0m\u001b[0m\n\u001b[0;32m    333\u001b[0m     \u001b[0mcommand\u001b[0m \u001b[1;33m=\u001b[0m \u001b[1;33m[\u001b[0m\u001b[0mprober\u001b[0m\u001b[1;33m,\u001b[0m \u001b[1;34m'-of'\u001b[0m\u001b[1;33m,\u001b[0m \u001b[1;34m'old'\u001b[0m\u001b[1;33m]\u001b[0m \u001b[1;33m+\u001b[0m \u001b[0mcommand_args\u001b[0m\u001b[1;33m\u001b[0m\u001b[1;33m\u001b[0m\u001b[0m\n\u001b[1;32m--> 334\u001b[1;33m     \u001b[0mres\u001b[0m \u001b[1;33m=\u001b[0m \u001b[0mPopen\u001b[0m\u001b[1;33m(\u001b[0m\u001b[0mcommand\u001b[0m\u001b[1;33m,\u001b[0m \u001b[0mstdout\u001b[0m\u001b[1;33m=\u001b[0m\u001b[0mPIPE\u001b[0m\u001b[1;33m)\u001b[0m\u001b[1;33m\u001b[0m\u001b[1;33m\u001b[0m\u001b[0m\n\u001b[0m\u001b[0;32m    335\u001b[0m     \u001b[0moutput\u001b[0m \u001b[1;33m=\u001b[0m \u001b[0mres\u001b[0m\u001b[1;33m.\u001b[0m\u001b[0mcommunicate\u001b[0m\u001b[1;33m(\u001b[0m\u001b[1;33m)\u001b[0m\u001b[1;33m[\u001b[0m\u001b[1;36m0\u001b[0m\u001b[1;33m]\u001b[0m\u001b[1;33m.\u001b[0m\u001b[0mdecode\u001b[0m\u001b[1;33m(\u001b[0m\u001b[1;34m\"utf-8\"\u001b[0m\u001b[1;33m)\u001b[0m\u001b[1;33m\u001b[0m\u001b[1;33m\u001b[0m\u001b[0m\n\u001b[0;32m    336\u001b[0m \u001b[1;33m\u001b[0m\u001b[0m\n",
      "\u001b[1;32m~\\AppData\\Local\\Programs\\Python\\Python39\\lib\\subprocess.py\u001b[0m in \u001b[0;36m__init__\u001b[1;34m(self, args, bufsize, executable, stdin, stdout, stderr, preexec_fn, close_fds, shell, cwd, env, universal_newlines, startupinfo, creationflags, restore_signals, start_new_session, pass_fds, user, group, extra_groups, encoding, errors, text, umask)\u001b[0m\n\u001b[0;32m    949\u001b[0m                             encoding=encoding, errors=errors)\n\u001b[0;32m    950\u001b[0m \u001b[1;33m\u001b[0m\u001b[0m\n\u001b[1;32m--> 951\u001b[1;33m             self._execute_child(args, executable, preexec_fn, close_fds,\n\u001b[0m\u001b[0;32m    952\u001b[0m                                 \u001b[0mpass_fds\u001b[0m\u001b[1;33m,\u001b[0m \u001b[0mcwd\u001b[0m\u001b[1;33m,\u001b[0m \u001b[0menv\u001b[0m\u001b[1;33m,\u001b[0m\u001b[1;33m\u001b[0m\u001b[1;33m\u001b[0m\u001b[0m\n\u001b[0;32m    953\u001b[0m                                 \u001b[0mstartupinfo\u001b[0m\u001b[1;33m,\u001b[0m \u001b[0mcreationflags\u001b[0m\u001b[1;33m,\u001b[0m \u001b[0mshell\u001b[0m\u001b[1;33m,\u001b[0m\u001b[1;33m\u001b[0m\u001b[1;33m\u001b[0m\u001b[0m\n",
      "\u001b[1;32m~\\AppData\\Local\\Programs\\Python\\Python39\\lib\\subprocess.py\u001b[0m in \u001b[0;36m_execute_child\u001b[1;34m(self, args, executable, preexec_fn, close_fds, pass_fds, cwd, env, startupinfo, creationflags, shell, p2cread, p2cwrite, c2pread, c2pwrite, errread, errwrite, unused_restore_signals, unused_gid, unused_gids, unused_uid, unused_umask, unused_start_new_session)\u001b[0m\n\u001b[0;32m   1418\u001b[0m             \u001b[1;31m# Start the process\u001b[0m\u001b[1;33m\u001b[0m\u001b[1;33m\u001b[0m\u001b[1;33m\u001b[0m\u001b[0m\n\u001b[0;32m   1419\u001b[0m             \u001b[1;32mtry\u001b[0m\u001b[1;33m:\u001b[0m\u001b[1;33m\u001b[0m\u001b[1;33m\u001b[0m\u001b[0m\n\u001b[1;32m-> 1420\u001b[1;33m                 hp, ht, pid, tid = _winapi.CreateProcess(executable, args,\n\u001b[0m\u001b[0;32m   1421\u001b[0m                                          \u001b[1;31m# no special security\u001b[0m\u001b[1;33m\u001b[0m\u001b[1;33m\u001b[0m\u001b[1;33m\u001b[0m\u001b[0m\n\u001b[0;32m   1422\u001b[0m                                          \u001b[1;32mNone\u001b[0m\u001b[1;33m,\u001b[0m \u001b[1;32mNone\u001b[0m\u001b[1;33m,\u001b[0m\u001b[1;33m\u001b[0m\u001b[1;33m\u001b[0m\u001b[0m\n",
      "\u001b[1;31mFileNotFoundError\u001b[0m: [WinError 2] Das System kann die angegebene Datei nicht finden"
     ]
    }
   ],
   "source": [
    "#will be used for corona dialogsystem\n",
    "#neural network\n",
    "#!pip install MediaInfo\n",
    "from gtts import gTTS\n",
    "tts = gTTS(text_to_read, lang='de')\n",
    "audio_file = \"C:\\\\Users\\\\elisa\\\\Seminare_Python\\\\S_dialogsystem\\\\out_synth.mp3\"\n",
    "tts.save(audio_file)\n",
    "sr = mp3_to_wav(audio_file, 'test.wav')\n",
    "play_file('test.wav', int(sr))\n",
    "\n",
    "#import os\n",
    "#from gtts import gTTS\n",
    "\n",
    "#language = 'de'\n",
    "#slow_audio_speed = False\n",
    "#audio_file = \"out_synth.mp3\"\n",
    "\n",
    "#def reading_string():\n",
    "#    audio_created =  gTTS(text=text_to_read, lang=language, slow=slow_audio_speed)\n",
    "#    audio_created.save(audio_file)\n",
    "    \n",
    "#    os.system(f'start {audio_file}')\n",
    "    \n",
    "#if __name__ == \"__main__\":\n",
    "#    reading_string()\n",
    "\n"
   ]
  },
  {
   "cell_type": "markdown",
   "id": "4865f5c0",
   "metadata": {},
   "source": [
    "### Playback with pytts (using espeak)"
   ]
  },
  {
   "cell_type": "code",
   "execution_count": 3,
   "id": "b8c748cd",
   "metadata": {},
   "outputs": [],
   "source": [
    "#formantsysthese\n",
    "import pyttsx3\n",
    "engine = pyttsx3.init()\n",
    "engine.setProperty('voice', 'german')\n",
    "engine.setProperty('rate', 200)\n",
    "engine.say(text_to_read)\n",
    "engine.runAndWait()"
   ]
  },
  {
   "cell_type": "code",
   "execution_count": 13,
   "id": "8bf8afec",
   "metadata": {},
   "outputs": [
    {
     "name": "stdout",
     "output_type": "stream",
     "text": [
      "<Voice id=HKEY_LOCAL_MACHINE\\SOFTWARE\\Microsoft\\Speech\\Voices\\Tokens\\TTS_MS_DE-DE_HEDDA_11.0\n",
      "          name=Microsoft Hedda Desktop - German\n",
      "          languages=[]\n",
      "          gender=None\n",
      "          age=None>\n",
      "<Voice id=HKEY_LOCAL_MACHINE\\SOFTWARE\\Microsoft\\Speech\\Voices\\Tokens\\TTS_MS_EN-US_ZIRA_11.0\n",
      "          name=Microsoft Zira Desktop - English (United States)\n",
      "          languages=[]\n",
      "          gender=None\n",
      "          age=None>\n"
     ]
    }
   ],
   "source": [
    "voices = engine.getProperty('voices') \n",
    "for v in voices:\n",
    "    print(v)"
   ]
  },
  {
   "cell_type": "markdown",
   "id": "6bf78b95",
   "metadata": {},
   "source": [
    "### Voxpopuli (using mbrola)"
   ]
  },
  {
   "cell_type": "code",
   "execution_count": 29,
   "id": "893d6e48",
   "metadata": {},
   "outputs": [
    {
     "ename": "InvalidVoiceParameters",
     "evalue": "Voice de6 not found. Check language and voice id, or install by running 'sudo apt install mbrola-de6'. On Windows download voices from https://github.com/numediart/MBROLA-voices",
     "output_type": "error",
     "traceback": [
      "\u001b[1;31m---------------------------------------------------------------------------\u001b[0m",
      "\u001b[1;31mInvalidVoiceParameters\u001b[0m                    Traceback (most recent call last)",
      "\u001b[1;32m~\\AppData\\Local\\Temp/ipykernel_15592/3408776385.py\u001b[0m in \u001b[0;36m<module>\u001b[1;34m\u001b[0m\n\u001b[0;32m      1\u001b[0m \u001b[1;32mfrom\u001b[0m \u001b[0mvoxpopuli\u001b[0m \u001b[1;32mimport\u001b[0m \u001b[0mVoice\u001b[0m\u001b[1;33m\u001b[0m\u001b[1;33m\u001b[0m\u001b[0m\n\u001b[1;32m----> 2\u001b[1;33m \u001b[0mvoice\u001b[0m \u001b[1;33m=\u001b[0m \u001b[0mVoice\u001b[0m\u001b[1;33m(\u001b[0m\u001b[0mlang\u001b[0m\u001b[1;33m=\u001b[0m\u001b[1;34m\"de\"\u001b[0m\u001b[1;33m,\u001b[0m \u001b[0mpitch\u001b[0m\u001b[1;33m=\u001b[0m\u001b[1;36m50\u001b[0m\u001b[1;33m,\u001b[0m \u001b[0mspeed\u001b[0m\u001b[1;33m=\u001b[0m\u001b[1;36m200\u001b[0m\u001b[1;33m,\u001b[0m \u001b[0mvoice_id\u001b[0m\u001b[1;33m=\u001b[0m\u001b[1;36m6\u001b[0m\u001b[1;33m)\u001b[0m\u001b[1;33m\u001b[0m\u001b[1;33m\u001b[0m\u001b[0m\n\u001b[0m\u001b[0;32m      3\u001b[0m \u001b[0mvoice\u001b[0m\u001b[1;33m.\u001b[0m\u001b[0msay\u001b[0m\u001b[1;33m(\u001b[0m\u001b[0mtext_to_read\u001b[0m\u001b[1;33m)\u001b[0m\u001b[1;33m\u001b[0m\u001b[1;33m\u001b[0m\u001b[0m\n",
      "\u001b[1;32m~\\AppData\\Local\\Programs\\Python\\Python39\\lib\\site-packages\\voxpopuli\\main.py\u001b[0m in \u001b[0;36m__init__\u001b[1;34m(self, speed, pitch, lang, voice_id, volume)\u001b[0m\n\u001b[0;32m    114\u001b[0m             \u001b[0mself\u001b[0m\u001b[1;33m.\u001b[0m\u001b[0mvoice_id\u001b[0m \u001b[1;33m=\u001b[0m \u001b[0mvoice_id\u001b[0m\u001b[1;33m\u001b[0m\u001b[1;33m\u001b[0m\u001b[0m\n\u001b[0;32m    115\u001b[0m         \u001b[1;32melse\u001b[0m\u001b[1;33m:\u001b[0m\u001b[1;33m\u001b[0m\u001b[1;33m\u001b[0m\u001b[0m\n\u001b[1;32m--> 116\u001b[1;33m             raise self.InvalidVoiceParameters(\n\u001b[0m\u001b[0;32m    117\u001b[0m                 \u001b[1;34m\"Voice %s not found. Check language and voice id, or install \"\u001b[0m\u001b[1;33m\u001b[0m\u001b[1;33m\u001b[0m\u001b[0m\n\u001b[0;32m    118\u001b[0m                 \u001b[1;34m\"by running 'sudo apt install mbrola-%s'. On Windows download \"\u001b[0m\u001b[1;33m\u001b[0m\u001b[1;33m\u001b[0m\u001b[0m\n",
      "\u001b[1;31mInvalidVoiceParameters\u001b[0m: Voice de6 not found. Check language and voice id, or install by running 'sudo apt install mbrola-de6'. On Windows download voices from https://github.com/numediart/MBROLA-voices"
     ]
    }
   ],
   "source": [
    "from voxpopuli import Voice\n",
    "voice = Voice(lang=\"de\", pitch=50, speed=200, voice_id=6)\n",
    "voice.say(text_to_read)"
   ]
  },
  {
   "cell_type": "code",
   "execution_count": null,
   "id": "3c4ebc6e",
   "metadata": {},
   "outputs": [],
   "source": []
  }
 ],
 "metadata": {
  "kernelspec": {
   "display_name": "dialog_env",
   "language": "python",
   "name": "dialog_env"
  },
  "language_info": {
   "codemirror_mode": {
    "name": "ipython",
    "version": 3
   },
   "file_extension": ".py",
   "mimetype": "text/x-python",
   "name": "python",
   "nbconvert_exporter": "python",
   "pygments_lexer": "ipython3",
   "version": "3.9.6"
  }
 },
 "nbformat": 4,
 "nbformat_minor": 5
}
