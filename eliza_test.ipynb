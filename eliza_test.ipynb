{
 "cells": [
  {
   "cell_type": "code",
   "execution_count": 1,
   "id": "063106a4",
   "metadata": {},
   "outputs": [],
   "source": [
    "from eliza import eliza"
   ]
  },
  {
   "cell_type": "code",
   "execution_count": 6,
   "id": "8819e448",
   "metadata": {},
   "outputs": [
    {
     "name": "stdout",
     "output_type": "stream",
     "text": [
      " Datentr„ger in Laufwerk C: ist Windows-SSD\n",
      " Volumeseriennummer: 44BD-3758\n",
      "\n",
      " Verzeichnis von C:\\Users\\elisa\\S_dialogsystem\\eliza\n",
      "\n",
      "17.05.2021  19:14    <DIR>          .\n",
      "17.05.2021  19:14    <DIR>          ..\n",
      "17.05.2021  17:09                22 .gitignore\n",
      "17.05.2021  17:09            12.290 doctor.txt\n",
      "17.05.2021  17:09             8.028 eliza.py\n",
      "17.05.2021  17:09             1.091 LICENSE\n",
      "17.05.2021  17:09         1.219.320 p36-weizenabaum.pdf\n",
      "17.05.2021  17:09             1.028 README.md\n",
      "17.05.2021  17:09             6.751 test_eliza.py\n",
      "17.05.2021  19:14    <DIR>          __pycache__\n",
      "               7 Datei(en),      1.248.530 Bytes\n",
      "               3 Verzeichnis(se), 87.160.750.080 Bytes frei\n"
     ]
    }
   ],
   "source": [
    "!dir eliza"
   ]
  },
  {
   "cell_type": "code",
   "execution_count": null,
   "id": "2d227ab8",
   "metadata": {},
   "outputs": [],
   "source": []
  },
  {
   "cell_type": "code",
   "execution_count": 2,
   "id": "7d026395",
   "metadata": {},
   "outputs": [],
   "source": [
    "root = \"C:/Users/elisa/S_dialogsystem\"\n",
    "elz = eliza.Eliza()\n",
    "elz.load(root+\"/eliza/deutsch.txt\")"
   ]
  },
  {
   "cell_type": "code",
   "execution_count": null,
   "id": "3e19cd20",
   "metadata": {},
   "outputs": [
    {
     "name": "stdout",
     "output_type": "stream",
     "text": [
      "Sag mir bitte, was dich stÃ¶rt.\n",
      "> hallo\n",
      "Freut mich. ErzÃ¤hl mir dein Problem!\n"
     ]
    }
   ],
   "source": [
    "print(elz.initial())\n",
    "while True:\n",
    "    said = input('> ')\n",
    "    if said =='stop':\n",
    "        break\n",
    "    response = elz.respond(said)\n",
    "    if response is None:\n",
    "        break\n",
    "    print(response)\n",
    "print(elz.final())"
   ]
  },
  {
   "cell_type": "code",
   "execution_count": null,
   "id": "b5fd9b02",
   "metadata": {},
   "outputs": [],
   "source": [
    "dir"
   ]
  },
  {
   "cell_type": "code",
   "execution_count": null,
   "id": "da8144b3",
   "metadata": {},
   "outputs": [],
   "source": []
  }
 ],
 "metadata": {
  "kernelspec": {
   "display_name": "Python 3",
   "language": "python",
   "name": "python3"
  },
  "language_info": {
   "codemirror_mode": {
    "name": "ipython",
    "version": 3
   },
   "file_extension": ".py",
   "mimetype": "text/x-python",
   "name": "python",
   "nbconvert_exporter": "python",
   "pygments_lexer": "ipython3",
   "version": "3.9.5"
  }
 },
 "nbformat": 4,
 "nbformat_minor": 5
}
