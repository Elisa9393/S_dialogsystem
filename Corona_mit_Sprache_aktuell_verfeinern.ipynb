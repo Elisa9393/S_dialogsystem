{
 "cells": [
  {
   "cell_type": "code",
   "execution_count": 2,
   "id": "85a53e2b",
   "metadata": {},
   "outputs": [],
   "source": [
    "#imports\n",
    "from google.cloud import speech\n",
    "import io"
   ]
  },
  {
   "cell_type": "code",
   "execution_count": 34,
   "id": "251bfe5f",
   "metadata": {},
   "outputs": [
    {
     "name": "stdout",
     "output_type": "stream",
     "text": [
      "Coronabot: Guten Tag! Ich bin ein Chatbot, der Sie über Impfzahlen in Deutscchland in formiert. Fragen Sie nach Impfzahlen für die verschiedenen Impfstoffe für die Bundesländer\n",
      "Transcript 0: moderner in Höchst\n"
     ]
    },
    {
     "ename": "AttributeError",
     "evalue": "'NoneType' object has no attribute 'lower'",
     "output_type": "error",
     "traceback": [
      "\u001b[1;31m---------------------------------------------------------------------------\u001b[0m",
      "\u001b[1;31mAttributeError\u001b[0m                            Traceback (most recent call last)",
      "\u001b[1;32m~\\AppData\\Local\\Temp/ipykernel_17072/2788584113.py\u001b[0m in \u001b[0;36m<module>\u001b[1;34m\u001b[0m\n\u001b[0;32m      3\u001b[0m \u001b[0mrecord_file\u001b[0m\u001b[1;33m(\u001b[0m\u001b[1;33m)\u001b[0m\u001b[1;33m\u001b[0m\u001b[1;33m\u001b[0m\u001b[0m\n\u001b[0;32m      4\u001b[0m \u001b[0mtext_to_read\u001b[0m \u001b[1;33m=\u001b[0m \u001b[0mtranscribe\u001b[0m\u001b[1;33m(\u001b[0m\u001b[1;33m)\u001b[0m\u001b[1;33m\u001b[0m\u001b[1;33m\u001b[0m\u001b[0m\n\u001b[1;32m----> 5\u001b[1;33m \u001b[0mdialogmanager\u001b[0m\u001b[1;33m(\u001b[0m\u001b[1;33m)\u001b[0m\u001b[1;33m\u001b[0m\u001b[1;33m\u001b[0m\u001b[0m\n\u001b[0m",
      "\u001b[1;32m~\\AppData\\Local\\Temp/ipykernel_17072/2211571475.py\u001b[0m in \u001b[0;36mdialogmanager\u001b[1;34m()\u001b[0m\n\u001b[0;32m     12\u001b[0m \u001b[1;32mdef\u001b[0m \u001b[0mdialogmanager\u001b[0m\u001b[1;33m(\u001b[0m\u001b[1;33m)\u001b[0m\u001b[1;33m:\u001b[0m\u001b[1;33m\u001b[0m\u001b[1;33m\u001b[0m\u001b[0m\n\u001b[0;32m     13\u001b[0m     \u001b[0minput_s\u001b[0m \u001b[1;33m=\u001b[0m \u001b[0mdo_input\u001b[0m\u001b[1;33m(\u001b[0m\u001b[1;33m)\u001b[0m \u001b[1;31m#do_input() wird aufgerufen, um sich input zu holen\u001b[0m\u001b[1;33m\u001b[0m\u001b[1;33m\u001b[0m\u001b[0m\n\u001b[1;32m---> 14\u001b[1;33m     \u001b[0minput_s\u001b[0m \u001b[1;33m=\u001b[0m \u001b[0mnormalize\u001b[0m\u001b[1;33m(\u001b[0m\u001b[0minput_s\u001b[0m\u001b[1;33m)\u001b[0m\u001b[1;33m\u001b[0m\u001b[1;33m\u001b[0m\u001b[0m\n\u001b[0m\u001b[0;32m     15\u001b[0m     \u001b[1;32mwhile\u001b[0m \u001b[0minput_s\u001b[0m \u001b[1;32mand\u001b[0m \u001b[0minput_s\u001b[0m \u001b[1;33m!=\u001b[0m \u001b[1;34m'fertig'\u001b[0m\u001b[1;33m:\u001b[0m \u001b[1;31m#wenn input-string 'fertig'  ist, wird Schleife nicht ausgeführt\u001b[0m\u001b[1;33m\u001b[0m\u001b[1;33m\u001b[0m\u001b[0m\n\u001b[0;32m     16\u001b[0m         \u001b[0msemantics\u001b[0m \u001b[1;33m=\u001b[0m \u001b[0msemantic\u001b[0m\u001b[1;33m(\u001b[0m\u001b[0minput_s\u001b[0m\u001b[1;33m)\u001b[0m \u001b[1;31m#funktion gibt etwas zurück\u001b[0m\u001b[1;33m\u001b[0m\u001b[1;33m\u001b[0m\u001b[0m\n",
      "\u001b[1;32m~\\AppData\\Local\\Temp/ipykernel_17072/2211571475.py\u001b[0m in \u001b[0;36mnormalize\u001b[1;34m(in_s)\u001b[0m\n\u001b[0;32m     22\u001b[0m \u001b[1;31m#everything as lower case\u001b[0m\u001b[1;33m\u001b[0m\u001b[1;33m\u001b[0m\u001b[1;33m\u001b[0m\u001b[0m\n\u001b[0;32m     23\u001b[0m \u001b[1;32mdef\u001b[0m \u001b[0mnormalize\u001b[0m\u001b[1;33m(\u001b[0m\u001b[0min_s\u001b[0m\u001b[1;33m)\u001b[0m\u001b[1;33m:\u001b[0m\u001b[1;33m\u001b[0m\u001b[1;33m\u001b[0m\u001b[0m\n\u001b[1;32m---> 24\u001b[1;33m     \u001b[1;32mreturn\u001b[0m \u001b[0min_s\u001b[0m\u001b[1;33m.\u001b[0m\u001b[0mlower\u001b[0m\u001b[1;33m(\u001b[0m\u001b[1;33m)\u001b[0m\u001b[1;33m\u001b[0m\u001b[1;33m\u001b[0m\u001b[0m\n\u001b[0m\u001b[0;32m     25\u001b[0m \u001b[1;33m\u001b[0m\u001b[0m\n\u001b[0;32m     26\u001b[0m \u001b[1;32mdef\u001b[0m \u001b[0mdo_input\u001b[0m\u001b[1;33m(\u001b[0m\u001b[1;33m)\u001b[0m\u001b[1;33m:\u001b[0m\u001b[1;33m\u001b[0m\u001b[1;33m\u001b[0m\u001b[0m\n",
      "\u001b[1;31mAttributeError\u001b[0m: 'NoneType' object has no attribute 'lower'"
     ]
    }
   ],
   "source": [
    "tts(text_to_read)\n",
    "init_google()\n",
    "record_file()\n",
    "text_to_read = transcribe()\n",
    "dialogmanager()"
   ]
  },
  {
   "cell_type": "code",
   "execution_count": 31,
   "id": "cb86ebef",
   "metadata": {
    "scrolled": true
   },
   "outputs": [
    {
     "name": "stdout",
     "output_type": "stream",
     "text": [
      "Transcript 0: moderner in Hessen\n"
     ]
    }
   ],
   "source": [
    "init_google()\n",
    "record_file()\n",
    "text_to_read = transcribe()\n",
    "#tts(text_to_read)"
   ]
  },
  {
   "cell_type": "code",
   "execution_count": null,
   "id": "c12ffb6e",
   "metadata": {},
   "outputs": [],
   "source": [
    "def welcome():\n",
    "        "
   ]
  },
  {
   "cell_type": "code",
   "execution_count": 3,
   "id": "c98440b2",
   "metadata": {},
   "outputs": [],
   "source": [
    "#initiates the recording and the the transcription \n",
    "def speech_input():\n",
    "    record_file()\n",
    "    text_to_read = transcribe()\n",
    "    return text_to_read"
   ]
  },
  {
   "cell_type": "code",
   "execution_count": 4,
   "id": "458f2e06",
   "metadata": {},
   "outputs": [],
   "source": [
    "#imports\n",
    "import os\n",
    "import sounddevice as sd\n",
    "import soundfile as sf\n",
    "import numpy as np\n",
    "from scipy.io.wavfile import write\n",
    "sr = 16000  # Sample rate\n",
    "seconds = 3  # Duration of recording\n",
    "filename = 'myfile.wav'\n",
    "\n",
    "#recording\n",
    "def record_file():\n",
    "    data = sd.rec(int(seconds * sr), samplerate=sr, channels=1)\n",
    "    sd.wait()  # Wait until recording is finished\n",
    "    # Convert `data` to 16 bit integers:\n",
    "    y = (np.iinfo(np.int16).max * (data/np.abs(data).max())).astype(np.int16) \n",
    "    write(filename, sr, y)"
   ]
  },
  {
   "cell_type": "code",
   "execution_count": 5,
   "id": "1c03e563",
   "metadata": {},
   "outputs": [],
   "source": [
    "#google stt credentials\n",
    "def  init_google():\n",
    "    credentials='C:\\\\Users\\\\elisa\\\\Seminare_Python\\\\S_dialogsystem\\\\dialogsystem-1627986561247-c6ec7c426248.json'\n",
    "    os.environ[\"GOOGLE_APPLICATION_CREDENTIALS\"]=credentials"
   ]
  },
  {
   "cell_type": "code",
   "execution_count": 6,
   "id": "a7195723",
   "metadata": {},
   "outputs": [],
   "source": [
    "#print the transcription with google\n",
    "def transcribe():\n",
    "    client = speech.SpeechClient()\n",
    "    with io.open(filename, \"rb\") as audio_file:\n",
    "        content = audio_file.read()\n",
    "    audio = speech.RecognitionAudio(content = content)\n",
    "    config = speech.RecognitionConfig(\n",
    "        encoding=speech.RecognitionConfig.AudioEncoding.LINEAR16,\n",
    "        language_code=\"de-DE\",\n",
    "    )\n",
    "    response = client.recognize(config=config, audio=audio)\n",
    "    for result in response.results:\n",
    "        for index, alternative in enumerate(result.alternatives):\n",
    "            print(\"Transcript {}: {}\".format(index, alternative.transcript))\n",
    "            return alternative.transcript"
   ]
  },
  {
   "cell_type": "code",
   "execution_count": 24,
   "id": "3c3df99b",
   "metadata": {
    "scrolled": true
   },
   "outputs": [],
   "source": [
    "import pyttsx3\n",
    "def tts(text_to_read):\n",
    "    text_to_read = 'Guten Tag! Ich bin ein Chatbot, der Sie über Impfzahlen in Deutscchland in formiert. Fragen Sie nach Impfzahlen für die verschiedenen Impfstoffe für die Bundesländer'\n",
    "    engine = pyttsx3.init()\n",
    "    engine.setProperty('voice', 'german')\n",
    "    engine.setProperty('rate', 200)\n",
    "    engine.say(text_to_read)\n",
    "    engine.runAndWait()   \n",
    "    print('Coronabot: '+text_to_read)\n",
    "\n",
    "    "
   ]
  },
  {
   "cell_type": "code",
   "execution_count": 8,
   "id": "a638d662",
   "metadata": {},
   "outputs": [],
   "source": [
    "#defines states in API\n",
    "states_api = {'baden':'BW', 'bayern':'BY', 'berlin':'BE', 'brandenburg':'BB', 'bremen':'HB', 'hamburg': 'HH', 'hessen': 'HE', 'mecklenburg':'MV', 'niedersachsen':'NI', 'nordrhein':'NW', 'rheinland':'RP', 'saarland':'SL', 'sachsen':'SN', 'anhalt':'SA', 'schleswig':'SH', 'thüringen':'TH'}\n",
    "#formatting for response\n",
    "states_back = {'BW':'Baden-Württemberg', 'BY':'Bayern', 'BE':'Berlin', 'BB':'Brandenburg', 'HB':'Bremen', 'HH':'Hamburg', 'HE':'Hessen', 'MV':'Mecklenburg-Vorpommern', 'NI':'Niedersachen', 'NW':'Nordrhein-Westfalen', 'SL':'Saarland', 'SN':'Sachsen', 'SA':'Sachsen-Anhalt', 'SH':'Schleswig-Holstein', 'TH':'Thüringen'}\n",
    "#defines vaccine names in API\n",
    "vaccines_api = {'biontech':'biontech', 'biontek':'biontech', 'biontec':'biontech', 'moderna':'moderna', 'astraZeneca':'astraZeneca', 'astra':'astraZeneca', 'zeneca':'astraZeneca', 'delta':'delta'}\n",
    "#formatting vaccines for respionce\n",
    "vaccines_back = {'biontech':'Biontech', 'moderna':'Moderna', 'astraZeneca':'AstraZeneca', 'delta':'Delta'}\n",
    "\n",
    "import requests\n",
    "\n",
    "def dialogmanager():\n",
    "    input_s = do_input() #do_input() wird aufgerufen, um sich input zu holen\n",
    "    input_s = normalize(input_s)\n",
    "    while input_s and input_s != 'fertig': #wenn input-string 'fertig'  ist, wird Schleife nicht ausgeführt\n",
    "        semantics = semantic(input_s) #funktion gibt etwas zurück\n",
    "        result = data(semantics)\n",
    "        out_string = output(semantics, result)\n",
    "        tts(out_string)\n",
    "        input_s = do_input()\n",
    "\n",
    "#everything as lower case        \n",
    "def normalize(in_s):\n",
    "    return in_s.lower()        \n",
    "        \n",
    "def do_input():\n",
    "    return speech_input()\n",
    "\n",
    "#finds states and vaccines in input\n",
    "def semantic(input_s):\n",
    "    semantics = {'state':'', 'vaccine':''} #data structure\n",
    "    for key in states_api.keys():\n",
    "        if key in input_s:\n",
    "            semantics['state'] = states_api[key]\n",
    "    for key in vaccines_api.keys():\n",
    "        if key in input_s:\n",
    "            semantics['vaccine'] = vaccines_api[key]\n",
    "    return semantics\n",
    "\n",
    "#data from RKI API\n",
    "vaccinations = requests.get('https://api.corona-zahlen.org/vaccinations')\n",
    "def data(semantics):\n",
    "    s = semantics['state']\n",
    "    v = semantics['vaccine']\n",
    "    if s: #state given\n",
    "        if s != 'DE':\n",
    "            if v: #and vaccine given\n",
    "                vacc_number = vaccinations.json()[\"data\"][\"states\"][s][\"vaccination\"][v] #\n",
    "            else: #all vaccines for state\n",
    "                vacc_number = vaccinations.json()[\"data\"][\"states\"][s][\"vaccinated\"]\n",
    "        else:\n",
    "            if v: #and vaccine given\n",
    "                vacc_number = vaccinations.json()[\"data\"][\"vaccination\"][v]\n",
    "            else: #all vaccines in Germany\n",
    "                vacc_number = vaccinations.json()[\"data\"][\"vaccinated\"]\n",
    "    else: #no state\n",
    "        if v: #but vaccine\n",
    "            vacc_number = vaccinations.json()[\"data\"][\"vaccination\"][v]\n",
    "        else: #nothing given\n",
    "            vacc_number = None\n",
    "    return vacc_number\n",
    "\n",
    "def output(semantics, results): #fügt gut oder schlecht ein\n",
    "    ret = ''\n",
    "    s = semantics['state']\n",
    "    v = semantics['vaccine']\n",
    "    if s: #if state is given\n",
    "        s = states_back[semantics['state']]\n",
    "        if v: #vaccine also given\n",
    "            v = vaccines_back[semantics['vaccine']]\n",
    "            ret = 'Die Impfungen für {} mit {} sind {}'.format(s, v, results) #formatting\n",
    "        else: #all vaccines for states\n",
    "            ret = 'Die Impfungen für {} sind {}'.format(s, results)\n",
    "    else: #no state\n",
    "        if v: #but vaccine\n",
    "            v = vaccines_back[semantics['vaccine']]\n",
    "            ret = 'Die Impfungen in Deutschland mit {} sind {}'.format(v, results)\n",
    "        else: #nothing given\n",
    "            ret = 'Diese Frage kann ich leider nicht beantworten'\n",
    "    return ret\n",
    "        \n",
    "def do_error():\n",
    "    return 'Bitte wählen Sie ein Bundesland um die Coronazahlen zu erhalten'"
   ]
  }
 ],
 "metadata": {
  "kernelspec": {
   "display_name": "dialog_env",
   "language": "python",
   "name": "dialog_env"
  },
  "language_info": {
   "codemirror_mode": {
    "name": "ipython",
    "version": 3
   },
   "file_extension": ".py",
   "mimetype": "text/x-python",
   "name": "python",
   "nbconvert_exporter": "python",
   "pygments_lexer": "ipython3",
   "version": "3.9.6"
  }
 },
 "nbformat": 4,
 "nbformat_minor": 5
}
