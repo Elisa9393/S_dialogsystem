{
 "cells": [
  {
   "cell_type": "code",
   "execution_count": 11,
   "id": "4fadc314",
   "metadata": {},
   "outputs": [
    {
     "name": "stdout",
     "output_type": "stream",
     "text": [
      "{'BW': {'name': 'Baden-Württemberg', 'administeredVaccinations': 6571944, 'vaccinated': 4634746, 'vaccination': {'biontech': 3148509, 'moderna': 385342, 'astraZeneca': 1100895}, 'delta': 14464, 'quote': 0.4175298642552688, 'secondVaccination': {'vaccinated': 1937198, 'vaccination': {'biontech': 1610216, 'moderna': 142110, 'astraZeneca': 119781, 'janssen': 65091}, 'delta': 31380, 'quote': 0.17451614780520402}, 'indication': {'age': None, 'job': None, 'medical': None, 'nursingHome': None, 'secondVaccination': {'age': None, 'job': None, 'medical': None, 'nursingHome': None}}}, 'BY': {'name': 'Bayern', 'administeredVaccinations': 7812062, 'vaccinated': 5527638, 'vaccination': {'biontech': 3886805, 'moderna': 390322, 'astraZeneca': 1250511}, 'delta': 6231, 'quote': 0.4211618107090451, 'secondVaccination': {'vaccinated': 2284424, 'vaccination': {'biontech': 1948910, 'moderna': 166239, 'astraZeneca': 105991, 'janssen': 63284}, 'delta': 35003, 'quote': 0.17405484010841513}, 'indication': {'age': None, 'job': None, 'medical': None, 'nursingHome': None, 'secondVaccination': {'age': None, 'job': None, 'medical': None, 'nursingHome': None}}}, 'BE': {'name': 'Berlin', 'administeredVaccinations': 2147543, 'vaccinated': 1500535, 'vaccination': {'biontech': 1017714, 'moderna': 150963, 'astraZeneca': 331858}, 'delta': 8212, 'quote': 0.4089218368433115, 'secondVaccination': {'vaccinated': 647008, 'vaccination': {'biontech': 555679, 'moderna': 59608, 'astraZeneca': 16456, 'janssen': 15265}, 'delta': 5657, 'quote': 0.17632091208290196}, 'indication': {'age': None, 'job': None, 'medical': None, 'nursingHome': None, 'secondVaccination': {'age': None, 'job': None, 'medical': None, 'nursingHome': None}}}, 'BB': {'name': 'Brandenburg', 'administeredVaccinations': 1405280, 'vaccinated': 955763, 'vaccination': {'biontech': 651766, 'moderna': 72018, 'astraZeneca': 231979}, 'delta': 113, 'quote': 0.37898634081620436, 'secondVaccination': {'vaccinated': 449517, 'vaccination': {'biontech': 361344, 'moderna': 48648, 'astraZeneca': 27270, 'janssen': 12255}, 'delta': 247, 'quote': 0.17824586530832195}, 'indication': {'age': None, 'job': None, 'medical': None, 'nursingHome': None, 'secondVaccination': {'age': None, 'job': None, 'medical': None, 'nursingHome': None}}}, 'HB': {'name': 'Bremen', 'administeredVaccinations': 445975, 'vaccinated': 299977, 'vaccination': {'biontech': 194312, 'moderna': 17856, 'astraZeneca': 87809}, 'delta': 2081, 'quote': 0.4403642385078142, 'secondVaccination': {'vaccinated': 145998, 'vaccination': {'biontech': 121745, 'moderna': 10344, 'astraZeneca': 5621, 'janssen': 8288}, 'delta': 1026, 'quote': 0.21432409182591947}, 'indication': {'age': None, 'job': None, 'medical': None, 'nursingHome': None, 'secondVaccination': {'age': None, 'job': None, 'medical': None, 'nursingHome': None}}}, 'HH': {'name': 'Hamburg', 'administeredVaccinations': 1064120, 'vaccinated': 750567, 'vaccination': {'biontech': 502486, 'moderna': 79092, 'astraZeneca': 168989}, 'delta': 889, 'quote': 0.40631521507882246, 'secondVaccination': {'vaccinated': 313553, 'vaccination': {'biontech': 278321, 'moderna': 21731, 'astraZeneca': 6077, 'janssen': 7424}, 'delta': 9391, 'quote': 0.16974014929194867}, 'indication': {'age': None, 'job': None, 'medical': None, 'nursingHome': None, 'secondVaccination': {'age': None, 'job': None, 'medical': None, 'nursingHome': None}}}, 'HE': {'name': 'Hessen', 'administeredVaccinations': 3678506, 'vaccinated': 2686761, 'vaccination': {'biontech': 1794655, 'moderna': 223360, 'astraZeneca': 668746}, 'delta': 10266, 'quote': 0.4272784379333596, 'secondVaccination': {'vaccinated': 991745, 'vaccination': {'biontech': 825256, 'moderna': 58472, 'astraZeneca': 86080, 'janssen': 21937}, 'delta': 15892, 'quote': 0.15771825422068422}, 'indication': {'age': None, 'job': None, 'medical': None, 'nursingHome': None, 'secondVaccination': {'age': None, 'job': None, 'medical': None, 'nursingHome': None}}}, 'MV': {'name': 'Mecklenburg-Vorpommern', 'administeredVaccinations': 978699, 'vaccinated': 698989, 'vaccination': {'biontech': 504720, 'moderna': 57121, 'astraZeneca': 137148}, 'delta': 191, 'quote': 0.43465734905835196, 'secondVaccination': {'vaccinated': 279710, 'vaccination': {'biontech': 243002, 'moderna': 19650, 'astraZeneca': 9053, 'janssen': 8005}, 'delta': 577, 'quote': 0.173934077796806}, 'indication': {'age': None, 'job': None, 'medical': None, 'nursingHome': None, 'secondVaccination': {'age': None, 'job': None, 'medical': None, 'nursingHome': None}}}, 'NI': {'name': 'Niedersachsen', 'administeredVaccinations': 4684626, 'vaccinated': 3416165, 'vaccination': {'biontech': 2189512, 'moderna': 217221, 'astraZeneca': 1009432}, 'delta': 6592, 'quote': 0.4273620873077589, 'secondVaccination': {'vaccinated': 1268461, 'vaccination': {'biontech': 1054281, 'moderna': 103433, 'astraZeneca': 47738, 'janssen': 63009}, 'delta': 3602, 'quote': 0.15868441384666349}, 'indication': {'age': None, 'job': None, 'medical': None, 'nursingHome': None, 'secondVaccination': {'age': None, 'job': None, 'medical': None, 'nursingHome': None}}}, 'NW': {'name': 'Nordrhein-Westfalen', 'administeredVaccinations': 11199070, 'vaccinated': 8134582, 'vaccination': {'biontech': 5461025, 'moderna': 618368, 'astraZeneca': 2055189}, 'delta': 27137, 'quote': 0.45325022743075377, 'secondVaccination': {'vaccinated': 3064488, 'vaccination': {'biontech': 2708669, 'moderna': 160700, 'astraZeneca': 108087, 'janssen': 87032}, 'delta': 44917, 'quote': 0.1707500007939948}, 'indication': {'age': None, 'job': None, 'medical': None, 'nursingHome': None, 'secondVaccination': {'age': None, 'job': None, 'medical': None, 'nursingHome': None}}}, 'RP': {'name': 'Rheinland-Pfalz', 'administeredVaccinations': 2439326, 'vaccinated': 1667301, 'vaccination': {'biontech': 1145711, 'moderna': 124094, 'astraZeneca': 397496}, 'delta': 2700, 'quote': 0.4072644124689813, 'secondVaccination': {'vaccinated': 772025, 'vaccination': {'biontech': 670329, 'moderna': 45766, 'astraZeneca': 41374, 'janssen': 14556}, 'delta': 4773, 'quote': 0.18857921157389415}, 'indication': {'age': None, 'job': None, 'medical': None, 'nursingHome': None, 'secondVaccination': {'age': None, 'job': None, 'medical': None, 'nursingHome': None}}}, 'SL': {'name': 'Saarland', 'administeredVaccinations': 655459, 'vaccinated': 452827, 'vaccination': {'biontech': 344923, 'moderna': 33026, 'astraZeneca': 74878}, 'delta': 144, 'quote': 0.4588438189985277, 'secondVaccination': {'vaccinated': 202632, 'vaccination': {'biontech': 176661, 'moderna': 14964, 'astraZeneca': 7808, 'janssen': 3199}, 'delta': 901, 'quote': 0.20532441910776003}, 'indication': {'age': None, 'job': None, 'medical': None, 'nursingHome': None, 'secondVaccination': {'age': None, 'job': None, 'medical': None, 'nursingHome': None}}}, 'SN': {'name': 'Sachsen', 'administeredVaccinations': 2375819, 'vaccinated': 1523511, 'vaccination': {'biontech': 1047566, 'moderna': 154977, 'astraZeneca': 320968}, 'delta': 8247, 'quote': 0.3741458374826344, 'secondVaccination': {'vaccinated': 852308, 'vaccination': {'biontech': 751757, 'moderna': 61200, 'astraZeneca': 21191, 'janssen': 18160}, 'delta': 7347, 'quote': 0.20931092092748205}, 'indication': {'age': None, 'job': None, 'medical': None, 'nursingHome': None, 'secondVaccination': {'age': None, 'job': None, 'medical': None, 'nursingHome': None}}}, 'ST': {'name': 'Sachsen-Anhalt', 'administeredVaccinations': 1258550, 'vaccinated': 882306, 'vaccination': {'biontech': 627093, 'moderna': 70686, 'astraZeneca': 184527}, 'delta': 378, 'quote': 0.40200165665656085, 'secondVaccination': {'vaccinated': 376244, 'vaccination': {'biontech': 309631, 'moderna': 38313, 'astraZeneca': 14533, 'janssen': 13767}, 'delta': 1857, 'quote': 0.1714265927094354}, 'indication': {'age': None, 'job': None, 'medical': None, 'nursingHome': None, 'secondVaccination': {'age': None, 'job': None, 'medical': None, 'nursingHome': None}}}, 'SH': {'name': 'Schleswig-Holstein', 'administeredVaccinations': 1804535, 'vaccinated': 1230213, 'vaccination': {'biontech': 853278, 'moderna': 83825, 'astraZeneca': 293110}, 'delta': 8522, 'quote': 0.4236601828035456, 'secondVaccination': {'vaccinated': 574322, 'vaccination': {'biontech': 477788, 'moderna': 47239, 'astraZeneca': 30614, 'janssen': 18681}, 'delta': 5390, 'quote': 0.19778474419315833}, 'indication': {'age': None, 'job': None, 'medical': None, 'nursingHome': None, 'secondVaccination': {'age': None, 'job': None, 'medical': None, 'nursingHome': None}}}, 'TH': {'name': 'Thüringen', 'administeredVaccinations': 1275823, 'vaccinated': 859619, 'vaccination': {'biontech': 603122, 'moderna': 99448, 'astraZeneca': 157049}, 'delta': 2613, 'quote': 0.40293796973625867, 'secondVaccination': {'vaccinated': 416204, 'vaccination': {'biontech': 370620, 'moderna': 24601, 'astraZeneca': 14777, 'janssen': 6206}, 'delta': 4187, 'quote': 0.19509154027087558}, 'indication': {'age': None, 'job': None, 'medical': None, 'nursingHome': None, 'secondVaccination': {'age': None, 'job': None, 'medical': None, 'nursingHome': None}}}, 'Bund': {'name': 'Impfzentren Bund*', 'administeredVaccinations': 143392, 'vaccinated': 104177, 'vaccination': {'biontech': 16892, 'moderna': 68987, 'astraZeneca': 18298}, 'delta': 0, 'quote': None, 'secondVaccination': {'vaccinated': 39215, 'vaccination': {'biontech': 1375, 'moderna': 30493, 'astraZeneca': 3776, 'janssen': None}, 'delta': 0, 'quote': None}, 'indication': {'age': None, 'job': None, 'medical': None, 'nursingHome': None, 'secondVaccination': {'age': None, 'job': None, 'medical': None, 'nursingHome': None}}}}\n",
      "4634746\n",
      "{'biontech': 3148509, 'moderna': 385342, 'astraZeneca': 1100895}\n"
     ]
    }
   ],
   "source": [
    "states_d = {'schleswig': 'SH', 'hamburg': 'HH', 'berlin':'BE', }\n",
    "import requests\n",
    "def dialogmanager():\n",
    "    input_s = do_input()\n",
    "    while input_s != 'fertig':\n",
    "        semantics = semantic(input_s)\n",
    "        result = data(semantics)\n",
    "        out_string = output(result)\n",
    "        print(out_string)\n",
    "        input_s = do_input()\n",
    "    \n",
    "def do_input():\n",
    "    return input('> ')\n",
    "\n",
    "def output(results):\n",
    "    return 'Die Corona Zahlen sind {}'.format(results)\n",
    "\n",
    "# in semantic-schleife durch json-datei gehen\n",
    "def semantic(input_s):\n",
    "    semantics = []\n",
    "#    if input_s[0] == 'a':\n",
    "#        semantics.append('BE')\n",
    "#    return semantics\n",
    " \n",
    "vacc_number = vaccinations.json()[\"data\"][\"states\"]\n",
    "print(vacc_number)\n",
    "Land=vacc_number['BW']\n",
    "\n",
    "#print(Land)\n",
    "#Land['vaccination']\n",
    "\n",
    "#for i in Land:\n",
    "#    print(i)\n",
    "print(Land['vaccinated'])\n",
    "print(Land['vaccination'])\n",
    "#def data(semantics):\n",
    "#    if semantics[0] == 'x':\n",
    "#        return 'gut'\n",
    "#    else:\n",
    "#        return 'schlecht'\n",
    "    "
   ]
  },
  {
   "cell_type": "code",
   "execution_count": 12,
   "id": "8ca98f9a",
   "metadata": {
    "scrolled": true
   },
   "outputs": [],
   "source": [
    "vaccinations = requests.get('https://api.corona-zahlen.org/vaccinations')\n",
    "def data(semantics):\n",
    "    if len(semantics) == 0 or semantics[0] == None:\n",
    "        vacc_number = vaccinations.json()['data']['vaccinated']\n",
    "    else:\n",
    "        if len(semantics) == 1 or semantics[1] == None:\n",
    "            vacc_number = vaccinations.json()['data']['states'][semantics[0]]['vaccinated']\n",
    "        else:\n",
    "            vacc_number = vaccinations.json()['data']['states'][land]['vaccination'][semantics[1]]\n",
    "    return vacc_number\n",
    "            "
   ]
  },
  {
   "cell_type": "code",
   "execution_count": 13,
   "id": "186826d0",
   "metadata": {},
   "outputs": [
    {
     "name": "stdout",
     "output_type": "stream",
     "text": [
      "> huhu\n"
     ]
    },
    {
     "ename": "TypeError",
     "evalue": "object of type 'NoneType' has no len()",
     "output_type": "error",
     "traceback": [
      "\u001b[1;31m---------------------------------------------------------------------------\u001b[0m",
      "\u001b[1;31mTypeError\u001b[0m                                 Traceback (most recent call last)",
      "\u001b[1;32m<ipython-input-13-7e0404af9790>\u001b[0m in \u001b[0;36m<module>\u001b[1;34m\u001b[0m\n\u001b[1;32m----> 1\u001b[1;33m \u001b[0mdialogmanager\u001b[0m\u001b[1;33m(\u001b[0m\u001b[1;33m)\u001b[0m\u001b[1;33m\u001b[0m\u001b[1;33m\u001b[0m\u001b[0m\n\u001b[0m",
      "\u001b[1;32m<ipython-input-11-d5f073b1583d>\u001b[0m in \u001b[0;36mdialogmanager\u001b[1;34m()\u001b[0m\n\u001b[0;32m      4\u001b[0m     \u001b[1;32mwhile\u001b[0m \u001b[0minput_s\u001b[0m \u001b[1;33m!=\u001b[0m \u001b[1;34m'fertig'\u001b[0m\u001b[1;33m:\u001b[0m\u001b[1;33m\u001b[0m\u001b[1;33m\u001b[0m\u001b[0m\n\u001b[0;32m      5\u001b[0m         \u001b[0msemantics\u001b[0m \u001b[1;33m=\u001b[0m \u001b[0msemantic\u001b[0m\u001b[1;33m(\u001b[0m\u001b[0minput_s\u001b[0m\u001b[1;33m)\u001b[0m\u001b[1;33m\u001b[0m\u001b[1;33m\u001b[0m\u001b[0m\n\u001b[1;32m----> 6\u001b[1;33m         \u001b[0mresult\u001b[0m \u001b[1;33m=\u001b[0m \u001b[0mdata\u001b[0m\u001b[1;33m(\u001b[0m\u001b[0msemantics\u001b[0m\u001b[1;33m)\u001b[0m\u001b[1;33m\u001b[0m\u001b[1;33m\u001b[0m\u001b[0m\n\u001b[0m\u001b[0;32m      7\u001b[0m         \u001b[0mout_string\u001b[0m \u001b[1;33m=\u001b[0m \u001b[0moutput\u001b[0m\u001b[1;33m(\u001b[0m\u001b[0mresult\u001b[0m\u001b[1;33m)\u001b[0m\u001b[1;33m\u001b[0m\u001b[1;33m\u001b[0m\u001b[0m\n\u001b[0;32m      8\u001b[0m         \u001b[0mprint\u001b[0m\u001b[1;33m(\u001b[0m\u001b[0mout_string\u001b[0m\u001b[1;33m)\u001b[0m\u001b[1;33m\u001b[0m\u001b[1;33m\u001b[0m\u001b[0m\n",
      "\u001b[1;32m<ipython-input-12-ffd392ee005a>\u001b[0m in \u001b[0;36mdata\u001b[1;34m(semantics)\u001b[0m\n\u001b[0;32m      1\u001b[0m \u001b[0mvaccinations\u001b[0m \u001b[1;33m=\u001b[0m \u001b[0mrequests\u001b[0m\u001b[1;33m.\u001b[0m\u001b[0mget\u001b[0m\u001b[1;33m(\u001b[0m\u001b[1;34m'https://api.corona-zahlen.org/vaccinations'\u001b[0m\u001b[1;33m)\u001b[0m\u001b[1;33m\u001b[0m\u001b[1;33m\u001b[0m\u001b[0m\n\u001b[0;32m      2\u001b[0m \u001b[1;32mdef\u001b[0m \u001b[0mdata\u001b[0m\u001b[1;33m(\u001b[0m\u001b[0msemantics\u001b[0m\u001b[1;33m)\u001b[0m\u001b[1;33m:\u001b[0m\u001b[1;33m\u001b[0m\u001b[1;33m\u001b[0m\u001b[0m\n\u001b[1;32m----> 3\u001b[1;33m     \u001b[1;32mif\u001b[0m \u001b[0mlen\u001b[0m\u001b[1;33m(\u001b[0m\u001b[0msemantics\u001b[0m\u001b[1;33m)\u001b[0m \u001b[1;33m==\u001b[0m \u001b[1;36m0\u001b[0m \u001b[1;32mor\u001b[0m \u001b[0msemantics\u001b[0m\u001b[1;33m[\u001b[0m\u001b[1;36m0\u001b[0m\u001b[1;33m]\u001b[0m \u001b[1;33m==\u001b[0m \u001b[1;32mNone\u001b[0m\u001b[1;33m:\u001b[0m\u001b[1;33m\u001b[0m\u001b[1;33m\u001b[0m\u001b[0m\n\u001b[0m\u001b[0;32m      4\u001b[0m         \u001b[0mvacc_number\u001b[0m \u001b[1;33m=\u001b[0m \u001b[0mvaccinations\u001b[0m\u001b[1;33m.\u001b[0m\u001b[0mjson\u001b[0m\u001b[1;33m(\u001b[0m\u001b[1;33m)\u001b[0m\u001b[1;33m[\u001b[0m\u001b[1;34m'data'\u001b[0m\u001b[1;33m]\u001b[0m\u001b[1;33m[\u001b[0m\u001b[1;34m'vaccinated'\u001b[0m\u001b[1;33m]\u001b[0m\u001b[1;33m\u001b[0m\u001b[1;33m\u001b[0m\u001b[0m\n\u001b[0;32m      5\u001b[0m     \u001b[1;32melse\u001b[0m\u001b[1;33m:\u001b[0m\u001b[1;33m\u001b[0m\u001b[1;33m\u001b[0m\u001b[0m\n",
      "\u001b[1;31mTypeError\u001b[0m: object of type 'NoneType' has no len()"
     ]
    }
   ],
   "source": [
    "dialogmanager()"
   ]
  },
  {
   "cell_type": "code",
   "execution_count": 8,
   "id": "ded738bb",
   "metadata": {},
   "outputs": [
    {
     "ename": "TypeError",
     "evalue": "'int' object is not subscriptable",
     "output_type": "error",
     "traceback": [
      "\u001b[1;31m---------------------------------------------------------------------------\u001b[0m",
      "\u001b[1;31mTypeError\u001b[0m                                 Traceback (most recent call last)",
      "\u001b[1;32m<ipython-input-8-66eeedefecf7>\u001b[0m in \u001b[0;36m<module>\u001b[1;34m\u001b[0m\n\u001b[0;32m      1\u001b[0m \u001b[0mvaccinations\u001b[0m \u001b[1;33m=\u001b[0m \u001b[0mrequests\u001b[0m\u001b[1;33m.\u001b[0m\u001b[0mget\u001b[0m\u001b[1;33m(\u001b[0m\u001b[1;34m'https://api.corona-zahlen.org/vaccinations'\u001b[0m\u001b[1;33m)\u001b[0m\u001b[1;33m\u001b[0m\u001b[1;33m\u001b[0m\u001b[0m\n\u001b[0;32m      2\u001b[0m \u001b[0mland\u001b[0m\u001b[1;33m=\u001b[0m\u001b[1;34m'BE'\u001b[0m\u001b[1;33m\u001b[0m\u001b[1;33m\u001b[0m\u001b[0m\n\u001b[1;32m----> 3\u001b[1;33m \u001b[0mprint\u001b[0m\u001b[1;33m(\u001b[0m\u001b[0mvaccinations\u001b[0m\u001b[1;33m.\u001b[0m\u001b[0mjson\u001b[0m\u001b[1;33m(\u001b[0m\u001b[1;33m)\u001b[0m\u001b[1;33m[\u001b[0m\u001b[1;34m\"data\"\u001b[0m\u001b[1;33m]\u001b[0m\u001b[1;33m[\u001b[0m\u001b[1;34m\"states\"\u001b[0m\u001b[1;33m]\u001b[0m\u001b[1;33m[\u001b[0m\u001b[0mland\u001b[0m\u001b[1;33m]\u001b[0m\u001b[1;33m[\u001b[0m\u001b[1;34m'vaccinated'\u001b[0m\u001b[1;33m]\u001b[0m\u001b[1;33m[\u001b[0m\u001b[1;34m'biontech'\u001b[0m\u001b[1;33m]\u001b[0m\u001b[1;33m)\u001b[0m\u001b[1;33m\u001b[0m\u001b[1;33m\u001b[0m\u001b[0m\n\u001b[0m",
      "\u001b[1;31mTypeError\u001b[0m: 'int' object is not subscriptable"
     ]
    }
   ],
   "source": [
    "vaccinations = requests.get('https://api.corona-zahlen.org/vaccinations')\n",
    "land='BE'\n",
    "print(vaccinations.json()[\"data\"][\"states\"][land]['vaccinated']['biontech'])"
   ]
  },
  {
   "cell_type": "code",
   "execution_count": 6,
   "id": "0f823eff",
   "metadata": {},
   "outputs": [
    {
     "ename": "NameError",
     "evalue": "name 'vaccinations' is not defined",
     "output_type": "error",
     "traceback": [
      "\u001b[1;31m---------------------------------------------------------\u001b[0m",
      "\u001b[1;31mNameError\u001b[0m               Traceback (most recent call last)",
      "\u001b[1;32m<ipython-input-6-d2be9a02d6ea>\u001b[0m in \u001b[0;36m<module>\u001b[1;34m\u001b[0m\n\u001b[1;32m----> 1\u001b[1;33m \u001b[0mprint\u001b[0m\u001b[1;33m(\u001b[0m\u001b[0mvaccinations\u001b[0m\u001b[1;33m.\u001b[0m\u001b[0mjson\u001b[0m\u001b[1;33m(\u001b[0m\u001b[1;33m)\u001b[0m\u001b[1;33m[\u001b[0m\u001b[1;34m'data'\u001b[0m\u001b[1;33m]\u001b[0m\u001b[1;33m[\u001b[0m\u001b[1;34m'vaccinated'\u001b[0m\u001b[1;33m]\u001b[0m\u001b[1;33m)\u001b[0m\u001b[1;33m\u001b[0m\u001b[1;33m\u001b[0m\u001b[0m\n\u001b[0m",
      "\u001b[1;31mNameError\u001b[0m: name 'vaccinations' is not defined"
     ]
    }
   ],
   "source": [
    "print(vaccinations.json()['data']['vaccinated'])"
   ]
  }
 ],
 "metadata": {
  "kernelspec": {
   "display_name": "dialog_env",
   "language": "python",
   "name": "dialog_env"
  },
  "language_info": {
   "codemirror_mode": {
    "name": "ipython",
    "version": 3
   },
   "file_extension": ".py",
   "mimetype": "text/x-python",
   "name": "python",
   "nbconvert_exporter": "python",
   "pygments_lexer": "ipython3",
   "version": "3.9.5"
  }
 },
 "nbformat": 4,
 "nbformat_minor": 5
}
