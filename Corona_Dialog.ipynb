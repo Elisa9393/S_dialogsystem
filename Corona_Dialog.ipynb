{
 "cells": [
  {
   "cell_type": "code",
   "execution_count": 5,
   "id": "4fadc314",
   "metadata": {},
   "outputs": [
    {
     "name": "stdout",
     "output_type": "stream",
     "text": [
      "{'BW': {'name': 'Baden-Württemberg', 'administeredVaccinations': 12128476, 'vaccinated': 6619774, 'vaccination': {'biontech': 4618508, 'moderna': 533080, 'astraZeneca': 1169805, 'janssen': 298381}, 'delta': 13938, 'quote': 0.596, 'secondVaccination': {'vaccinated': 5807083, 'vaccination': {'biontech': 4535651, 'moderna': 583633, 'astraZeneca': 389418, 'janssen': 298381}, 'delta': 71273, 'quote': 0.523}, 'indication': {'age': None, 'job': None, 'medical': None, 'nursingHome': None, 'secondVaccination': {'age': None, 'job': None, 'medical': None, 'nursingHome': None}}}, 'BY': {'name': 'Bayern', 'administeredVaccinations': 13929801, 'vaccinated': 7771626, 'vaccination': {'biontech': 5492939, 'moderna': 637123, 'astraZeneca': 1326982, 'janssen': 314582}, 'delta': 16504, 'quote': 0.5920000000000001, 'secondVaccination': {'vaccinated': 6472757, 'vaccination': {'biontech': 5007817, 'moderna': 613422, 'astraZeneca': 536936, 'janssen': 314582}, 'delta': 81693, 'quote': 0.493}, 'indication': {'age': None, 'job': None, 'medical': None, 'nursingHome': None, 'secondVaccination': {'age': None, 'job': None, 'medical': None, 'nursingHome': None}}}, 'BE': {'name': 'Berlin', 'administeredVaccinations': 3997695, 'vaccinated': 2227362, 'vaccination': {'biontech': 1544813, 'moderna': 256504, 'astraZeneca': 341714, 'janssen': 84331}, 'delta': 5635, 'quote': 0.607, 'secondVaccination': {'vaccinated': 1854664, 'vaccination': {'biontech': 1402880, 'moderna': 249930, 'astraZeneca': 117523, 'janssen': 84331}, 'delta': 15413, 'quote': 0.505}, 'indication': {'age': None, 'job': None, 'medical': None, 'nursingHome': None, 'secondVaccination': {'age': None, 'job': None, 'medical': None, 'nursingHome': None}}}, 'BB': {'name': 'Brandenburg', 'administeredVaccinations': 2550470, 'vaccinated': 1403983, 'vaccination': {'biontech': 957281, 'moderna': 124256, 'astraZeneca': 248596, 'janssen': 73850}, 'delta': 2659, 'quote': 0.557, 'secondVaccination': {'vaccinated': 1220337, 'vaccination': {'biontech': 923644, 'moderna': 115246, 'astraZeneca': 107597, 'janssen': 73850}, 'delta': 10367, 'quote': 0.484}, 'indication': {'age': None, 'job': None, 'medical': None, 'nursingHome': None, 'secondVaccination': {'age': None, 'job': None, 'medical': None, 'nursingHome': None}}}, 'HB': {'name': 'Bremen', 'administeredVaccinations': 859037, 'vaccinated': 479787, 'vaccination': {'biontech': 325241, 'moderna': 28289, 'astraZeneca': 97150, 'janssen': 29107}, 'delta': 1098, 'quote': 0.7040000000000001, 'secondVaccination': {'vaccinated': 408357, 'vaccination': {'biontech': 319792, 'moderna': 37652, 'astraZeneca': 21806, 'janssen': 29107}, 'delta': 5203, 'quote': 0.599}, 'indication': {'age': None, 'job': None, 'medical': None, 'nursingHome': None, 'secondVaccination': {'age': None, 'job': None, 'medical': None, 'nursingHome': None}}}, 'HH': {'name': 'Hamburg', 'administeredVaccinations': 2009874, 'vaccinated': 1170400, 'vaccination': {'biontech': 811016, 'moderna': 115903, 'astraZeneca': 188067, 'janssen': 55414}, 'delta': 3841, 'quote': 0.634, 'secondVaccination': {'vaccinated': 894888, 'vaccination': {'biontech': 667883, 'moderna': 132849, 'astraZeneca': 38742, 'janssen': 55414}, 'delta': 11212, 'quote': 0.484}, 'indication': {'age': None, 'job': None, 'medical': None, 'nursingHome': None, 'secondVaccination': {'age': None, 'job': None, 'medical': None, 'nursingHome': None}}}, 'HE': {'name': 'Hessen', 'administeredVaccinations': 6864562, 'vaccinated': 3849445, 'vaccination': {'biontech': 2640910, 'moderna': 324819, 'astraZeneca': 715905, 'janssen': 167811}, 'delta': 11440, 'quote': 0.612, 'secondVaccination': {'vaccinated': 3182928, 'vaccination': {'biontech': 2445513, 'moderna': 303201, 'astraZeneca': 266403, 'janssen': 167811}, 'delta': 28437, 'quote': 0.506}, 'indication': {'age': None, 'job': None, 'medical': None, 'nursingHome': None, 'secondVaccination': {'age': None, 'job': None, 'medical': None, 'nursingHome': None}}}, 'MV': {'name': 'Mecklenburg-Vorpommern', 'administeredVaccinations': 1746259, 'vaccinated': 959862, 'vaccination': {'biontech': 696751, 'moderna': 76733, 'astraZeneca': 145139, 'janssen': 41239}, 'delta': 2282, 'quote': 0.597, 'secondVaccination': {'vaccinated': 827636, 'vaccination': {'biontech': 647184, 'moderna': 75631, 'astraZeneca': 63582, 'janssen': 41239}, 'delta': 7630, 'quote': 0.515}, 'indication': {'age': None, 'job': None, 'medical': None, 'nursingHome': None, 'secondVaccination': {'age': None, 'job': None, 'medical': None, 'nursingHome': None}}}, 'NI': {'name': 'Niedersachsen', 'administeredVaccinations': 8941817, 'vaccinated': 5148150, 'vaccination': {'biontech': 3264319, 'moderna': 454602, 'astraZeneca': 1125579, 'janssen': 303650}, 'delta': 10119, 'quote': 0.644, 'secondVaccination': {'vaccinated': 4097317, 'vaccination': {'biontech': 3098876, 'moderna': 382640, 'astraZeneca': 312151, 'janssen': 303650}, 'delta': 46041, 'quote': 0.513}, 'indication': {'age': None, 'job': None, 'medical': None, 'nursingHome': None, 'secondVaccination': {'age': None, 'job': None, 'medical': None, 'nursingHome': None}}}, 'NW': {'name': 'Nordrhein-Westfalen', 'administeredVaccinations': 20611351, 'vaccinated': 11625986, 'vaccination': {'biontech': 8023933, 'moderna': 751104, 'astraZeneca': 2267946, 'janssen': 583003}, 'delta': 21811, 'quote': 0.648, 'secondVaccination': {'vaccinated': 9568368, 'vaccination': {'biontech': 7437189, 'moderna': 792757, 'astraZeneca': 755419, 'janssen': 583003}, 'delta': 77964, 'quote': 0.5329999999999999}, 'indication': {'age': None, 'job': None, 'medical': None, 'nursingHome': None, 'secondVaccination': {'age': None, 'job': None, 'medical': None, 'nursingHome': None}}}, 'RP': {'name': 'Rheinland-Pfalz', 'administeredVaccinations': 4586873, 'vaccinated': 2573095, 'vaccination': {'biontech': 1822050, 'moderna': 199756, 'astraZeneca': 437943, 'janssen': 113346}, 'delta': 5946, 'quote': 0.629, 'secondVaccination': {'vaccinated': 2127124, 'vaccination': {'biontech': 1632957, 'moderna': 205068, 'astraZeneca': 175753, 'janssen': 113346}, 'delta': 22708, 'quote': 0.52}, 'indication': {'age': None, 'job': None, 'medical': None, 'nursingHome': None, 'secondVaccination': {'age': None, 'job': None, 'medical': None, 'nursingHome': None}}}, 'SL': {'name': 'Saarland', 'administeredVaccinations': 1182196, 'vaccinated': 665057, 'vaccination': {'biontech': 498845, 'moderna': 54537, 'astraZeneca': 82908, 'janssen': 28767}, 'delta': 2386, 'quote': 0.674, 'secondVaccination': {'vaccinated': 545906, 'vaccination': {'biontech': 451399, 'moderna': 38664, 'astraZeneca': 27076, 'janssen': 28767}, 'delta': 5227, 'quote': 0.5529999999999999}, 'indication': {'age': None, 'job': None, 'medical': None, 'nursingHome': None, 'secondVaccination': {'age': None, 'job': None, 'medical': None, 'nursingHome': None}}}, 'SN': {'name': 'Sachsen', 'administeredVaccinations': 3953699, 'vaccinated': 2117634, 'vaccination': {'biontech': 1544920, 'moderna': 192371, 'astraZeneca': 305775, 'janssen': 74568}, 'delta': 4913, 'quote': 0.52, 'secondVaccination': {'vaccinated': 1910633, 'vaccination': {'biontech': 1489639, 'moderna': 178628, 'astraZeneca': 167798, 'janssen': 74568}, 'delta': 15615, 'quote': 0.469}, 'indication': {'age': None, 'job': None, 'medical': None, 'nursingHome': None, 'secondVaccination': {'age': None, 'job': None, 'medical': None, 'nursingHome': None}}}, 'ST': {'name': 'Sachsen-Anhalt', 'administeredVaccinations': 2277444, 'vaccinated': 1254519, 'vaccination': {'biontech': 880195, 'moderna': 111522, 'astraZeneca': 190825, 'janssen': 71977}, 'delta': 2855, 'quote': 0.5720000000000001, 'secondVaccination': {'vaccinated': 1094902, 'vaccination': {'biontech': 828460, 'moderna': 111354, 'astraZeneca': 83111, 'janssen': 71977}, 'delta': 10501, 'quote': 0.499}, 'indication': {'age': None, 'job': None, 'medical': None, 'nursingHome': None, 'secondVaccination': {'age': None, 'job': None, 'medical': None, 'nursingHome': None}}}, 'SH': {'name': 'Schleswig-Holstein', 'administeredVaccinations': 3382108, 'vaccinated': 1899744, 'vaccination': {'biontech': 1291757, 'moderna': 155504, 'astraZeneca': 357062, 'janssen': 95421}, 'delta': 4845, 'quote': 0.654, 'secondVaccination': {'vaccinated': 1577785, 'vaccination': {'biontech': 1201769, 'moderna': 146275, 'astraZeneca': 134320, 'janssen': 95421}, 'delta': 15795, 'quote': 0.5429999999999999}, 'indication': {'age': None, 'job': None, 'medical': None, 'nursingHome': None, 'secondVaccination': {'age': None, 'job': None, 'medical': None, 'nursingHome': None}}}, 'TH': {'name': 'Thüringen', 'administeredVaccinations': 2207662, 'vaccinated': 1183719, 'vaccination': {'biontech': 845567, 'moderna': 123891, 'astraZeneca': 168281, 'janssen': 45980}, 'delta': 2246, 'quote': 0.555, 'secondVaccination': {'vaccinated': 1069923, 'vaccination': {'biontech': 820810, 'moderna': 131739, 'astraZeneca': 71394, 'janssen': 45980}, 'delta': 9098, 'quote': 0.502}, 'indication': {'age': None, 'job': None, 'medical': None, 'nursingHome': None, 'secondVaccination': {'age': None, 'job': None, 'medical': None, 'nursingHome': None}}}, 'Bund': {'name': 'Bundesressorts', 'administeredVaccinations': 341933, 'vaccinated': 182809, 'vaccination': {'biontech': 78238, 'moderna': 81231, 'astraZeneca': 18419, 'janssen': 4921}, 'delta': 207, 'quote': None, 'secondVaccination': {'vaccinated': 164045, 'vaccination': {'biontech': 67210, 'moderna': 83374, 'astraZeneca': 8540, 'janssen': 4921}, 'delta': 1797, 'quote': None}, 'indication': {'age': None, 'job': None, 'medical': None, 'nursingHome': None, 'secondVaccination': {'age': None, 'job': None, 'medical': None, 'nursingHome': None}}}}\n",
      "6619774\n",
      "{'biontech': 4618508, 'moderna': 533080, 'astraZeneca': 1169805, 'janssen': 298381}\n"
     ]
    }
   ],
   "source": [
    "states_d = {'schleswig': 'SH', 'hamburg': 'HH', 'berlin':'BE', }\n",
    "import requests\n",
    "def dialogmanager():\n",
    "    input_s = do_input()\n",
    "    while input_s != 'fertig':\n",
    "        semantics = semantic(input_s)\n",
    "        result = data(semantics)\n",
    "        out_string = output(result)\n",
    "        print(out_string)\n",
    "        input_s = do_input()\n",
    "    \n",
    "def do_input():\n",
    "    return input('> ')\n",
    "\n",
    "def output(results):\n",
    "    return 'Die Corona Zahlen sind {}'.format(results)\n",
    "\n",
    "# in semantic-schleife durch json-datei gehen\n",
    "def semantic(input_s):\n",
    "    semantics = []\n",
    "#    if input_s[0] == 'a':\n",
    "#        semantics.append('BE')\n",
    "#    return semantics\n",
    " \n",
    "vacc_number = vaccinations.json()[\"data\"][\"states\"]\n",
    "print(vacc_number)\n",
    "Land=vacc_number['BW']\n",
    "\n",
    "#print(Land)\n",
    "#Land['vaccination']\n",
    "\n",
    "#for i in Land:\n",
    "#    print(i)\n",
    "print(Land['vaccinated'])\n",
    "print(Land['vaccination'])\n",
    "#def data(semantics):\n",
    "#    if semantics[0] == 'x':\n",
    "#        return 'gut'\n",
    "#    else:\n",
    "#        return 'schlecht'\n",
    "    "
   ]
  },
  {
   "cell_type": "code",
   "execution_count": 10,
   "id": "8ca98f9a",
   "metadata": {
    "scrolled": true
   },
   "outputs": [],
   "source": [
    "vaccinations = requests.get('https://api.corona-zahlen.org/vaccinations')\n",
    "def data(semantics):\n",
    "    if len(semantics) == 0 or semantics[0] == None:\n",
    "        vacc_number = vaccinations.json()['data']['vaccinated']\n",
    "    else:\n",
    "        if len(semantics) == 1 or semantics[1] == None:\n",
    "            vacc_number = vaccinations.json()['data']['states'][semantics[0]]['vaccinated']\n",
    "        else:\n",
    "            vacc_number = vaccinations.json()['data']['states'][land]['vaccination'][semantics[1]]\n",
    "    return vacc_number\n",
    "            "
   ]
  },
  {
   "cell_type": "code",
   "execution_count": 7,
   "id": "186826d0",
   "metadata": {},
   "outputs": [
    {
     "name": "stdout",
     "output_type": "stream",
     "text": [
      "> hallo\n"
     ]
    },
    {
     "ename": "TypeError",
     "evalue": "object of type 'NoneType' has no len()",
     "output_type": "error",
     "traceback": [
      "\u001b[1;31m---------------------------------------------------------------------------\u001b[0m",
      "\u001b[1;31mTypeError\u001b[0m                                 Traceback (most recent call last)",
      "\u001b[1;32m~\\AppData\\Local\\Temp/ipykernel_17340/2849869716.py\u001b[0m in \u001b[0;36m<module>\u001b[1;34m\u001b[0m\n\u001b[1;32m----> 1\u001b[1;33m \u001b[0mdialogmanager\u001b[0m\u001b[1;33m(\u001b[0m\u001b[1;33m)\u001b[0m\u001b[1;33m\u001b[0m\u001b[1;33m\u001b[0m\u001b[0m\n\u001b[0m",
      "\u001b[1;32m~\\AppData\\Local\\Temp/ipykernel_17340/4162664322.py\u001b[0m in \u001b[0;36mdialogmanager\u001b[1;34m()\u001b[0m\n\u001b[0;32m      5\u001b[0m     \u001b[1;32mwhile\u001b[0m \u001b[0minput_s\u001b[0m \u001b[1;33m!=\u001b[0m \u001b[1;34m'fertig'\u001b[0m\u001b[1;33m:\u001b[0m\u001b[1;33m\u001b[0m\u001b[1;33m\u001b[0m\u001b[0m\n\u001b[0;32m      6\u001b[0m         \u001b[0msemantics\u001b[0m \u001b[1;33m=\u001b[0m \u001b[0msemantic\u001b[0m\u001b[1;33m(\u001b[0m\u001b[0minput_s\u001b[0m\u001b[1;33m)\u001b[0m\u001b[1;33m\u001b[0m\u001b[1;33m\u001b[0m\u001b[0m\n\u001b[1;32m----> 7\u001b[1;33m         \u001b[0mresult\u001b[0m \u001b[1;33m=\u001b[0m \u001b[0mdata\u001b[0m\u001b[1;33m(\u001b[0m\u001b[0msemantics\u001b[0m\u001b[1;33m)\u001b[0m\u001b[1;33m\u001b[0m\u001b[1;33m\u001b[0m\u001b[0m\n\u001b[0m\u001b[0;32m      8\u001b[0m         \u001b[0mout_string\u001b[0m \u001b[1;33m=\u001b[0m \u001b[0moutput\u001b[0m\u001b[1;33m(\u001b[0m\u001b[0mresult\u001b[0m\u001b[1;33m)\u001b[0m\u001b[1;33m\u001b[0m\u001b[1;33m\u001b[0m\u001b[0m\n\u001b[0;32m      9\u001b[0m         \u001b[0mprint\u001b[0m\u001b[1;33m(\u001b[0m\u001b[0mout_string\u001b[0m\u001b[1;33m)\u001b[0m\u001b[1;33m\u001b[0m\u001b[1;33m\u001b[0m\u001b[0m\n",
      "\u001b[1;32m~\\AppData\\Local\\Temp/ipykernel_17340/824069928.py\u001b[0m in \u001b[0;36mdata\u001b[1;34m(semantics)\u001b[0m\n\u001b[0;32m      1\u001b[0m \u001b[0mvaccinations\u001b[0m \u001b[1;33m=\u001b[0m \u001b[0mrequests\u001b[0m\u001b[1;33m.\u001b[0m\u001b[0mget\u001b[0m\u001b[1;33m(\u001b[0m\u001b[1;34m'https://api.corona-zahlen.org/vaccinations'\u001b[0m\u001b[1;33m)\u001b[0m\u001b[1;33m\u001b[0m\u001b[1;33m\u001b[0m\u001b[0m\n\u001b[0;32m      2\u001b[0m \u001b[1;32mdef\u001b[0m \u001b[0mdata\u001b[0m\u001b[1;33m(\u001b[0m\u001b[0msemantics\u001b[0m\u001b[1;33m)\u001b[0m\u001b[1;33m:\u001b[0m\u001b[1;33m\u001b[0m\u001b[1;33m\u001b[0m\u001b[0m\n\u001b[1;32m----> 3\u001b[1;33m     \u001b[1;32mif\u001b[0m \u001b[0mlen\u001b[0m\u001b[1;33m(\u001b[0m\u001b[0msemantics\u001b[0m\u001b[1;33m)\u001b[0m \u001b[1;33m==\u001b[0m \u001b[1;36m0\u001b[0m \u001b[1;32mor\u001b[0m \u001b[0msemantics\u001b[0m\u001b[1;33m[\u001b[0m\u001b[1;36m0\u001b[0m\u001b[1;33m]\u001b[0m \u001b[1;33m==\u001b[0m \u001b[1;32mNone\u001b[0m\u001b[1;33m:\u001b[0m\u001b[1;33m\u001b[0m\u001b[1;33m\u001b[0m\u001b[0m\n\u001b[0m\u001b[0;32m      4\u001b[0m         \u001b[0mvacc_number\u001b[0m \u001b[1;33m=\u001b[0m \u001b[0mvaccinations\u001b[0m\u001b[1;33m.\u001b[0m\u001b[0mjson\u001b[0m\u001b[1;33m(\u001b[0m\u001b[1;33m)\u001b[0m\u001b[1;33m[\u001b[0m\u001b[1;34m'data'\u001b[0m\u001b[1;33m]\u001b[0m\u001b[1;33m[\u001b[0m\u001b[1;34m'vaccinated'\u001b[0m\u001b[1;33m]\u001b[0m\u001b[1;33m\u001b[0m\u001b[1;33m\u001b[0m\u001b[0m\n\u001b[0;32m      5\u001b[0m     \u001b[1;32melse\u001b[0m\u001b[1;33m:\u001b[0m\u001b[1;33m\u001b[0m\u001b[1;33m\u001b[0m\u001b[0m\n",
      "\u001b[1;31mTypeError\u001b[0m: object of type 'NoneType' has no len()"
     ]
    }
   ],
   "source": [
    "dialogmanager()"
   ]
  },
  {
   "cell_type": "code",
   "execution_count": 8,
   "id": "ded738bb",
   "metadata": {},
   "outputs": [
    {
     "ename": "TypeError",
     "evalue": "'int' object is not subscriptable",
     "output_type": "error",
     "traceback": [
      "\u001b[1;31m---------------------------------------------------------------------------\u001b[0m",
      "\u001b[1;31mTypeError\u001b[0m                                 Traceback (most recent call last)",
      "\u001b[1;32m~\\AppData\\Local\\Temp/ipykernel_17340/1124958295.py\u001b[0m in \u001b[0;36m<module>\u001b[1;34m\u001b[0m\n\u001b[0;32m      1\u001b[0m \u001b[0mvaccinations\u001b[0m \u001b[1;33m=\u001b[0m \u001b[0mrequests\u001b[0m\u001b[1;33m.\u001b[0m\u001b[0mget\u001b[0m\u001b[1;33m(\u001b[0m\u001b[1;34m'https://api.corona-zahlen.org/vaccinations'\u001b[0m\u001b[1;33m)\u001b[0m\u001b[1;33m\u001b[0m\u001b[1;33m\u001b[0m\u001b[0m\n\u001b[0;32m      2\u001b[0m \u001b[0mland\u001b[0m\u001b[1;33m=\u001b[0m\u001b[1;34m'BE'\u001b[0m\u001b[1;33m\u001b[0m\u001b[1;33m\u001b[0m\u001b[0m\n\u001b[1;32m----> 3\u001b[1;33m \u001b[0mprint\u001b[0m\u001b[1;33m(\u001b[0m\u001b[0mvaccinations\u001b[0m\u001b[1;33m.\u001b[0m\u001b[0mjson\u001b[0m\u001b[1;33m(\u001b[0m\u001b[1;33m)\u001b[0m\u001b[1;33m[\u001b[0m\u001b[1;34m\"data\"\u001b[0m\u001b[1;33m]\u001b[0m\u001b[1;33m[\u001b[0m\u001b[1;34m\"states\"\u001b[0m\u001b[1;33m]\u001b[0m\u001b[1;33m[\u001b[0m\u001b[0mland\u001b[0m\u001b[1;33m]\u001b[0m\u001b[1;33m[\u001b[0m\u001b[1;34m'vaccinated'\u001b[0m\u001b[1;33m]\u001b[0m\u001b[1;33m[\u001b[0m\u001b[1;34m'biontech'\u001b[0m\u001b[1;33m]\u001b[0m\u001b[1;33m)\u001b[0m\u001b[1;33m\u001b[0m\u001b[1;33m\u001b[0m\u001b[0m\n\u001b[0m",
      "\u001b[1;31mTypeError\u001b[0m: 'int' object is not subscriptable"
     ]
    }
   ],
   "source": [
    "vaccinations = requests.get('https://api.corona-zahlen.org/vaccinations')\n",
    "land='BE'\n",
    "print(vaccinations.json()[\"data\"][\"states\"][land]['vaccinated']['biontech'])"
   ]
  },
  {
   "cell_type": "code",
   "execution_count": 9,
   "id": "0f823eff",
   "metadata": {},
   "outputs": [
    {
     "name": "stdout",
     "output_type": "stream",
     "text": [
      "51132952\n"
     ]
    }
   ],
   "source": [
    "print(vaccinations.json()['data']['vaccinated'])"
   ]
  }
 ],
 "metadata": {
  "kernelspec": {
   "display_name": "dialog_env",
   "language": "python",
   "name": "dialog_env"
  },
  "language_info": {
   "codemirror_mode": {
    "name": "ipython",
    "version": 3
   },
   "file_extension": ".py",
   "mimetype": "text/x-python",
   "name": "python",
   "nbconvert_exporter": "python",
   "pygments_lexer": "ipython3",
   "version": "3.9.6"
  }
 },
 "nbformat": 4,
 "nbformat_minor": 5
}
